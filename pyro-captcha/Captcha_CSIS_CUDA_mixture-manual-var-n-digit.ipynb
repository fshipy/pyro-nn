{
 "cells": [
  {
   "cell_type": "markdown",
   "id": "banner-smith",
   "metadata": {
    "id": "banner-smith"
   },
   "source": [
    "uncomment if executing in google colab"
   ]
  },
  {
   "cell_type": "code",
   "execution_count": 1,
   "id": "center-syria",
   "metadata": {
    "id": "center-syria"
   },
   "outputs": [],
   "source": [
    "# ! pip uninstall pyro-ppl\n",
    "# ! pip install pyro-ppl==1.5.1\n",
    "# ! unzip fonts.zip \n",
    "# ! unzip claptchagen.zip\n",
    "# ! unzip csis\n",
    "# ! cp csis.py /usr/local/lib/python3.7/dist-packages/pyro/infer"
   ]
  },
  {
   "cell_type": "code",
   "execution_count": 2,
   "id": "intimate-postage",
   "metadata": {
    "colab": {
     "base_uri": "https://localhost:8080/"
    },
    "id": "intimate-postage",
    "outputId": "f18a10f4-cecc-4172-a7f6-1e4fe2fa1bb9"
   },
   "outputs": [
    {
     "name": "stdout",
     "output_type": "stream",
     "text": [
      "1.7.0\n",
      "number of samples in group 0\n",
      "number of samples in group 1036\n",
      "text 97 captcha shape (24, 60) noise 0.477251435734719 blend_alpha 0.8724472487003851\n",
      "text 33 captcha shape (24, 60) noise 0.5815197419008579 blend_alpha 0.98486037728\n",
      "text 29 captcha shape (24, 60) noise 0.3207238477743688 blend_alpha 0.6808204696326623\n",
      "text 39 captcha shape (24, 60) noise 0.6744849623987603 blend_alpha 0.8273497902960264\n",
      "text 02 captcha shape (24, 60) noise 0.020024701809276856 blend_alpha 0.8333371015696687\n",
      "text 51 captcha shape (24, 60) noise 0.28776636960707463 blend_alpha 0.8464852302475454\n",
      "text 07 captcha shape (24, 60) noise 0.20499977646135126 blend_alpha 0.7374761795806026\n",
      "text 50 captcha shape (24, 60) noise 0.2642265890726464 blend_alpha 0.8312775644455194\n",
      "text 18 captcha shape (24, 60) noise 0.5836103625864999 blend_alpha 0.7250616911210566\n",
      "text 54 captcha shape (24, 60) noise 0.3416252606557695 blend_alpha 0.8930274749834808\n",
      "text 73 captcha shape (24, 60) noise 0.42031834018553793 blend_alpha 0.6820085540207964\n",
      "number of samples in group 978\n",
      "text 604 captcha shape (24, 60) noise 0.2855672155050812 blend_alpha 0.7233167128134215\n",
      "text 300 captcha shape (24, 60) noise 0.13284971109719557 blend_alpha 0.8064949469847087\n",
      "text 650 captcha shape (24, 60) noise 0.2802029883362709 blend_alpha 0.9400268959271285\n",
      "text 000 captcha shape (24, 60) noise 0.6243985645263166 blend_alpha 0.6139095323985007\n",
      "text 229 captcha shape (24, 60) noise 0.24426012807391556 blend_alpha 0.8865528865752599\n",
      "text 396 captcha shape (24, 60) noise 0.6980826184231252 blend_alpha 0.6935851817381093\n",
      "text 810 captcha shape (24, 60) noise 0.7478257269050762 blend_alpha 0.7246428293579888\n",
      "text 184 captcha shape (24, 60) noise 0.7770326876183464 blend_alpha 0.8202201112357737\n",
      "text 604 captcha shape (24, 60) noise 0.3112649670259123 blend_alpha 0.9254150606619413\n",
      "text 319 captcha shape (24, 60) noise 0.6315021072027973 blend_alpha 0.8217550748363476\n",
      "text 250 captcha shape (24, 60) noise 0.7927141980659185 blend_alpha 0.8799881200445585\n",
      "number of samples in group 986\n",
      "text 3877 captcha shape (24, 60) noise 0.43972747075554175 blend_alpha 0.9176420766836211\n",
      "text 3989 captcha shape (24, 60) noise 0.3961138960923285 blend_alpha 0.8500667615871172\n",
      "text 5159 captcha shape (24, 60) noise 0.776668464287911 blend_alpha 0.8800641973191433\n",
      "text 7118 captcha shape (24, 60) noise 0.47073277067579367 blend_alpha 0.9320134769176165\n",
      "text 0603 captcha shape (24, 60) noise 0.009597654119495907 blend_alpha 0.624839160120524\n",
      "text 7190 captcha shape (24, 60) noise 0.24664780878287917 blend_alpha 0.738979583559195\n",
      "text 0250 captcha shape (24, 60) noise 0.14030223728972457 blend_alpha 0.7952161661081658\n",
      "text 8215 captcha shape (24, 60) noise 0.6033512621623074 blend_alpha 0.7316818478348665\n",
      "text 0622 captcha shape (24, 60) noise 0.32001184115610776 blend_alpha 0.8267365418889887\n",
      "text 1688 captcha shape (24, 60) noise 0.37909205402771484 blend_alpha 0.719401822806953\n",
      "text 7178 captcha shape (24, 60) noise 0.28657636410976167 blend_alpha 0.9387736919051244\n"
     ]
    }
   ],
   "source": [
    "import random\n",
    "import string\n",
    "import os\n",
    "import torch.nn as nn\n",
    "import torch\n",
    "import torch.nn.functional as F\n",
    "import pyro\n",
    "import numpy as np\n",
    "import pyro.optim as optim\n",
    "import pyro.distributions as dist\n",
    "import pyro.infer\n",
    "import pyro.optim\n",
    "import time\n",
    "\n",
    "from torch.autograd import Variable\n",
    "from pyro.infer import SVI, Trace_ELBO, TraceGraph_ELBO\n",
    "from PIL import Image\n",
    "from claptchagen.claptcha import Claptcha\n",
    "from torch.distributions import constraints\n",
    "from torch.utils.data import Dataset, DataLoader\n",
    "from torchvision import transforms, utils\n",
    "from gmade import GMADE\n",
    "import matplotlib.pyplot as plt\n",
    "print(pyro.__version__)\n",
    "np.random.seed(0)\n",
    "random.seed(0)\n",
    "captcha_folder = 'generated_captchas'\n",
    "captchaHeight = 24\n",
    "captchaWidth = 60\n",
    "captchaMarginX = 2.5\n",
    "captchaMarginY = 2.5\n",
    "batch_size = 10\n",
    "\n",
    "char_dict = string.digits\n",
    "#char_dict = \"abc\"\n",
    "USE_CUDA = True\n",
    "MAX_N = 4 # maximum number of letters in a captcha \n",
    "MIN_N = 2 # minimum number of letters in a captcha\n",
    "MIN_NOISE = 0.003921569 # minimum noise 1./255.\n",
    "MAX_NOISE = 0.8 # maximum noise\n",
    "smoke_test = False\n",
    "num_steps = 300 if not smoke_test else 10\n",
    "TrainingSample = 3000 if not smoke_test else 100 # number of captchas generated for training \n",
    "hidden_state_dim = 128\n",
    "blend_alpha_min = 0.6\n",
    "blend_alpha_max = 0.99\n",
    "blend_alpha = 0.6\n",
    "\n",
    "def randomString():\n",
    "    \"\"\"\n",
    "    return a string with <num_char> random letters\n",
    "    \"\"\"\n",
    "    k = random.randint(MIN_N, MAX_N) # sample number of characters\n",
    "    \n",
    "    rndLetters = (random.choice(char_dict) for _ in range(k))\n",
    "    \n",
    "    pad_spaces = MAX_N - k # pad the string so the captcha is close to center\n",
    "    space = \" \" * (pad_spaces // 2)\n",
    "    return space + \"\".join(rndLetters) + space\n",
    "\n",
    "def emptyString():\n",
    "    \"\"\"\n",
    "    return a string with <num_char> random letters\n",
    "    \"\"\"\n",
    "    #k = random.randint(MIN_N, MAX_N) # sample number of characters\n",
    "    k = MAX_N\n",
    "    \n",
    "    rndLetters = (random.choice(char_dict) for _ in range(k))\n",
    "    \n",
    "    pad_spaces = MAX_N - k # pad the string so the captcha is close to center\n",
    "    space = \" \" * (pad_spaces // 2)\n",
    "    return \" \" * MAX_N\n",
    "\n",
    "def ramdomNoise():\n",
    "    \"\"\"\n",
    "    return a float between MIN_NOISE, MAX_NOISE\n",
    "    \"\"\"\n",
    "    #return random.uniform(0.85, MAX_NOISE)\n",
    "    return random.uniform(MIN_NOISE, MAX_NOISE)\n",
    "def generate_noise(noise_seed):\n",
    "    #return np.maximum(np.minimum(np.round(255 * ((1- noise_seed) + 0.25 * np.random.randn(captchaHeight, captchaWidth))), 255), 0)\n",
    "    return np.round(255 * np.maximum(np.minimum((1- noise_seed) + 0.25 * np.random.randn(captchaHeight, captchaWidth), 1), 0))\n",
    "    \n",
    "def generate_random_captcha(n, save=False):\n",
    "    \"\"\"\n",
    "    generate n random captchas,\n",
    "    return a list of texts on the captchas\n",
    "    \"\"\"\n",
    "    # Initialize Claptcha object with random text, FreeMono as font, of size\n",
    "    # 100x30px, using bicubic resampling filter and adding a bit of white noise\n",
    "    c = Claptcha(randomString, \"fonts/FreeSans.ttf\", (captchaWidth, captchaHeight), (captchaMarginX, captchaMarginY),\n",
    "             resample=Image.BILINEAR, noise=0)\n",
    "    captcha_generated = [ [] for i in range(MAX_N)]\n",
    "    for i in range(n):\n",
    "        #c2.noise = ramdomNoise()\n",
    "        if save:\n",
    "            text, _ = c.write(os.path.join(captcha_folder, 'captcha{}.png'.format(i)))\n",
    "            os.rename(os.path.join(captcha_folder, 'captcha{}.png'.format(i)),os.path.join(captcha_folder, '{}.png'.format(text + \"_\" + str(i))))\n",
    "        text, image = c.image\n",
    "        noise_seed = ramdomNoise()\n",
    "        noise_image = generate_noise(noise_seed)\n",
    "        #_, noise_image = c2.image\n",
    "        text = text.strip()\n",
    "        image = np.array(image)[:, :, 0] # the generator is gray scale, only keep one channel is enough\n",
    "        blend_alpha = random.uniform(blend_alpha_min, blend_alpha_max)\n",
    "        blend_image = image * blend_alpha + (1-blend_alpha) * noise_image\n",
    "        captcha_generated[len(text) - 1].append((text, image.astype(int), noise_image.astype(int), blend_image.astype(int), noise_seed, blend_alpha))\n",
    "    return captcha_generated\n",
    "    \n",
    "captcha_generated = generate_random_captcha(TrainingSample, save=False)\n",
    "for lst in captcha_generated:\n",
    "    print(\"number of samples in group\", len(lst))\n",
    "    # print some sample captcha information generated\n",
    "    for i, t in enumerate(lst):\n",
    "        print(\"text\", t[0], \"captcha shape\", t[3].shape, \"noise\", t[4], \"blend_alpha\", t[5])\n",
    "        if i >= 10:\n",
    "            break"
   ]
  },
  {
   "cell_type": "code",
   "execution_count": 3,
   "id": "f7da7f66",
   "metadata": {},
   "outputs": [
    {
     "name": "stdout",
     "output_type": "stream",
     "text": [
      "text 97 noise 0.477251435734719 blend_alpha 0.8724472487003851\n"
     ]
    },
    {
     "data": {
      "image/png": "[encoded data removed]",
      "text/plain": [
       "<Figure size 432x288 with 1 Axes>"
      ]
     },
     "metadata": {
      "needs_background": "light"
     },
     "output_type": "display_data"
    },
    {
     "data": {
      "image/png": "[encoded data removed]",
      "text/plain": [
       "<Figure size 432x288 with 1 Axes>"
      ]
     },
     "metadata": {
      "needs_background": "light"
     },
     "output_type": "display_data"
    },
    {
     "data": {
      "image/png": "[encoded data removed]",
      "text/plain": [
       "<Figure size 432x288 with 1 Axes>"
      ]
     },
     "metadata": {
      "needs_background": "light"
     },
     "output_type": "display_data"
    },
    {
     "name": "stdout",
     "output_type": "stream",
     "text": [
      "text 33 noise 0.5815197419008579 blend_alpha 0.98486037728\n"
     ]
    },
    {
     "data": {
      "image/png": "[encoded data removed]",
      "text/plain": [
       "<Figure size 432x288 with 1 Axes>"
      ]
     },
     "metadata": {
      "needs_background": "light"
     },
     "output_type": "display_data"
    },
    {
     "data": {
      "image/png": "[encoded data removed]",
      "text/plain": [
       "<Figure size 432x288 with 1 Axes>"
      ]
     },
     "metadata": {
      "needs_background": "light"
     },
     "output_type": "display_data"
    },
    {
     "data": {
      "image/png": "[encoded data removed]",
      "text/plain": [
       "<Figure size 432x288 with 1 Axes>"
      ]
     },
     "metadata": {
      "needs_background": "light"
     },
     "output_type": "display_data"
    },
    {
     "name": "stdout",
     "output_type": "stream",
     "text": [
      "text 29 noise 0.3207238477743688 blend_alpha 0.6808204696326623\n"
     ]
    },
    {
     "data": {
      "image/png": "[encoded data removed]",
      "text/plain": [
       "<Figure size 432x288 with 1 Axes>"
      ]
     },
     "metadata": {
      "needs_background": "light"
     },
     "output_type": "display_data"
    },
    {
     "data": {
      "image/png": "[encoded data removed]",
      "text/plain": [
       "<Figure size 432x288 with 1 Axes>"
      ]
     },
     "metadata": {
      "needs_background": "light"
     },
     "output_type": "display_data"
    },
    {
     "data": {
      "image/png": "[encoded data removed]",
      "text/plain": [
       "<Figure size 432x288 with 1 Axes>"
      ]
     },
     "metadata": {
      "needs_background": "light"
     },
     "output_type": "display_data"
    },
    {
     "name": "stdout",
     "output_type": "stream",
     "text": [
      "text 604 noise 0.2855672155050812 blend_alpha 0.7233167128134215\n"
     ]
    },
    {
     "data": {
      "image/png": "[encoded data removed]",
      "text/plain": [
       "<Figure size 432x288 with 1 Axes>"
      ]
     },
     "metadata": {
      "needs_background": "light"
     },
     "output_type": "display_data"
    },
    {
     "data": {
      "image/png": "[encoded data removed]",
      "text/plain": [
       "<Figure size 432x288 with 1 Axes>"
      ]
     },
     "metadata": {
      "needs_background": "light"
     },
     "output_type": "display_data"
    },
    {
     "data": {
      "image/png": "[encoded data removed]",
      "text/plain": [
       "<Figure size 432x288 with 1 Axes>"
      ]
     },
     "metadata": {
      "needs_background": "light"
     },
     "output_type": "display_data"
    },
    {
     "name": "stdout",
     "output_type": "stream",
     "text": [
      "text 300 noise 0.13284971109719557 blend_alpha 0.8064949469847087\n"
     ]
    },
    {
     "data": {
      "image/png": "[encoded data removed]",
      "text/plain": [
       "<Figure size 432x288 with 1 Axes>"
      ]
     },
     "metadata": {
      "needs_background": "light"
     },
     "output_type": "display_data"
    },
    {
     "data": {
      "image/png": "[encoded data removed]",
      "text/plain": [
       "<Figure size 432x288 with 1 Axes>"
      ]
     },
     "metadata": {
      "needs_background": "light"
     },
     "output_type": "display_data"
    },
    {
     "data": {
      "image/png": "[encoded data removed]",
      "text/plain": [
       "<Figure size 432x288 with 1 Axes>"
      ]
     },
     "metadata": {
      "needs_background": "light"
     },
     "output_type": "display_data"
    },
    {
     "name": "stdout",
     "output_type": "stream",
     "text": [
      "text 650 noise 0.2802029883362709 blend_alpha 0.9400268959271285\n"
     ]
    },
    {
     "data": {
      "image/png": "[encoded data removed]",
      "text/plain": [
       "<Figure size 432x288 with 1 Axes>"
      ]
     },
     "metadata": {
      "needs_background": "light"
     },
     "output_type": "display_data"
    },
    {
     "data": {
      "image/png": "[encoded data removed]",
      "text/plain": [
       "<Figure size 432x288 with 1 Axes>"
      ]
     },
     "metadata": {
      "needs_background": "light"
     },
     "output_type": "display_data"
    },
    {
     "data": {
      "image/png": "[encoded data removed]",
      "text/plain": [
       "<Figure size 432x288 with 1 Axes>"
      ]
     },
     "metadata": {
      "needs_background": "light"
     },
     "output_type": "display_data"
    },
    {
     "name": "stdout",
     "output_type": "stream",
     "text": [
      "text 3877 noise 0.43972747075554175 blend_alpha 0.9176420766836211\n"
     ]
    },
    {
     "data": {
      "image/png": "[encoded data removed]",
      "text/plain": [
       "<Figure size 432x288 with 1 Axes>"
      ]
     },
     "metadata": {
      "needs_background": "light"
     },
     "output_type": "display_data"
    },
    {
     "data": {
      "image/png": "[encoded data removed]",
      "text/plain": [
       "<Figure size 432x288 with 1 Axes>"
      ]
     },
     "metadata": {
      "needs_background": "light"
     },
     "output_type": "display_data"
    },
    {
     "data": {
      "image/png": "[encoded data removed]",
      "text/plain": [
       "<Figure size 432x288 with 1 Axes>"
      ]
     },
     "metadata": {
      "needs_background": "light"
     },
     "output_type": "display_data"
    },
    {
     "name": "stdout",
     "output_type": "stream",
     "text": [
      "text 3989 noise 0.3961138960923285 blend_alpha 0.8500667615871172\n"
     ]
    },
    {
     "data": {
      "image/png": "[encoded data removed]",
      "text/plain": [
       "<Figure size 432x288 with 1 Axes>"
      ]
     },
     "metadata": {
      "needs_background": "light"
     },
     "output_type": "display_data"
    },
    {
     "data": {
      "image/png": "[encoded data removed]",
      "text/plain": [
       "<Figure size 432x288 with 1 Axes>"
      ]
     },
     "metadata": {
      "needs_background": "light"
     },
     "output_type": "display_data"
    },
    {
     "data": {
      "image/png": "[encoded data removed]",
      "text/plain": [
       "<Figure size 432x288 with 1 Axes>"
      ]
     },
     "metadata": {
      "needs_background": "light"
     },
     "output_type": "display_data"
    },
    {
     "name": "stdout",
     "output_type": "stream",
     "text": [
      "text 5159 noise 0.776668464287911 blend_alpha 0.8800641973191433\n"
     ]
    },
    {
     "data": {
      "image/png": "[encoded data removed]",
      "text/plain": [
       "<Figure size 432x288 with 1 Axes>"
      ]
     },
     "metadata": {
      "needs_background": "light"
     },
     "output_type": "display_data"
    },
    {
     "data": {
      "image/png": "[encoded data removed]",
      "text/plain": [
       "<Figure size 432x288 with 1 Axes>"
      ]
     },
     "metadata": {
      "needs_background": "light"
     },
     "output_type": "display_data"
    },
    {
     "data": {
      "image/png": "[encoded data removed]",
      "text/plain": [
       "<Figure size 432x288 with 1 Axes>"
      ]
     },
     "metadata": {
      "needs_background": "light"
     },
     "output_type": "display_data"
    }
   ],
   "source": [
    "import sys\n",
    "np.set_printoptions(threshold=sys.maxsize)\n",
    "for lst in captcha_generated:\n",
    "    for i in range(3):\n",
    "        if len(lst) > 0:\n",
    "            print(\"text\", lst[i][0], \"noise\", lst[i][4], \"blend_alpha\", lst[i][5])\n",
    "            plt.imshow(255-lst[i][1], cmap=\"Greys\")\n",
    "            plt.show()\n",
    "            #print(255-lst[0][1])\n",
    "            plt.imshow(255-lst[i][2], cmap=\"Greys\")\n",
    "            plt.show()\n",
    "            #print(255 - lst[0][2])\n",
    "            #plt.imshow(np.round((255-lst[0][2]) * blend_alpha + (255-lst[0][1]) * (1- blend_alpha)), cmap=\"Greys\")\n",
    "            plt.imshow(255-lst[i][3], cmap=\"Greys\")\n",
    "            plt.show()\n",
    "            #print(np.minimum(255, (255-lst[0][2] + 255-lst[0][1])))"
   ]
  },
  {
   "cell_type": "code",
   "execution_count": 4,
   "id": "negative-underwear",
   "metadata": {
    "id": "negative-underwear"
   },
   "outputs": [],
   "source": [
    "def render_image(chars, fonts=\"fonts/FreeSans.ttf\", size=(captchaWidth, captchaHeight), \n",
    "                 margin=(captchaMarginX, captchaMarginY), resample=Image.BILINEAR, noise=0.3, use_cuda=False):\n",
    "    pad_spaces = MAX_N - len(chars)\n",
    "    space = \" \" * (pad_spaces // 2)\n",
    "    chars = space + chars + space\n",
    "    render = Claptcha(chars, fonts, size, margin, resample=resample, noise=noise)\n",
    "\n",
    "    _ , rendered_image = render.image\n",
    "    rendered_image = np.array(rendered_image)[:,:,0] # the generator is gray scale, only keep one channel is enough\n",
    "    rendered_image = np.subtract(np.divide(rendered_image, 255), 0.5)\n",
    "    rendered_image = torch.from_numpy(rendered_image)\n",
    "    if use_cuda:\n",
    "        rendered_image = rendered_image.cuda()\n",
    "    return rendered_image"
   ]
  },
  {
   "cell_type": "code",
   "execution_count": 5,
   "id": "contrary-lobby",
   "metadata": {
    "id": "contrary-lobby"
   },
   "outputs": [],
   "source": [
    "class CaptchaDataset(Dataset):\n",
    "    \"\"\"Face Landmarks dataset.\"\"\"\n",
    "\n",
    "    def __init__(self, raw_captchas, transform=None):\n",
    "        \"\"\"\n",
    "        Args:\n",
    "            csv_file (string): Path to the csv file with annotations.\n",
    "            root_dir (string): Directory with all the images.\n",
    "            transform (callable, optional): Optional transform to be applied\n",
    "                on a sample.\n",
    "        \"\"\"\n",
    "        self.raw_captchas = raw_captchas\n",
    "        self.transform = transform\n",
    "\n",
    "    def __len__(self):\n",
    "        return len(self.raw_captchas)\n",
    "\n",
    "    def __getitem__(self, idx):\n",
    "        label = self.raw_captchas[idx][0]\n",
    "        char_image = self.raw_captchas[idx][1]\n",
    "        noise_image = self.raw_captchas[idx][2]\n",
    "        blend_image = self.raw_captchas[idx][3]\n",
    "        noise = self.raw_captchas[idx][4]\n",
    "        blend_alpha = self.raw_captchas[idx][5]\n",
    "        \n",
    "        blend_image = np.subtract(np.divide(blend_image, 255), 0.5)\n",
    "        blend_image = torch.from_numpy(blend_image).float()\n",
    "\n",
    "        if self.transform:\n",
    "            blend_image = self.transform(blend_image)\n",
    "\n",
    "        return label, blend_image, noise, blend_alpha"
   ]
  },
  {
   "cell_type": "code",
   "execution_count": 6,
   "id": "taken-spice",
   "metadata": {
    "id": "taken-spice"
   },
   "outputs": [],
   "source": [
    "def make_loarders(BATCH_SIZE, raw_samples):\n",
    "    dataloaders = [] # dataloaders for different num of char\n",
    "    for lst in raw_samples:\n",
    "        if lst:\n",
    "            ds = CaptchaDataset(lst)\n",
    "            dataloader = DataLoader(ds, batch_size=BATCH_SIZE,\n",
    "                                    shuffle=True, num_workers=0, drop_last=True)\n",
    "            dataloaders.append(dataloader)\n",
    "    return dataloaders\n",
    "\n",
    "def make_batches(dataloaders):\n",
    "    all_batches = []\n",
    "    for dl in dataloaders:\n",
    "        for i_batch, sample in enumerate(dl):\n",
    "            all_batches.append(sample)\n",
    "    random.shuffle(all_batches)\n",
    "    random.shuffle(all_batches)\n",
    "    return all_batches\n",
    "\n",
    "TrainLoaders = make_loarders(BATCH_SIZE=batch_size, raw_samples=captcha_generated)"
   ]
  },
  {
   "cell_type": "code",
   "execution_count": 7,
   "id": "arabic-rocket",
   "metadata": {
    "id": "arabic-rocket"
   },
   "outputs": [],
   "source": [
    "class NoiseAlphaNet(nn.Module):\n",
    "\n",
    "    def __init__(self, img_size, out_size = 1):\n",
    "        \"\"\"\n",
    "        Network for learning noise in a captcha\n",
    "        \"\"\"\n",
    "        super(NoiseAlphaNet, self).__init__()\n",
    "        \n",
    "        self.img_size = img_size\n",
    "        self.fc1 = nn.Linear(img_size[0] * img_size[1], 1024)\n",
    "        self.fc2 = nn.Linear(1024, 1024)\n",
    "        self.fc3 = nn.Linear(1024, out_size)\n",
    "        self.softplus = nn.Softplus()\n",
    "    \n",
    "    def forward(self, img):\n",
    "        BS = img.shape[0]\n",
    "        img = img.reshape(-1, self.img_size[0] * self.img_size[1]).float()\n",
    "        hidden = self.fc1(img)\n",
    "        mean = self.fc3(F.relu(self.fc2(F.relu(hidden))))\n",
    "        sigma = torch.tensor([[1e-8] for _ in range(BS)]).float()\n",
    "        if USE_CUDA:\n",
    "            sigma = sigma.cuda()\n",
    "        return mean, sigma, hidden"
   ]
  },
  {
   "cell_type": "code",
   "execution_count": 8,
   "id": "patient-sunset",
   "metadata": {
    "id": "patient-sunset"
   },
   "outputs": [],
   "source": [
    "# not used\n",
    "class NumNet(nn.Module):\n",
    "    def __init__(self, img_size, out_size = 3):\n",
    "        \"\"\"\n",
    "        Network for learning N, number of letters in a captcha\n",
    "        \"\"\"\n",
    "        super(NumNet, self).__init__()\n",
    "        self.neural_net = nn.Sequential(\n",
    "            nn.Linear(img_size[0] * img_size[1], img_size[0] * img_size[1] * 2),\n",
    "            nn.ReLU(),\n",
    "            nn.Linear(img_size[0] * img_size[1] * 2, 256),\n",
    "            nn.ReLU(),\n",
    "            nn.Linear(256, out_size),\n",
    "            nn.LogSoftmax(dim=1))\n",
    "  \n",
    "    def forward(self, img):\n",
    "        img = torch.reshape(img, (img.shape[0], img.shape[1] * img.shape[2]))\n",
    "        prob = self.neural_net(img)\n",
    "        return prob"
   ]
  },
  {
   "cell_type": "code",
   "execution_count": 9,
   "id": "authorized-sender",
   "metadata": {
    "id": "authorized-sender"
   },
   "outputs": [],
   "source": [
    "# not used\n",
    "class InputEmbedding(nn.Module):\n",
    "    def __init__(self, img_size, output_size, MAX_N):\n",
    "        \"\"\"\n",
    "        Network for letters in a captcha, given the noise and number of letters\n",
    "        \"\"\"\n",
    "        super(InputEmbedding, self).__init__()\n",
    "        self.img_size = img_size\n",
    "        \n",
    "        # observe layers\n",
    "        self.nnfc = nn.Linear(img_size[0] * img_size[1], img_size[0] * img_size[1])\n",
    "        self.conv1 = nn.Conv2d(1, 64, 3)\n",
    "        self.conv2 = nn.Conv2d(64, 64, 3)\n",
    "        self.conv3 = nn.Conv2d(64, 64, 3)\n",
    "        self.pool = nn.MaxPool2d(2, 2)\n",
    "        self.convBN1 = nn.BatchNorm2d(64)\n",
    "        self.convBN2 = nn.BatchNorm2d(64)\n",
    "        self.convBN3 = nn.BatchNorm2d(64)\n",
    "\n",
    "    def forward(self, img, noise_map):\n",
    "        \n",
    "        BATCH_SIZE = img.shape[0]\n",
    "        img = torch.reshape(img, (BATCH_SIZE, 1, self.img_size[0], self.img_size[1]))\n",
    "\n",
    "        img = self.pool(F.relu(self.convBN1(self.conv1(img))))\n",
    "        img = self.pool(F.relu(self.convBN2(self.conv2(img))))\n",
    "        img = self.pool(F.relu(self.convBN3(self.conv3(img))))\n",
    "        \n",
    "        img = torch.reshape(img, (BATCH_SIZE, 1280))\n",
    "        return img"
   ]
  },
  {
   "cell_type": "code",
   "execution_count": 10,
   "id": "fac95646",
   "metadata": {},
   "outputs": [],
   "source": [
    "class ChannelExtract(nn.Module):\n",
    "\n",
    "    def __init__(self, img_size, out_size = 1):\n",
    "        \"\"\"\n",
    "        Network for learning noise in a captcha\n",
    "        \"\"\"\n",
    "        super(ChannelExtract, self).__init__()\n",
    "        \n",
    "        self.img_size = img_size\n",
    "        self.fc0 = nn.Linear(img_size[0] * img_size[1] + 1, img_size[0] * img_size[1] * 2)\n",
    "        self.fc1 = nn.Linear(img_size[0] * img_size[1] * 2, img_size[0] * img_size[1] * 2)\n",
    "        self.fc11 = nn.Linear(img_size[0] * img_size[1] * 2, img_size[0] * img_size[1] * 2)\n",
    "        self.fc2 = nn.Linear(img_size[0] * img_size[1] * 2, img_size[0] * img_size[1])\n",
    "        \n",
    "    def forward(self, img, alpha):\n",
    "        BS = img.shape[0]\n",
    "        img = img.reshape(-1, self.img_size[0] * self.img_size[1]).float()\n",
    "        img = torch.cat([img, alpha], 1)\n",
    "        hidden = F.relu(self.fc11(F.relu(self.fc1(F.relu(self.fc0(img))))))\n",
    "        hidden = self.fc2(hidden)\n",
    "        hidden = torch.reshape(hidden, (BS, self.img_size[0], self.img_size[1]))\n",
    "        sigma = torch.tensor(1e-5)\n",
    "        if USE_CUDA:\n",
    "            sigma = sigma.cuda()\n",
    "        sigma = sigma.repeat(BS, self.img_size[0], self.img_size[1])\n",
    "        #print(\"sigma\", sigma.shape)\n",
    "        return hidden, sigma"
   ]
  },
  {
   "cell_type": "code",
   "execution_count": 11,
   "id": "0c177274",
   "metadata": {},
   "outputs": [],
   "source": [
    "class NoiseChannelExtract(nn.Module):\n",
    "\n",
    "    def __init__(self, img_size, out_size = 1):\n",
    "        \"\"\"\n",
    "        Network for learning noise in a captcha\n",
    "        \"\"\"\n",
    "        super(NoiseChannelExtract, self).__init__()\n",
    "        \n",
    "        self.img_size = img_size\n",
    "        self.fc0 = nn.Linear(img_size[0] * img_size[1] + 1, img_size[0] * img_size[1] * 2)\n",
    "        self.fc1 = nn.Linear(img_size[0] * img_size[1] * 2, img_size[0] * img_size[1] * 2)\n",
    "        self.fc11 = nn.Linear(img_size[0] * img_size[1] * 2, img_size[0] * img_size[1] * 2)\n",
    "        self.fc2 = nn.Linear(img_size[0] * img_size[1] * 2, img_size[0] * img_size[1] * 2)\n",
    "        \n",
    "        self.fc_loc = nn.Linear(img_size[0] * img_size[1] * 2, img_size[0] * img_size[1])\n",
    "        self.fc_sig = nn.Linear(img_size[0] * img_size[1] * 2, img_size[0] * img_size[1])\n",
    "        self.softplus = nn.Softplus()\n",
    "    \n",
    "    def forward(self, img, alpha):\n",
    "        BS = img.shape[0]\n",
    "        img = img.reshape(-1, self.img_size[0] * self.img_size[1]).float()\n",
    "        img = torch.cat([img, alpha], 1)\n",
    "        hidden = F.relu(self.fc11(F.relu(self.fc1(F.relu(self.fc0(img))))))\n",
    "        hidden = F.relu(self.fc2(hidden))\n",
    "        loc = self.fc_loc(hidden)\n",
    "        sig = self.softplus(self.fc_sig(hidden))\n",
    "        loc = torch.reshape(loc, (BS, self.img_size[0], self.img_size[1]))\n",
    "        sig = torch.reshape(sig, (BS, self.img_size[0], self.img_size[1])) \n",
    "        return loc, sig"
   ]
  },
  {
   "cell_type": "code",
   "execution_count": 12,
   "id": "sensitive-greek",
   "metadata": {
    "id": "sensitive-greek"
   },
   "outputs": [],
   "source": [
    "class CharNetSingle(nn.Module):\n",
    "    def __init__(self, img_size, output_size, MAX_N):\n",
    "        \"\"\"\n",
    "        Network for letters in a captcha, given the noise and number of letters\n",
    "        \"\"\"\n",
    "        super(CharNetSingle, self).__init__()\n",
    "        self.img_size = img_size\n",
    "        \n",
    "        # branches\n",
    "        self.pfc1 = nn.Linear(img_size[0] * img_size[1] + hidden_state_dim + 1, 2048)\n",
    "        self.pfc2 = nn.Linear(2048, 1024)\n",
    "        self.pfc3 = nn.Linear(1024, 1024)\n",
    "        self.pfc35 = nn.Linear(1024, 1024)\n",
    "        self.pfc4 = nn.Linear(1024, output_size)\n",
    "\n",
    "    def forward(self, img, hid, noise_batch):\n",
    "        \n",
    "        BATCH_SIZE = img.shape[0]\n",
    "        img = img.reshape(-1, self.img_size[0] * self.img_size[1]).float()\n",
    "        img = torch.cat((img, hid, noise_batch), 1)\n",
    "        \n",
    "        out = F.relu(self.pfc1(img))\n",
    "        out = F.relu(self.pfc2(out))\n",
    "        out = F.relu(self.pfc3(out))\n",
    "        out = F.relu(self.pfc35(out))\n",
    "        out = self.pfc4(out)\n",
    "        out = F.log_softmax(out, dim=1)\n",
    "        \n",
    "        return out"
   ]
  },
  {
   "cell_type": "code",
   "execution_count": 13,
   "id": "f1244e0a",
   "metadata": {},
   "outputs": [],
   "source": [
    "class simpleNN(nn.Module):\n",
    "    def __init__(self, input_size=1, hidden=32, out_size=1, t=\"normal\", out_non_linear=None):\n",
    "        super().__init__()\n",
    "        self.t = t\n",
    "        self.out_non_linear = out_non_linear\n",
    "        self.hiddeen_layer = nn.Linear(input_size, hidden)\n",
    "        if t == \"normal\":\n",
    "            self.loc_layer = nn.Linear(hidden, out_size)\n",
    "            self.std_layer = nn.Linear(hidden, out_size)\n",
    "            self.softplus = nn.Softplus()\n",
    "        elif t == \"bern\":\n",
    "            self.prob_layer = nn.Linear(hidden, out_size)\n",
    "        elif t == \"mlp\":\n",
    "            self.out_layer = nn.Linear(hidden, out_size)\n",
    "        \n",
    "    def forward(self, x_list):\n",
    "        for i in range(len(x_list)):\n",
    "            if x_list[i].dim() == 0:\n",
    "                x_list[i] = torch.unsqueeze(x_list[i], dim=0)\n",
    "        input_x = torch.cat(x_list, 1)\n",
    "        #print(input_x, input_x.shape)\n",
    "        hid = F.relu(self.hiddeen_layer(input_x))\n",
    "        # return loc, std\n",
    "        if self.t == \"normal\":\n",
    "            return self.loc_layer(hid), self.softplus(self.std_layer(hid))\n",
    "        elif self.t == \"bern\":\n",
    "            return torch.sigmoid(self.prob_layer(hid))\n",
    "        else:\n",
    "            if self.out_non_linear == \"tanh\":\n",
    "                return torch.tanh(self.out_layer(hid))\n",
    "            else:\n",
    "                return self.out_layer(hid)"
   ]
  },
  {
   "cell_type": "code",
   "execution_count": 14,
   "id": "overhead-meditation",
   "metadata": {
    "id": "overhead-meditation"
   },
   "outputs": [],
   "source": [
    "def inference(t, use_cuda=False):\n",
    "    \"\"\"\n",
    "    one epoch of inference (iterate the training set once)\n",
    "    \"\"\"\n",
    "    start = time.time()\n",
    "    loss = 0\n",
    "    length = TrainingSample\n",
    "    loss_group = []\n",
    "    all_batches = make_batches(TrainLoaders)\n",
    "    for i_batch, sample_batched in enumerate(all_batches):\n",
    "        img = sample_batched[1]\n",
    "        if use_cuda:\n",
    "            img = img.cuda()\n",
    "        IMG = {\"captcha\" : img}\n",
    "        imme_loss = csis.step(observations=IMG)\n",
    "        loss += imme_loss / length\n",
    "\n",
    "    print(\"loss at epoch {} is {}\".format(t, loss), end=\"; \")\n",
    "    print(\"Epoch takes\", round(time.time()- start), \"seconds\")\n",
    "    return loss"
   ]
  },
  {
   "cell_type": "code",
   "execution_count": 15,
   "id": "agreed-provincial",
   "metadata": {
    "id": "agreed-provincial"
   },
   "outputs": [],
   "source": [
    "test_accuracies = []\n",
    "test_char_accuracies = []\n",
    "test_noise_differences = []\n",
    "test_alpha_differences = []\n",
    "train_accuracies = []\n",
    "train_char_accuracies = []\n",
    "train_noise_differences = []\n",
    "train_alpha_differences = []\n",
    "def test(n = 0, use_train=False, verbose=False, use_cuda=False):\n",
    "    \"\"\"\n",
    "    benchmarking performance on customized or training set\n",
    "    \"\"\"\n",
    "    global test_accuracies, test_char_accuracies, test_noise_differences, test_alpha_differences\n",
    "    global train_accuracies, train_char_accuracies, train_noise_differences, train_alpha_differences\n",
    "    if use_train:\n",
    "        TestLoaders = make_loarders(BATCH_SIZE=1, raw_samples=captcha_generated)\n",
    "    else:\n",
    "        test_captcha_generated = generate_random_captcha(n, save=False)\n",
    "        TestLoaders = make_loarders(BATCH_SIZE=1, raw_samples=test_captcha_generated)\n",
    "    \n",
    "    total_correct = 0\n",
    "    char_correct = 0\n",
    "    total_char = 0\n",
    "    all_batches = make_batches(TestLoaders)\n",
    "    noise_difference = 0\n",
    "    alpha_difference = 0\n",
    "    for i_batch, t in enumerate(all_batches):\n",
    "\n",
    "        label = t[0][0]\n",
    "        img = t[1]\n",
    "        gt_noise = t[2][0]\n",
    "        gt_alpha = t[3][0]\n",
    "\n",
    "        if use_cuda:\n",
    "            img = img.cuda()\n",
    "        \n",
    "        IMG = {\"captcha\" : img}\n",
    "        \n",
    "        posterior = csis.run(observations=IMG)\n",
    "        marginal_num = pyro.infer.EmpiricalMarginal(posterior, \"num_char\")\n",
    "        marginal_noise = pyro.infer.EmpiricalMarginal(posterior, \"noise\")\n",
    "        marginal_alpha = pyro.infer.EmpiricalMarginal(posterior, \"alpha\")\n",
    "        with torch.no_grad():\n",
    "            N_index = marginal_num()\n",
    "            N = N_index + captchaModel.num_char_domain[0]\n",
    "            noise = captchaModel._map_to_noise_range(marginal_noise()[0])\n",
    "            alpha = captchaModel._map_to_alpha_range(marginal_alpha()[0])\n",
    "            sampled_chars = []\n",
    "            \n",
    "            # sample characters one by one\n",
    "            for i in range(N):\n",
    "                marginal_char = pyro.infer.EmpiricalMarginal(posterior, \"char_{}\".format(i))()[0]\n",
    "                if use_cuda:\n",
    "                    marginal_char.cpu()\n",
    "                sampled_chars.append(marginal_char)\n",
    "        \n",
    "        chars = \"\"\n",
    "        for i in range(len(sampled_chars)):\n",
    "            c = sampled_chars[i]\n",
    "            chars +=  captchaModel.char_dict[c]\n",
    "        correct = 0\n",
    "        \n",
    "        for p_char, t_char in zip(chars, label):\n",
    "            if p_char == t_char:\n",
    "                correct += 1\n",
    "        noise_difference += abs(float(noise) - float(gt_noise))\n",
    "        alpha_difference += abs(float(alpha) - float(gt_alpha))\n",
    "        if not verbose:\n",
    "            print(\"N_predicted:\", int(N), \"| Actual N:\", len(label), \"| Predicted Noise:\", round(float(noise), 3), \"| Actual Noise:\", round(float(gt_noise), 3), \"| Predicted Alpha:\", round(float(alpha), 3), \"| Actual Alpha:\", round(float(gt_alpha), 3), \"| Predicted Text:\", chars, \"| Actual Text:\", label, \"| Correct:\", correct)\n",
    "        if correct == len(label) and int(N) == len(label):\n",
    "            total_correct += 1\n",
    "        char_correct += correct\n",
    "        total_char += len(label)\n",
    "    num_test_samples = i_batch + 1\n",
    "    accuracy = total_correct / num_test_samples\n",
    "    char_accuracy = char_correct / total_char\n",
    " \n",
    "    \n",
    "    noise_difference = noise_difference / num_test_samples\n",
    "    alpha_difference = alpha_difference / num_test_samples\n",
    "    if use_train:\n",
    "        train_accuracies.append(accuracy)\n",
    "        train_char_accuracies.append(char_accuracy)\n",
    "        train_noise_differences.append(noise_difference)\n",
    "        train_alpha_differences.append(alpha_difference)\n",
    "    elif n > 10:\n",
    "        test_accuracies.append(accuracy)\n",
    "        test_char_accuracies.append(char_accuracy)\n",
    "        test_noise_differences.append(noise_difference)\n",
    "        test_alpha_differences.append(alpha_difference)\n",
    "    print(\"use_train =\", use_train, \"AVG Noise Difference:\", noise_difference, \"AVG Alpha Difference:\", alpha_difference, \"Total correct:\", total_correct, \"accuracy:{}/{}=\".format(total_correct, num_test_samples), accuracy, \"char_accuracy:{}/{}=\".format(char_correct, total_char), char_accuracy)\n"
   ]
  },
  {
   "cell_type": "code",
   "execution_count": 16,
   "id": "occupied-invitation",
   "metadata": {
    "id": "occupied-invitation"
   },
   "outputs": [],
   "source": [
    "\n",
    "losses  = []\n",
    "def test_cycle(use_cuda):\n",
    "    \n",
    "    # disable dropout\n",
    "#     captchaModel.numNet.eval()\n",
    "#     captchaModel.charNetSingle.eval()\n",
    "    test(use_train=True, verbose=True, use_cuda=use_cuda)\n",
    "    test(1000, use_train=False, verbose=True, use_cuda=use_cuda)\n",
    "    #test(10, use_train=True, verbose=False, use_cuda=use_cuda)\n",
    "    test(10, use_train=False, verbose=False, use_cuda=use_cuda)\n",
    "    # enable dropout\n",
    "#     captchaModel.numNet.train()\n",
    "#     captchaModel.charNetSingle.train()\n",
    "\n",
    "def optimize(start_epoch=1, use_cuda=False):\n",
    "    \"\"\"\n",
    "    Training/Inferencing Stage\n",
    "    \"\"\"\n",
    "    loss_sequence = []\n",
    "    pause = 5\n",
    "    save_pause = 10\n",
    "    print(\"Optimizing...\")\n",
    "    for t in range(start_epoch, num_steps + 1):\n",
    "        L = inference(t, use_cuda)\n",
    "        loss_sequence.append(L)\n",
    "        losses.append(L)\n",
    "        if (t % pause == 0) and (t > 0):\n",
    "            test_cycle(use_cuda=use_cuda)\n",
    "        #if (t % save_pause == 0) and (t > 0):\n",
    "        #    save_and_download_checkpoints(\"branches-1-no-var-no-tanh_model.pt\", \"branches-1-no-var-no-tanh_optim.pt\", \"branches-1-no-var-no-tanh_param_store.pt\")\n",
    "    plt.plot(loss_sequence)\n",
    "    plt.title(\"loss\")\n",
    "    plt.show()"
   ]
  },
  {
   "cell_type": "code",
   "execution_count": 17,
   "id": "JtIuFFPvdzKk",
   "metadata": {
    "id": "JtIuFFPvdzKk"
   },
   "outputs": [],
   "source": [
    "# saves the model and optimizer states to disk\n",
    "def save_checkpoint(currentModel, currentOptimzier, save_model, save_opt, save_param_store):\n",
    "    print(\"saving model to %s...\" % save_model)\n",
    "    torch.save(currentModel.state_dict(), save_model)\n",
    "    print(\"saving optimizer states to %s...\" % save_opt)\n",
    "    currentOptimzier.save(save_opt)\n",
    "    print(\"saving pyro pram store states to %s...\" % save_param_store)\n",
    "    pyro.get_param_store().save(save_param_store)\n",
    "    print(\"done saving checkpoints to disk.\")\n",
    "\n",
    "# loads the model and optimizer states from disk\n",
    "def load_checkpoint(myModel, myOptimzer, load_model, load_opt, load_param_store):\n",
    "    pyro.clear_param_store()\n",
    "    print(\"loading model from %s...\" % load_model)\n",
    "    myModel.load_state_dict(torch.load(load_model))\n",
    "    print(\"loading optimizer states from %s...\" % load_opt)\n",
    "    myOptimzer.load(load_opt)\n",
    "    print(\"loading pyro pram store states from %s...\" % load_param_store)\n",
    "    pyro.get_param_store().load(load_param_store)\n",
    "    print(\"done loading states.\")\n",
    "    pyro.module(\"guide\", myModel, update_module_params=True)\n",
    "\n",
    "def save_and_download_checkpoints(save_model, save_opt, save_param_store):\n",
    "    save_checkpoint(captchaModel, optimiser, save_model, save_opt, save_param_store)\n",
    "def save_metric_to_disk(file_path):\n",
    "    import json\n",
    "    save_dict = {\n",
    "        \"test_accuracies\" : test_accuracies,\n",
    "        \"test_char_accuracies\" : test_char_accuracies,\n",
    "        \"test_noise_differences\" : test_noise_differences,\n",
    "        \"test_alpha_differences\" : test_alpha_differences,\n",
    "        \"train_accuracies\"  : train_accuracies,\n",
    "        \"train_char_accuracies\"  : train_char_accuracies,\n",
    "        \"train_noise_differences\" : train_noise_differences,\n",
    "        \"train_alpha_differences\" : train_alpha_differences,\n",
    "    }\n",
    "    with open(file_path, 'w') as fout:\n",
    "        json.dump(save_dict, fout)"
   ]
  },
  {
   "cell_type": "code",
   "execution_count": null,
   "id": "e723b63c",
   "metadata": {},
   "outputs": [],
   "source": []
  },
  {
   "cell_type": "code",
   "execution_count": 18,
   "id": "composite-secretary",
   "metadata": {
    "colab": {
     "base_uri": "https://localhost:8080/",
     "height": 1000
    },
    "id": "composite-secretary",
    "outputId": "ba21847c-cace-42fd-c32b-3d6802c890ea"
   },
   "outputs": [
    {
     "name": "stdout",
     "output_type": "stream",
     "text": [
      "Optimizing...\n",
      "loss at epoch 1 is 1527940126218508.5; Epoch takes 202 seconds\n",
      "loss at epoch 2 is 1048635101568510.5; Epoch takes 203 seconds\n",
      "loss at epoch 3 is 848247484423342.2; Epoch takes 202 seconds\n",
      "loss at epoch 4 is 697070217487695.8; Epoch takes 204 seconds\n",
      "loss at epoch 5 is 626716147801251.2; Epoch takes 204 seconds\n",
      "use_train = True AVG Noise Difference: 0.14747639281291844 AVG Alpha Difference: 0.07668382383939644 Total correct: 108 accuracy:108/3000= 0.036 char_accuracy:2521/8950= 0.2816759776536313\n",
      "use_train = False AVG Noise Difference: 0.1526617239238928 AVG Alpha Difference: 0.07547262648482342 Total correct: 49 accuracy:49/1000= 0.049 char_accuracy:842/2944= 0.2860054347826087\n",
      "N_predicted: 2 | Actual N: 2 | Predicted Noise: 0.312 | Actual Noise: 0.022 | Predicted Alpha: 0.835 | Actual Alpha: 0.719 | Predicted Text: 75 | Actual Text: 78 | Correct: 1\n",
      "N_predicted: 2 | Actual N: 2 | Predicted Noise: 0.587 | Actual Noise: 0.508 | Predicted Alpha: 0.729 | Actual Alpha: 0.684 | Predicted Text: 47 | Actual Text: 27 | Correct: 1\n",
      "N_predicted: 4 | Actual N: 4 | Predicted Noise: 0.686 | Actual Noise: 0.596 | Predicted Alpha: 0.706 | Actual Alpha: 0.601 | Predicted Text: 7778 | Actual Text: 1014 | Correct: 0\n",
      "N_predicted: 4 | Actual N: 4 | Predicted Noise: 0.533 | Actual Noise: 0.789 | Predicted Alpha: 0.829 | Actual Alpha: 0.891 | Predicted Text: 2161 | Actual Text: 3917 | Correct: 0\n",
      "N_predicted: 4 | Actual N: 4 | Predicted Noise: 0.382 | Actual Noise: 0.647 | Predicted Alpha: 0.817 | Actual Alpha: 0.899 | Predicted Text: 9546 | Actual Text: 5293 | Correct: 0\n",
      "N_predicted: 2 | Actual N: 2 | Predicted Noise: 0.368 | Actual Noise: 0.074 | Predicted Alpha: 0.819 | Actual Alpha: 0.702 | Predicted Text: 23 | Actual Text: 29 | Correct: 1\n",
      "N_predicted: 2 | Actual N: 2 | Predicted Noise: 0.4 | Actual Noise: 0.153 | Predicted Alpha: 0.865 | Actual Alpha: 0.908 | Predicted Text: 11 | Actual Text: 71 | Correct: 1\n",
      "N_predicted: 3 | Actual N: 3 | Predicted Noise: 0.352 | Actual Noise: 0.162 | Predicted Alpha: 0.844 | Actual Alpha: 0.74 | Predicted Text: 108 | Actual Text: 149 | Correct: 1\n",
      "N_predicted: 3 | Actual N: 3 | Predicted Noise: 0.381 | Actual Noise: 0.311 | Predicted Alpha: 0.848 | Actual Alpha: 0.852 | Predicted Text: 584 | Actual Text: 082 | Correct: 1\n",
      "N_predicted: 2 | Actual N: 2 | Predicted Noise: 0.46 | Actual Noise: 0.536 | Predicted Alpha: 0.767 | Actual Alpha: 0.928 | Predicted Text: 99 | Actual Text: 96 | Correct: 1\n",
      "use_train = False AVG Noise Difference: 0.18575986681154175 AVG Alpha Difference: 0.08396344045916067 Total correct: 0 accuracy:0/10= 0.0 char_accuracy:7/28= 0.25\n",
      "loss at epoch 6 is 596726004996693.2; Epoch takes 199 seconds\n",
      "loss at epoch 7 is 573998710436336.8; Epoch takes 188 seconds\n",
      "loss at epoch 8 is 514357552834418.8; Epoch takes 210 seconds\n",
      "loss at epoch 9 is 512956535158689.56; Epoch takes 249 seconds\n",
      "loss at epoch 10 is 494178068109794.8; Epoch takes 261 seconds\n",
      "use_train = True AVG Noise Difference: 0.1339131614230047 AVG Alpha Difference: 0.07329162454576495 Total correct: 243 accuracy:243/3000= 0.081 char_accuracy:3467/8950= 0.38737430167597764\n",
      "use_train = False AVG Noise Difference: 0.1319087383346054 AVG Alpha Difference: 0.06944239166865371 Total correct: 92 accuracy:92/1000= 0.092 char_accuracy:1182/3021= 0.3912611717974181\n",
      "N_predicted: 2 | Actual N: 2 | Predicted Noise: 0.39 | Actual Noise: 0.465 | Predicted Alpha: 0.864 | Actual Alpha: 0.876 | Predicted Text: 67 | Actual Text: 67 | Correct: 2\n",
      "N_predicted: 4 | Actual N: 4 | Predicted Noise: 0.509 | Actual Noise: 0.679 | Predicted Alpha: 0.819 | Actual Alpha: 0.872 | Predicted Text: 6167 | Actual Text: 5701 | Correct: 0\n",
      "N_predicted: 3 | Actual N: 3 | Predicted Noise: 0.367 | Actual Noise: 0.131 | Predicted Alpha: 0.884 | Actual Alpha: 0.861 | Predicted Text: 352 | Actual Text: 397 | Correct: 1\n",
      "N_predicted: 2 | Actual N: 2 | Predicted Noise: 0.407 | Actual Noise: 0.253 | Predicted Alpha: 0.87 | Actual Alpha: 0.863 | Predicted Text: 07 | Actual Text: 97 | Correct: 1\n",
      "N_predicted: 2 | Actual N: 2 | Predicted Noise: 0.5 | Actual Noise: 0.346 | Predicted Alpha: 0.796 | Actual Alpha: 0.699 | Predicted Text: 72 | Actual Text: 22 | Correct: 1\n",
      "N_predicted: 4 | Actual N: 4 | Predicted Noise: 0.704 | Actual Noise: 0.666 | Predicted Alpha: 0.716 | Actual Alpha: 0.685 | Predicted Text: 8134 | Actual Text: 5736 | Correct: 1\n",
      "N_predicted: 4 | Actual N: 4 | Predicted Noise: 0.725 | Actual Noise: 0.766 | Predicted Alpha: 0.707 | Actual Alpha: 0.674 | Predicted Text: 5178 | Actual Text: 8179 | Correct: 2\n",
      "N_predicted: 2 | Actual N: 2 | Predicted Noise: 0.283 | Actual Noise: 0.228 | Predicted Alpha: 0.87 | Actual Alpha: 0.985 | Predicted Text: 00 | Actual Text: 50 | Correct: 1\n",
      "N_predicted: 3 | Actual N: 3 | Predicted Noise: 0.479 | Actual Noise: 0.38 | Predicted Alpha: 0.875 | Actual Alpha: 0.927 | Predicted Text: 099 | Actual Text: 808 | Correct: 0\n",
      "N_predicted: 4 | Actual N: 4 | Predicted Noise: 0.324 | Actual Noise: 0.085 | Predicted Alpha: 0.886 | Actual Alpha: 0.797 | Predicted Text: 1013 | Actual Text: 1018 | Correct: 3\n",
      "use_train = False AVG Noise Difference: 0.12587480317064817 AVG Alpha Difference: 0.05120359839625651 Total correct: 1 accuracy:1/10= 0.1 char_accuracy:12/30= 0.4\n",
      "loss at epoch 11 is 494914693565561.25; Epoch takes 217 seconds\n",
      "loss at epoch 12 is 473302338116761.94; Epoch takes 256 seconds\n",
      "loss at epoch 13 is 465848280187915.4; Epoch takes 244 seconds\n",
      "loss at epoch 14 is 447094543746795.2; Epoch takes 240 seconds\n",
      "loss at epoch 15 is 428348863332997.56; Epoch takes 245 seconds\n",
      "use_train = True AVG Noise Difference: 0.13060951807353555 AVG Alpha Difference: 0.07137704022681116 Total correct: 400 accuracy:400/3000= 0.13333333333333333 char_accuracy:4236/8950= 0.47329608938547485\n",
      "use_train = False AVG Noise Difference: 0.13181598219327567 AVG Alpha Difference: 0.07058646988460068 Total correct: 120 accuracy:120/1000= 0.12 char_accuracy:1415/2997= 0.4721388054721388\n",
      "N_predicted: 4 | Actual N: 4 | Predicted Noise: 0.255 | Actual Noise: 0.057 | Predicted Alpha: 0.88 | Actual Alpha: 0.912 | Predicted Text: 7491 | Actual Text: 7401 | Correct: 3\n",
      "N_predicted: 4 | Actual N: 4 | Predicted Noise: 0.365 | Actual Noise: 0.293 | Predicted Alpha: 0.836 | Actual Alpha: 0.842 | Predicted Text: 0648 | Actual Text: 8046 | Correct: 1\n",
      "N_predicted: 3 | Actual N: 3 | Predicted Noise: 0.357 | Actual Noise: 0.021 | Predicted Alpha: 0.882 | Actual Alpha: 0.848 | Predicted Text: 596 | Actual Text: 866 | Correct: 1\n",
      "N_predicted: 4 | Actual N: 4 | Predicted Noise: 0.343 | Actual Noise: 0.222 | Predicted Alpha: 0.873 | Actual Alpha: 0.917 | Predicted Text: 2108 | Actual Text: 7195 | Correct: 1\n",
      "N_predicted: 2 | Actual N: 2 | Predicted Noise: 0.508 | Actual Noise: 0.365 | Predicted Alpha: 0.746 | Actual Alpha: 0.614 | Predicted Text: 17 | Actual Text: 12 | Correct: 1\n",
      "N_predicted: 2 | Actual N: 2 | Predicted Noise: 0.449 | Actual Noise: 0.588 | Predicted Alpha: 0.82 | Actual Alpha: 0.85 | Predicted Text: 90 | Actual Text: 50 | Correct: 1\n",
      "N_predicted: 4 | Actual N: 4 | Predicted Noise: 0.332 | Actual Noise: 0.669 | Predicted Alpha: 0.839 | Actual Alpha: 0.937 | Predicted Text: 9078 | Actual Text: 0078 | Correct: 3\n",
      "N_predicted: 2 | Actual N: 2 | Predicted Noise: 0.292 | Actual Noise: 0.028 | Predicted Alpha: 0.869 | Actual Alpha: 0.697 | Predicted Text: 25 | Actual Text: 55 | Correct: 1\n",
      "N_predicted: 4 | Actual N: 4 | Predicted Noise: 0.315 | Actual Noise: 0.139 | Predicted Alpha: 0.855 | Actual Alpha: 0.911 | Predicted Text: 2674 | Actual Text: 0644 | Correct: 2\n",
      "N_predicted: 2 | Actual N: 2 | Predicted Noise: 0.507 | Actual Noise: 0.661 | Predicted Alpha: 0.813 | Actual Alpha: 0.847 | Predicted Text: 57 | Actual Text: 57 | Correct: 2\n",
      "use_train = False AVG Noise Difference: 0.19396522153166829 AVG Alpha Difference: 0.06369160316851685 Total correct: 1 accuracy:1/10= 0.1 char_accuracy:16/31= 0.5161290322580645\n",
      "loss at epoch 16 is 431402347819092.56; Epoch takes 245 seconds\n",
      "loss at epoch 17 is 416554643079955.8; Epoch takes 262 seconds\n",
      "loss at epoch 18 is 398272340729371.9; Epoch takes 265 seconds\n",
      "loss at epoch 19 is 399696259581241.6; Epoch takes 243 seconds\n",
      "loss at epoch 20 is 379980888641484.1; Epoch takes 235 seconds\n"
     ]
    },
    {
     "name": "stdout",
     "output_type": "stream",
     "text": [
      "use_train = True AVG Noise Difference: 0.12705671196458287 AVG Alpha Difference: 0.06959144042200792 Total correct: 538 accuracy:538/3000= 0.17933333333333334 char_accuracy:4748/8950= 0.5305027932960894\n",
      "use_train = False AVG Noise Difference: 0.12851402986511334 AVG Alpha Difference: 0.06961152061320591 Total correct: 189 accuracy:189/1000= 0.189 char_accuracy:1603/2980= 0.5379194630872484\n",
      "N_predicted: 4 | Actual N: 4 | Predicted Noise: 0.486 | Actual Noise: 0.37 | Predicted Alpha: 0.832 | Actual Alpha: 0.786 | Predicted Text: 1230 | Actual Text: 1230 | Correct: 4\n",
      "N_predicted: 2 | Actual N: 2 | Predicted Noise: 0.553 | Actual Noise: 0.471 | Predicted Alpha: 0.804 | Actual Alpha: 0.748 | Predicted Text: 44 | Actual Text: 44 | Correct: 2\n",
      "N_predicted: 2 | Actual N: 2 | Predicted Noise: 0.714 | Actual Noise: 0.797 | Predicted Alpha: 0.725 | Actual Alpha: 0.734 | Predicted Text: 19 | Actual Text: 60 | Correct: 0\n",
      "N_predicted: 2 | Actual N: 2 | Predicted Noise: 0.604 | Actual Noise: 0.691 | Predicted Alpha: 0.825 | Actual Alpha: 0.833 | Predicted Text: 58 | Actual Text: 89 | Correct: 0\n",
      "N_predicted: 4 | Actual N: 4 | Predicted Noise: 0.347 | Actual Noise: 0.352 | Predicted Alpha: 0.818 | Actual Alpha: 0.793 | Predicted Text: 5844 | Actual Text: 8614 | Correct: 1\n",
      "N_predicted: 2 | Actual N: 2 | Predicted Noise: 0.751 | Actual Noise: 0.731 | Predicted Alpha: 0.686 | Actual Alpha: 0.668 | Predicted Text: 57 | Actual Text: 57 | Correct: 2\n",
      "N_predicted: 4 | Actual N: 4 | Predicted Noise: 0.362 | Actual Noise: 0.187 | Predicted Alpha: 0.848 | Actual Alpha: 0.725 | Predicted Text: 0311 | Actual Text: 9811 | Correct: 2\n",
      "N_predicted: 2 | Actual N: 2 | Predicted Noise: 0.685 | Actual Noise: 0.592 | Predicted Alpha: 0.752 | Actual Alpha: 0.7 | Predicted Text: 59 | Actual Text: 83 | Correct: 0\n",
      "N_predicted: 2 | Actual N: 2 | Predicted Noise: 0.631 | Actual Noise: 0.599 | Predicted Alpha: 0.763 | Actual Alpha: 0.728 | Predicted Text: 18 | Actual Text: 19 | Correct: 1\n",
      "N_predicted: 2 | Actual N: 2 | Predicted Noise: 0.649 | Actual Noise: 0.79 | Predicted Alpha: 0.818 | Actual Alpha: 0.837 | Predicted Text: 60 | Actual Text: 00 | Correct: 1\n",
      "use_train = False AVG Noise Difference: 0.08325625301407845 AVG Alpha Difference: 0.039288315870287194 Total correct: 3 accuracy:3/10= 0.3 char_accuracy:13/26= 0.5\n",
      "loss at epoch 21 is 385376054068159.6; Epoch takes 220 seconds\n",
      "loss at epoch 22 is 379147621538593.1; Epoch takes 218 seconds\n",
      "loss at epoch 23 is 369991194074662.9; Epoch takes 218 seconds\n",
      "loss at epoch 24 is 355215238483933.2; Epoch takes 218 seconds\n",
      "loss at epoch 25 is 352009680580849.9; Epoch takes 218 seconds\n",
      "use_train = True AVG Noise Difference: 0.11767158581945329 AVG Alpha Difference: 0.06743181072369665 Total correct: 636 accuracy:636/3000= 0.212 char_accuracy:5173/8950= 0.5779888268156425\n",
      "use_train = False AVG Noise Difference: 0.11564570957654986 AVG Alpha Difference: 0.0641312469172529 Total correct: 263 accuracy:263/1000= 0.263 char_accuracy:1749/2984= 0.5861260053619303\n",
      "N_predicted: 4 | Actual N: 4 | Predicted Noise: 0.351 | Actual Noise: 0.332 | Predicted Alpha: 0.876 | Actual Alpha: 0.878 | Predicted Text: 7137 | Actual Text: 1132 | Correct: 2\n",
      "N_predicted: 3 | Actual N: 3 | Predicted Noise: 0.687 | Actual Noise: 0.597 | Predicted Alpha: 0.712 | Actual Alpha: 0.671 | Predicted Text: 514 | Actual Text: 473 | Correct: 0\n",
      "N_predicted: 4 | Actual N: 4 | Predicted Noise: 0.268 | Actual Noise: 0.195 | Predicted Alpha: 0.876 | Actual Alpha: 0.935 | Predicted Text: 8793 | Actual Text: 8733 | Correct: 3\n",
      "N_predicted: 2 | Actual N: 2 | Predicted Noise: 0.248 | Actual Noise: 0.065 | Predicted Alpha: 0.88 | Actual Alpha: 0.911 | Predicted Text: 75 | Actual Text: 35 | Correct: 1\n",
      "N_predicted: 4 | Actual N: 4 | Predicted Noise: 0.307 | Actual Noise: 0.654 | Predicted Alpha: 0.839 | Actual Alpha: 0.938 | Predicted Text: 9037 | Actual Text: 0031 | Correct: 2\n",
      "N_predicted: 2 | Actual N: 2 | Predicted Noise: 0.483 | Actual Noise: 0.616 | Predicted Alpha: 0.826 | Actual Alpha: 0.869 | Predicted Text: 19 | Actual Text: 12 | Correct: 1\n",
      "N_predicted: 4 | Actual N: 4 | Predicted Noise: 0.236 | Actual Noise: 0.053 | Predicted Alpha: 0.858 | Actual Alpha: 0.716 | Predicted Text: 6932 | Actual Text: 6950 | Correct: 2\n",
      "N_predicted: 4 | Actual N: 4 | Predicted Noise: 0.438 | Actual Noise: 0.376 | Predicted Alpha: 0.746 | Actual Alpha: 0.65 | Predicted Text: 2770 | Actual Text: 2770 | Correct: 4\n",
      "N_predicted: 4 | Actual N: 4 | Predicted Noise: 0.241 | Actual Noise: 0.103 | Predicted Alpha: 0.873 | Actual Alpha: 0.777 | Predicted Text: 8580 | Actual Text: 8560 | Correct: 3\n",
      "N_predicted: 4 | Actual N: 4 | Predicted Noise: 0.734 | Actual Noise: 0.729 | Predicted Alpha: 0.726 | Actual Alpha: 0.701 | Predicted Text: 2898 | Actual Text: 2698 | Correct: 3\n",
      "use_train = False AVG Noise Difference: 0.1232098387801938 AVG Alpha Difference: 0.06320852007585988 Total correct: 1 accuracy:1/10= 0.1 char_accuracy:21/35= 0.6\n",
      "loss at epoch 26 is 352712664260209.5; Epoch takes 230 seconds\n",
      "loss at epoch 27 is 340423909603587.06; Epoch takes 244 seconds\n",
      "loss at epoch 28 is 331503192440594.0; Epoch takes 240 seconds\n",
      "loss at epoch 29 is 328240082650872.4; Epoch takes 259 seconds\n",
      "loss at epoch 30 is 326919482242626.94; Epoch takes 257 seconds\n",
      "use_train = True AVG Noise Difference: 0.1330025196651682 AVG Alpha Difference: 0.06699122295650656 Total correct: 834 accuracy:834/3000= 0.278 char_accuracy:5592/8950= 0.624804469273743\n",
      "use_train = False AVG Noise Difference: 0.13334651412856185 AVG Alpha Difference: 0.06505035386106477 Total correct: 307 accuracy:307/1000= 0.307 char_accuracy:1911/2990= 0.6391304347826087\n",
      "N_predicted: 3 | Actual N: 3 | Predicted Noise: 0.427 | Actual Noise: 0.743 | Predicted Alpha: 0.889 | Actual Alpha: 0.968 | Predicted Text: 189 | Actual Text: 189 | Correct: 3\n",
      "N_predicted: 2 | Actual N: 2 | Predicted Noise: 0.748 | Actual Noise: 0.699 | Predicted Alpha: 0.765 | Actual Alpha: 0.723 | Predicted Text: 48 | Actual Text: 48 | Correct: 2\n",
      "N_predicted: 4 | Actual N: 4 | Predicted Noise: 0.417 | Actual Noise: 0.361 | Predicted Alpha: 0.87 | Actual Alpha: 0.861 | Predicted Text: 4748 | Actual Text: 4746 | Correct: 3\n",
      "N_predicted: 2 | Actual N: 2 | Predicted Noise: 0.369 | Actual Noise: 0.221 | Predicted Alpha: 0.876 | Actual Alpha: 0.881 | Predicted Text: 90 | Actual Text: 50 | Correct: 1\n",
      "N_predicted: 3 | Actual N: 3 | Predicted Noise: 0.41 | Actual Noise: 0.556 | Predicted Alpha: 0.892 | Actual Alpha: 0.979 | Predicted Text: 093 | Actual Text: 093 | Correct: 3\n",
      "N_predicted: 4 | Actual N: 4 | Predicted Noise: 0.37 | Actual Noise: 0.254 | Predicted Alpha: 0.814 | Actual Alpha: 0.741 | Predicted Text: 7194 | Actual Text: 2284 | Correct: 1\n",
      "N_predicted: 2 | Actual N: 2 | Predicted Noise: 0.731 | Actual Noise: 0.715 | Predicted Alpha: 0.69 | Actual Alpha: 0.658 | Predicted Text: 38 | Actual Text: 48 | Correct: 1\n",
      "N_predicted: 3 | Actual N: 3 | Predicted Noise: 0.317 | Actual Noise: 0.07 | Predicted Alpha: 0.893 | Actual Alpha: 0.981 | Predicted Text: 302 | Actual Text: 302 | Correct: 3\n",
      "N_predicted: 3 | Actual N: 3 | Predicted Noise: 0.596 | Actual Noise: 0.463 | Predicted Alpha: 0.794 | Actual Alpha: 0.727 | Predicted Text: 300 | Actual Text: 300 | Correct: 3\n",
      "N_predicted: 4 | Actual N: 4 | Predicted Noise: 0.749 | Actual Noise: 0.772 | Predicted Alpha: 0.65 | Actual Alpha: 0.6 | Predicted Text: 9909 | Actual Text: 9028 | Correct: 1\n",
      "use_train = False AVG Noise Difference: 0.12494129284635376 AVG Alpha Difference: 0.05333585425831163 Total correct: 5 accuracy:5/10= 0.5 char_accuracy:21/30= 0.7\n",
      "loss at epoch 31 is 313348798943157.44; Epoch takes 230 seconds\n",
      "loss at epoch 32 is 308831693743093.44; Epoch takes 257 seconds\n",
      "loss at epoch 33 is 312071180616447.6; Epoch takes 253 seconds\n",
      "loss at epoch 34 is 301018566840871.2; Epoch takes 230 seconds\n",
      "loss at epoch 35 is 309479765838240.4; Epoch takes 225 seconds\n",
      "use_train = True AVG Noise Difference: 0.11795938787475808 AVG Alpha Difference: 0.06734866639835847 Total correct: 1044 accuracy:1044/3000= 0.348 char_accuracy:6051/8950= 0.6760893854748603\n",
      "use_train = False AVG Noise Difference: 0.11916360610566476 AVG Alpha Difference: 0.06560402202376608 Total correct: 346 accuracy:346/1000= 0.346 char_accuracy:2073/3034= 0.6832564271588661\n",
      "N_predicted: 3 | Actual N: 3 | Predicted Noise: 0.413 | Actual Noise: 0.575 | Predicted Alpha: 0.868 | Actual Alpha: 0.915 | Predicted Text: 903 | Actual Text: 908 | Correct: 2\n",
      "N_predicted: 4 | Actual N: 4 | Predicted Noise: 0.43 | Actual Noise: 0.729 | Predicted Alpha: 0.862 | Actual Alpha: 0.938 | Predicted Text: 5612 | Actual Text: 5912 | Correct: 3\n",
      "N_predicted: 2 | Actual N: 2 | Predicted Noise: 0.326 | Actual Noise: 0.118 | Predicted Alpha: 0.864 | Actual Alpha: 0.764 | Predicted Text: 62 | Actual Text: 52 | Correct: 1\n"
     ]
    },
    {
     "name": "stdout",
     "output_type": "stream",
     "text": [
      "N_predicted: 4 | Actual N: 4 | Predicted Noise: 0.288 | Actual Noise: 0.163 | Predicted Alpha: 0.878 | Actual Alpha: 0.811 | Predicted Text: 5139 | Actual Text: 4139 | Correct: 3\n",
      "N_predicted: 2 | Actual N: 2 | Predicted Noise: 0.327 | Actual Noise: 0.175 | Predicted Alpha: 0.828 | Actual Alpha: 0.631 | Predicted Text: 72 | Actual Text: 23 | Correct: 0\n",
      "N_predicted: 2 | Actual N: 2 | Predicted Noise: 0.646 | Actual Noise: 0.572 | Predicted Alpha: 0.758 | Actual Alpha: 0.726 | Predicted Text: 38 | Actual Text: 38 | Correct: 2\n",
      "N_predicted: 3 | Actual N: 3 | Predicted Noise: 0.314 | Actual Noise: 0.208 | Predicted Alpha: 0.848 | Actual Alpha: 0.738 | Predicted Text: 167 | Actual Text: 168 | Correct: 2\n",
      "N_predicted: 4 | Actual N: 4 | Predicted Noise: 0.233 | Actual Noise: 0.029 | Predicted Alpha: 0.885 | Actual Alpha: 0.865 | Predicted Text: 2762 | Actual Text: 2463 | Correct: 2\n",
      "N_predicted: 3 | Actual N: 3 | Predicted Noise: 0.466 | Actual Noise: 0.331 | Predicted Alpha: 0.83 | Actual Alpha: 0.758 | Predicted Text: 742 | Actual Text: 749 | Correct: 2\n",
      "N_predicted: 4 | Actual N: 4 | Predicted Noise: 0.633 | Actual Noise: 0.552 | Predicted Alpha: 0.71 | Actual Alpha: 0.671 | Predicted Text: 7027 | Actual Text: 7024 | Correct: 3\n",
      "use_train = False AVG Noise Difference: 0.15451102127124133 AVG Alpha Difference: 0.07574335733372069 Total correct: 1 accuracy:1/10= 0.1 char_accuracy:20/31= 0.6451612903225806\n",
      "loss at epoch 36 is 290750422630479.1; Epoch takes 244 seconds\n",
      "loss at epoch 37 is 294010115288622.3; Epoch takes 233 seconds\n",
      "loss at epoch 38 is 291817993400516.0; Epoch takes 230 seconds\n",
      "loss at epoch 39 is 286674208919163.0; Epoch takes 234 seconds\n",
      "loss at epoch 40 is 284357334583237.2; Epoch takes 243 seconds\n",
      "use_train = True AVG Noise Difference: 0.11354308446027403 AVG Alpha Difference: 0.06280519886769631 Total correct: 1098 accuracy:1098/3000= 0.366 char_accuracy:6191/8950= 0.691731843575419\n",
      "use_train = False AVG Noise Difference: 0.11303449443832608 AVG Alpha Difference: 0.06108726069078721 Total correct: 393 accuracy:393/1000= 0.393 char_accuracy:2129/2996= 0.7106141522029372\n",
      "N_predicted: 2 | Actual N: 2 | Predicted Noise: 0.427 | Actual Noise: 0.377 | Predicted Alpha: 0.858 | Actual Alpha: 0.89 | Predicted Text: 28 | Actual Text: 38 | Correct: 1\n",
      "N_predicted: 4 | Actual N: 4 | Predicted Noise: 0.715 | Actual Noise: 0.784 | Predicted Alpha: 0.789 | Actual Alpha: 0.813 | Predicted Text: 1920 | Actual Text: 1929 | Correct: 3\n",
      "N_predicted: 3 | Actual N: 3 | Predicted Noise: 0.254 | Actual Noise: 0.02 | Predicted Alpha: 0.882 | Actual Alpha: 0.948 | Predicted Text: 157 | Actual Text: 137 | Correct: 2\n",
      "N_predicted: 4 | Actual N: 4 | Predicted Noise: 0.665 | Actual Noise: 0.62 | Predicted Alpha: 0.756 | Actual Alpha: 0.742 | Predicted Text: 5071 | Actual Text: 4071 | Correct: 3\n",
      "N_predicted: 3 | Actual N: 3 | Predicted Noise: 0.505 | Actual Noise: 0.49 | Predicted Alpha: 0.813 | Actual Alpha: 0.8 | Predicted Text: 186 | Actual Text: 156 | Correct: 2\n",
      "N_predicted: 2 | Actual N: 2 | Predicted Noise: 0.476 | Actual Noise: 0.405 | Predicted Alpha: 0.766 | Actual Alpha: 0.707 | Predicted Text: 35 | Actual Text: 35 | Correct: 2\n",
      "N_predicted: 4 | Actual N: 4 | Predicted Noise: 0.316 | Actual Noise: 0.359 | Predicted Alpha: 0.863 | Actual Alpha: 0.892 | Predicted Text: 9319 | Actual Text: 9370 | Correct: 2\n",
      "N_predicted: 2 | Actual N: 2 | Predicted Noise: 0.481 | Actual Noise: 0.547 | Predicted Alpha: 0.818 | Actual Alpha: 0.835 | Predicted Text: 67 | Actual Text: 58 | Correct: 0\n",
      "N_predicted: 4 | Actual N: 4 | Predicted Noise: 0.339 | Actual Noise: 0.536 | Predicted Alpha: 0.857 | Actual Alpha: 0.961 | Predicted Text: 4931 | Actual Text: 4923 | Correct: 2\n",
      "N_predicted: 3 | Actual N: 3 | Predicted Noise: 0.295 | Actual Noise: 0.108 | Predicted Alpha: 0.865 | Actual Alpha: 0.876 | Predicted Text: 272 | Actual Text: 277 | Correct: 2\n",
      "use_train = False AVG Noise Difference: 0.09788198232947407 AVG Alpha Difference: 0.03678154583747527 Total correct: 1 accuracy:1/10= 0.1 char_accuracy:19/31= 0.6129032258064516\n",
      "loss at epoch 41 is 280286098283939.97; Epoch takes 229 seconds\n",
      "loss at epoch 42 is 281210436864889.84; Epoch takes 240 seconds\n",
      "loss at epoch 43 is 266957090825172.0; Epoch takes 230 seconds\n",
      "loss at epoch 44 is 262393494423651.22; Epoch takes 244 seconds\n",
      "loss at epoch 45 is 275715398346044.75; Epoch takes 240 seconds\n",
      "use_train = True AVG Noise Difference: 0.12013087751675762 AVG Alpha Difference: 0.06682757415756012 Total correct: 1284 accuracy:1284/3000= 0.428 char_accuracy:6521/8950= 0.7286033519553072\n",
      "use_train = False AVG Noise Difference: 0.12026801990221173 AVG Alpha Difference: 0.06362566721325982 Total correct: 413 accuracy:413/1000= 0.413 char_accuracy:2235/3033= 0.7368941641938674\n",
      "N_predicted: 3 | Actual N: 3 | Predicted Noise: 0.271 | Actual Noise: 0.582 | Predicted Alpha: 0.866 | Actual Alpha: 0.973 | Predicted Text: 994 | Actual Text: 904 | Correct: 2\n",
      "N_predicted: 3 | Actual N: 3 | Predicted Noise: 0.226 | Actual Noise: 0.007 | Predicted Alpha: 0.883 | Actual Alpha: 0.846 | Predicted Text: 953 | Actual Text: 953 | Correct: 3\n",
      "N_predicted: 2 | Actual N: 2 | Predicted Noise: 0.254 | Actual Noise: 0.092 | Predicted Alpha: 0.888 | Actual Alpha: 0.989 | Predicted Text: 09 | Actual Text: 09 | Correct: 2\n",
      "N_predicted: 4 | Actual N: 4 | Predicted Noise: 0.333 | Actual Noise: 0.387 | Predicted Alpha: 0.843 | Actual Alpha: 0.863 | Predicted Text: 4517 | Actual Text: 4812 | Correct: 2\n",
      "N_predicted: 3 | Actual N: 3 | Predicted Noise: 0.467 | Actual Noise: 0.604 | Predicted Alpha: 0.865 | Actual Alpha: 0.918 | Predicted Text: 155 | Actual Text: 155 | Correct: 3\n",
      "N_predicted: 4 | Actual N: 4 | Predicted Noise: 0.43 | Actual Noise: 0.289 | Predicted Alpha: 0.808 | Actual Alpha: 0.671 | Predicted Text: 5627 | Actual Text: 8827 | Correct: 2\n",
      "N_predicted: 3 | Actual N: 3 | Predicted Noise: 0.353 | Actual Noise: 0.284 | Predicted Alpha: 0.819 | Actual Alpha: 0.765 | Predicted Text: 555 | Actual Text: 685 | Correct: 1\n",
      "N_predicted: 2 | Actual N: 2 | Predicted Noise: 0.345 | Actual Noise: 0.228 | Predicted Alpha: 0.867 | Actual Alpha: 0.85 | Predicted Text: 20 | Actual Text: 20 | Correct: 2\n",
      "N_predicted: 2 | Actual N: 2 | Predicted Noise: 0.679 | Actual Noise: 0.629 | Predicted Alpha: 0.768 | Actual Alpha: 0.745 | Predicted Text: 31 | Actual Text: 31 | Correct: 2\n",
      "N_predicted: 2 | Actual N: 2 | Predicted Noise: 0.233 | Actual Noise: 0.054 | Predicted Alpha: 0.889 | Actual Alpha: 0.916 | Predicted Text: 02 | Actual Text: 02 | Correct: 2\n",
      "use_train = False AVG Noise Difference: 0.14391657899765425 AVG Alpha Difference: 0.05779589125938669 Total correct: 6 accuracy:6/10= 0.6 char_accuracy:21/28= 0.75\n",
      "loss at epoch 46 is 260621984400900.1; Epoch takes 228 seconds\n",
      "loss at epoch 47 is 258568431664390.9; Epoch takes 230 seconds\n",
      "loss at epoch 48 is 255256582787235.06; Epoch takes 231 seconds\n",
      "loss at epoch 49 is 260844846693580.7; Epoch takes 245 seconds\n",
      "loss at epoch 50 is 246524649103548.2; Epoch takes 232 seconds\n",
      "use_train = True AVG Noise Difference: 0.12195792671871512 AVG Alpha Difference: 0.06744223373227518 Total correct: 1353 accuracy:1353/3000= 0.451 char_accuracy:6680/8950= 0.7463687150837989\n",
      "use_train = False AVG Noise Difference: 0.12458862425221519 AVG Alpha Difference: 0.06685531083617048 Total correct: 440 accuracy:440/1000= 0.44 char_accuracy:2234/3014= 0.7412076974120769\n",
      "N_predicted: 3 | Actual N: 3 | Predicted Noise: 0.4 | Actual Noise: 0.294 | Predicted Alpha: 0.851 | Actual Alpha: 0.824 | Predicted Text: 577 | Actual Text: 577 | Correct: 3\n",
      "N_predicted: 3 | Actual N: 3 | Predicted Noise: 0.302 | Actual Noise: 0.176 | Predicted Alpha: 0.879 | Actual Alpha: 0.877 | Predicted Text: 758 | Actual Text: 756 | Correct: 2\n",
      "N_predicted: 2 | Actual N: 2 | Predicted Noise: 0.715 | Actual Noise: 0.62 | Predicted Alpha: 0.753 | Actual Alpha: 0.695 | Predicted Text: 60 | Actual Text: 60 | Correct: 2\n",
      "N_predicted: 2 | Actual N: 2 | Predicted Noise: 0.242 | Actual Noise: 0.005 | Predicted Alpha: 0.892 | Actual Alpha: 0.985 | Predicted Text: 77 | Actual Text: 77 | Correct: 2\n",
      "N_predicted: 2 | Actual N: 2 | Predicted Noise: 0.548 | Actual Noise: 0.42 | Predicted Alpha: 0.759 | Actual Alpha: 0.681 | Predicted Text: 87 | Actual Text: 47 | Correct: 1\n",
      "N_predicted: 2 | Actual N: 2 | Predicted Noise: 0.28 | Actual Noise: 0.174 | Predicted Alpha: 0.889 | Actual Alpha: 0.899 | Predicted Text: 50 | Actual Text: 50 | Correct: 2\n",
      "N_predicted: 4 | Actual N: 4 | Predicted Noise: 0.281 | Actual Noise: 0.109 | Predicted Alpha: 0.895 | Actual Alpha: 0.835 | Predicted Text: 3856 | Actual Text: 6856 | Correct: 3\n"
     ]
    },
    {
     "name": "stdout",
     "output_type": "stream",
     "text": [
      "N_predicted: 4 | Actual N: 4 | Predicted Noise: 0.394 | Actual Noise: 0.261 | Predicted Alpha: 0.847 | Actual Alpha: 0.751 | Predicted Text: 6636 | Actual Text: 6536 | Correct: 3\n",
      "N_predicted: 2 | Actual N: 2 | Predicted Noise: 0.638 | Actual Noise: 0.495 | Predicted Alpha: 0.716 | Actual Alpha: 0.632 | Predicted Text: 96 | Actual Text: 96 | Correct: 2\n",
      "N_predicted: 2 | Actual N: 2 | Predicted Noise: 0.272 | Actual Noise: 0.171 | Predicted Alpha: 0.865 | Actual Alpha: 0.864 | Predicted Text: 72 | Actual Text: 72 | Correct: 2\n",
      "use_train = False AVG Noise Difference: 0.13470095436473808 AVG Alpha Difference: 0.0511559125145221 Total correct: 6 accuracy:6/10= 0.6 char_accuracy:22/26= 0.8461538461538461\n",
      "loss at epoch 51 is 252180259377449.1; Epoch takes 234 seconds\n",
      "loss at epoch 52 is 246349861971039.28; Epoch takes 231 seconds\n",
      "loss at epoch 53 is 249726712832693.38; Epoch takes 240 seconds\n",
      "loss at epoch 54 is 238886967650246.97; Epoch takes 241 seconds\n",
      "loss at epoch 55 is 241720057486069.12; Epoch takes 239 seconds\n",
      "use_train = True AVG Noise Difference: 0.13345259510013574 AVG Alpha Difference: 0.06547654685264456 Total correct: 1454 accuracy:1454/3000= 0.4846666666666667 char_accuracy:6907/8950= 0.771731843575419\n",
      "use_train = False AVG Noise Difference: 0.12925825569687877 AVG Alpha Difference: 0.0613203574100255 Total correct: 488 accuracy:488/1000= 0.488 char_accuracy:2311/2997= 0.7711044377711045\n",
      "N_predicted: 3 | Actual N: 3 | Predicted Noise: 0.477 | Actual Noise: 0.339 | Predicted Alpha: 0.836 | Actual Alpha: 0.771 | Predicted Text: 495 | Actual Text: 495 | Correct: 3\n",
      "N_predicted: 2 | Actual N: 2 | Predicted Noise: 0.317 | Actual Noise: 0.205 | Predicted Alpha: 0.887 | Actual Alpha: 0.978 | Predicted Text: 74 | Actual Text: 74 | Correct: 2\n",
      "N_predicted: 3 | Actual N: 3 | Predicted Noise: 0.653 | Actual Noise: 0.707 | Predicted Alpha: 0.855 | Actual Alpha: 0.871 | Predicted Text: 914 | Actual Text: 914 | Correct: 3\n",
      "N_predicted: 3 | Actual N: 3 | Predicted Noise: 0.385 | Actual Noise: 0.278 | Predicted Alpha: 0.86 | Actual Alpha: 0.851 | Predicted Text: 576 | Actual Text: 576 | Correct: 3\n",
      "N_predicted: 3 | Actual N: 3 | Predicted Noise: 0.446 | Actual Noise: 0.263 | Predicted Alpha: 0.883 | Actual Alpha: 0.882 | Predicted Text: 796 | Actual Text: 798 | Correct: 2\n",
      "N_predicted: 4 | Actual N: 4 | Predicted Noise: 0.625 | Actual Noise: 0.724 | Predicted Alpha: 0.837 | Actual Alpha: 0.86 | Predicted Text: 0842 | Actual Text: 0242 | Correct: 3\n",
      "N_predicted: 3 | Actual N: 3 | Predicted Noise: 0.718 | Actual Noise: 0.565 | Predicted Alpha: 0.759 | Actual Alpha: 0.7 | Predicted Text: 819 | Actual Text: 819 | Correct: 3\n",
      "N_predicted: 3 | Actual N: 3 | Predicted Noise: 0.551 | Actual Noise: 0.431 | Predicted Alpha: 0.764 | Actual Alpha: 0.721 | Predicted Text: 509 | Actual Text: 529 | Correct: 2\n",
      "N_predicted: 2 | Actual N: 2 | Predicted Noise: 0.642 | Actual Noise: 0.621 | Predicted Alpha: 0.844 | Actual Alpha: 0.828 | Predicted Text: 70 | Actual Text: 70 | Correct: 2\n",
      "N_predicted: 4 | Actual N: 4 | Predicted Noise: 0.615 | Actual Noise: 0.506 | Predicted Alpha: 0.776 | Actual Alpha: 0.741 | Predicted Text: 0454 | Actual Text: 6454 | Correct: 3\n",
      "use_train = False AVG Noise Difference: 0.10983469962863715 AVG Alpha Difference: 0.03591689403340781 Total correct: 6 accuracy:6/10= 0.6 char_accuracy:26/30= 0.8666666666666667\n",
      "loss at epoch 56 is 232464468059116.66; Epoch takes 219 seconds\n",
      "loss at epoch 57 is 236220133521058.03; Epoch takes 214 seconds\n",
      "loss at epoch 58 is 235433201823975.9; Epoch takes 243 seconds\n",
      "loss at epoch 59 is 232691888026004.16; Epoch takes 245 seconds\n",
      "loss at epoch 60 is 228355022364164.5; Epoch takes 245 seconds\n",
      "use_train = True AVG Noise Difference: 0.13151717170259117 AVG Alpha Difference: 0.06709425530516708 Total correct: 1517 accuracy:1517/3000= 0.5056666666666667 char_accuracy:6985/8950= 0.7804469273743017\n",
      "use_train = False AVG Noise Difference: 0.13082571952851274 AVG Alpha Difference: 0.06531860735794483 Total correct: 518 accuracy:518/1000= 0.518 char_accuracy:2346/2982= 0.7867203219315896\n",
      "N_predicted: 4 | Actual N: 4 | Predicted Noise: 0.307 | Actual Noise: 0.731 | Predicted Alpha: 0.864 | Actual Alpha: 0.976 | Predicted Text: 4714 | Actual Text: 1717 | Correct: 2\n",
      "N_predicted: 4 | Actual N: 4 | Predicted Noise: 0.301 | Actual Noise: 0.133 | Predicted Alpha: 0.838 | Actual Alpha: 0.766 | Predicted Text: 9252 | Actual Text: 9973 | Correct: 1\n",
      "N_predicted: 4 | Actual N: 4 | Predicted Noise: 0.388 | Actual Noise: 0.128 | Predicted Alpha: 0.893 | Actual Alpha: 0.868 | Predicted Text: 4992 | Actual Text: 4992 | Correct: 4\n",
      "N_predicted: 4 | Actual N: 4 | Predicted Noise: 0.413 | Actual Noise: 0.249 | Predicted Alpha: 0.854 | Actual Alpha: 0.779 | Predicted Text: 4282 | Actual Text: 4289 | Correct: 3\n",
      "N_predicted: 3 | Actual N: 3 | Predicted Noise: 0.332 | Actual Noise: 0.174 | Predicted Alpha: 0.803 | Actual Alpha: 0.634 | Predicted Text: 759 | Actual Text: 789 | Correct: 2\n",
      "N_predicted: 2 | Actual N: 2 | Predicted Noise: 0.539 | Actual Noise: 0.473 | Predicted Alpha: 0.836 | Actual Alpha: 0.803 | Predicted Text: 46 | Actual Text: 46 | Correct: 2\n",
      "N_predicted: 4 | Actual N: 4 | Predicted Noise: 0.533 | Actual Noise: 0.673 | Predicted Alpha: 0.877 | Actual Alpha: 0.888 | Predicted Text: 0448 | Actual Text: 0148 | Correct: 3\n",
      "N_predicted: 3 | Actual N: 3 | Predicted Noise: 0.348 | Actual Noise: 0.202 | Predicted Alpha: 0.821 | Actual Alpha: 0.684 | Predicted Text: 567 | Actual Text: 567 | Correct: 3\n",
      "N_predicted: 4 | Actual N: 4 | Predicted Noise: 0.692 | Actual Noise: 0.674 | Predicted Alpha: 0.821 | Actual Alpha: 0.817 | Predicted Text: 6286 | Actual Text: 8296 | Correct: 2\n",
      "N_predicted: 3 | Actual N: 3 | Predicted Noise: 0.552 | Actual Noise: 0.747 | Predicted Alpha: 0.905 | Actual Alpha: 0.939 | Predicted Text: 872 | Actual Text: 875 | Correct: 2\n",
      "use_train = False AVG Noise Difference: 0.1740122006029166 AVG Alpha Difference: 0.06732389447008236 Total correct: 3 accuracy:3/10= 0.3 char_accuracy:24/35= 0.6857142857142857\n",
      "loss at epoch 61 is 231822103145878.16; Epoch takes 234 seconds\n",
      "loss at epoch 62 is 220395803928313.88; Epoch takes 234 seconds\n",
      "loss at epoch 63 is 218149283940624.12; Epoch takes 244 seconds\n",
      "loss at epoch 64 is 217065030815729.6; Epoch takes 246 seconds\n",
      "loss at epoch 65 is 215387463337995.06; Epoch takes 229 seconds\n",
      "use_train = True AVG Noise Difference: 0.11739910026190858 AVG Alpha Difference: 0.06598259053539475 Total correct: 1548 accuracy:1548/3000= 0.516 char_accuracy:6976/8950= 0.7794413407821229\n",
      "use_train = False AVG Noise Difference: 0.1191967228514173 AVG Alpha Difference: 0.0661941054656209 Total correct: 508 accuracy:508/1000= 0.508 char_accuracy:2331/3005= 0.7757071547420965\n",
      "N_predicted: 3 | Actual N: 3 | Predicted Noise: 0.24 | Actual Noise: 0.082 | Predicted Alpha: 0.906 | Actual Alpha: 0.988 | Predicted Text: 075 | Actual Text: 275 | Correct: 2\n",
      "N_predicted: 2 | Actual N: 2 | Predicted Noise: 0.705 | Actual Noise: 0.714 | Predicted Alpha: 0.793 | Actual Alpha: 0.789 | Predicted Text: 42 | Actual Text: 42 | Correct: 2\n",
      "N_predicted: 2 | Actual N: 2 | Predicted Noise: 0.653 | Actual Noise: 0.512 | Predicted Alpha: 0.771 | Actual Alpha: 0.701 | Predicted Text: 38 | Actual Text: 38 | Correct: 2\n",
      "N_predicted: 3 | Actual N: 3 | Predicted Noise: 0.48 | Actual Noise: 0.793 | Predicted Alpha: 0.865 | Actual Alpha: 0.924 | Predicted Text: 314 | Actual Text: 314 | Correct: 3\n",
      "N_predicted: 2 | Actual N: 2 | Predicted Noise: 0.526 | Actual Noise: 0.787 | Predicted Alpha: 0.892 | Actual Alpha: 0.934 | Predicted Text: 77 | Actual Text: 77 | Correct: 2\n",
      "N_predicted: 2 | Actual N: 2 | Predicted Noise: 0.552 | Actual Noise: 0.424 | Predicted Alpha: 0.712 | Actual Alpha: 0.604 | Predicted Text: 05 | Actual Text: 25 | Correct: 1\n",
      "N_predicted: 2 | Actual N: 2 | Predicted Noise: 0.44 | Actual Noise: 0.388 | Predicted Alpha: 0.881 | Actual Alpha: 0.886 | Predicted Text: 64 | Actual Text: 64 | Correct: 2\n",
      "N_predicted: 3 | Actual N: 3 | Predicted Noise: 0.307 | Actual Noise: 0.195 | Predicted Alpha: 0.879 | Actual Alpha: 0.869 | Predicted Text: 267 | Actual Text: 257 | Correct: 2\n",
      "N_predicted: 3 | Actual N: 3 | Predicted Noise: 0.321 | Actual Noise: 0.192 | Predicted Alpha: 0.884 | Actual Alpha: 0.803 | Predicted Text: 832 | Actual Text: 832 | Correct: 3\n",
      "N_predicted: 3 | Actual N: 3 | Predicted Noise: 0.216 | Actual Noise: 0.064 | Predicted Alpha: 0.844 | Actual Alpha: 0.687 | Predicted Text: 025 | Actual Text: 925 | Correct: 2\n",
      "use_train = False AVG Noise Difference: 0.14539533036309144 AVG Alpha Difference: 0.06157455620329322 Total correct: 6 accuracy:6/10= 0.6 char_accuracy:21/25= 0.84\n"
     ]
    },
    {
     "name": "stdout",
     "output_type": "stream",
     "text": [
      "loss at epoch 66 is 222152830750884.44; Epoch takes 219 seconds\n",
      "loss at epoch 67 is 213938846259630.2; Epoch takes 238 seconds\n",
      "loss at epoch 68 is 208403290819666.97; Epoch takes 231 seconds\n",
      "loss at epoch 69 is 207910843549211.25; Epoch takes 214 seconds\n",
      "loss at epoch 70 is 209993165649875.2; Epoch takes 228 seconds\n",
      "use_train = True AVG Noise Difference: 0.14532157198059192 AVG Alpha Difference: 0.06985095922045224 Total correct: 1554 accuracy:1554/3000= 0.518 char_accuracy:6959/8950= 0.7775418994413408\n",
      "use_train = False AVG Noise Difference: 0.1439128829243347 AVG Alpha Difference: 0.06841082056974661 Total correct: 529 accuracy:529/1000= 0.529 char_accuracy:2362/3004= 0.7862849533954727\n",
      "N_predicted: 3 | Actual N: 3 | Predicted Noise: 0.44 | Actual Noise: 0.751 | Predicted Alpha: 0.89 | Actual Alpha: 0.948 | Predicted Text: 938 | Actual Text: 998 | Correct: 2\n",
      "N_predicted: 2 | Actual N: 2 | Predicted Noise: 0.723 | Actual Noise: 0.787 | Predicted Alpha: 0.885 | Actual Alpha: 0.888 | Predicted Text: 34 | Actual Text: 34 | Correct: 2\n",
      "N_predicted: 2 | Actual N: 2 | Predicted Noise: 0.722 | Actual Noise: 0.52 | Predicted Alpha: 0.75 | Actual Alpha: 0.656 | Predicted Text: 21 | Actual Text: 31 | Correct: 1\n",
      "N_predicted: 2 | Actual N: 2 | Predicted Noise: 0.32 | Actual Noise: 0.099 | Predicted Alpha: 0.876 | Actual Alpha: 0.759 | Predicted Text: 62 | Actual Text: 20 | Correct: 0\n",
      "N_predicted: 4 | Actual N: 4 | Predicted Noise: 0.395 | Actual Noise: 0.192 | Predicted Alpha: 0.915 | Actual Alpha: 0.966 | Predicted Text: 1759 | Actual Text: 1799 | Correct: 3\n",
      "N_predicted: 2 | Actual N: 2 | Predicted Noise: 0.496 | Actual Noise: 0.413 | Predicted Alpha: 0.879 | Actual Alpha: 0.881 | Predicted Text: 47 | Actual Text: 47 | Correct: 2\n",
      "N_predicted: 3 | Actual N: 3 | Predicted Noise: 0.262 | Actual Noise: 0.032 | Predicted Alpha: 0.865 | Actual Alpha: 0.705 | Predicted Text: 640 | Actual Text: 846 | Correct: 1\n",
      "N_predicted: 4 | Actual N: 4 | Predicted Noise: 0.407 | Actual Noise: 0.435 | Predicted Alpha: 0.9 | Actual Alpha: 0.964 | Predicted Text: 0406 | Actual Text: 9406 | Correct: 3\n",
      "N_predicted: 3 | Actual N: 3 | Predicted Noise: 0.323 | Actual Noise: 0.156 | Predicted Alpha: 0.883 | Actual Alpha: 0.833 | Predicted Text: 126 | Actual Text: 136 | Correct: 2\n",
      "N_predicted: 4 | Actual N: 4 | Predicted Noise: 0.63 | Actual Noise: 0.788 | Predicted Alpha: 0.874 | Actual Alpha: 0.892 | Predicted Text: 0498 | Actual Text: 0488 | Correct: 3\n",
      "use_train = False AVG Noise Difference: 0.16672129128416552 AVG Alpha Difference: 0.061711316016128226 Total correct: 2 accuracy:2/10= 0.2 char_accuracy:19/29= 0.6551724137931034\n",
      "loss at epoch 71 is 209304173151579.6; Epoch takes 224 seconds\n",
      "loss at epoch 72 is 212142998402061.16; Epoch takes 226 seconds\n",
      "loss at epoch 73 is 202908623698949.78; Epoch takes 222 seconds\n",
      "loss at epoch 74 is 207354915511275.12; Epoch takes 221 seconds\n",
      "loss at epoch 75 is 200318271684470.03; Epoch takes 219 seconds\n",
      "use_train = True AVG Noise Difference: 0.14113764980897023 AVG Alpha Difference: 0.063798319345999 Total correct: 1721 accuracy:1721/3000= 0.5736666666666667 char_accuracy:7308/8950= 0.8165363128491621\n",
      "use_train = False AVG Noise Difference: 0.13839503384911064 AVG Alpha Difference: 0.06070494991519609 Total correct: 548 accuracy:548/1000= 0.548 char_accuracy:2400/3003= 0.7992007992007992\n",
      "N_predicted: 2 | Actual N: 2 | Predicted Noise: 0.591 | Actual Noise: 0.429 | Predicted Alpha: 0.733 | Actual Alpha: 0.657 | Predicted Text: 55 | Actual Text: 53 | Correct: 1\n",
      "N_predicted: 3 | Actual N: 3 | Predicted Noise: 0.296 | Actual Noise: 0.228 | Predicted Alpha: 0.88 | Actual Alpha: 0.926 | Predicted Text: 104 | Actual Text: 104 | Correct: 3\n",
      "N_predicted: 3 | Actual N: 3 | Predicted Noise: 0.695 | Actual Noise: 0.646 | Predicted Alpha: 0.867 | Actual Alpha: 0.859 | Predicted Text: 567 | Actual Text: 567 | Correct: 3\n",
      "N_predicted: 3 | Actual N: 3 | Predicted Noise: 0.585 | Actual Noise: 0.506 | Predicted Alpha: 0.853 | Actual Alpha: 0.823 | Predicted Text: 953 | Actual Text: 953 | Correct: 3\n",
      "N_predicted: 3 | Actual N: 3 | Predicted Noise: 0.238 | Actual Noise: 0.026 | Predicted Alpha: 0.846 | Actual Alpha: 0.658 | Predicted Text: 576 | Actual Text: 576 | Correct: 3\n",
      "N_predicted: 4 | Actual N: 4 | Predicted Noise: 0.337 | Actual Noise: 0.294 | Predicted Alpha: 0.9 | Actual Alpha: 0.97 | Predicted Text: 3834 | Actual Text: 3834 | Correct: 4\n",
      "N_predicted: 4 | Actual N: 4 | Predicted Noise: 0.447 | Actual Noise: 0.298 | Predicted Alpha: 0.826 | Actual Alpha: 0.776 | Predicted Text: 9048 | Actual Text: 9045 | Correct: 3\n",
      "N_predicted: 3 | Actual N: 3 | Predicted Noise: 0.768 | Actual Noise: 0.659 | Predicted Alpha: 0.739 | Actual Alpha: 0.697 | Predicted Text: 019 | Actual Text: 019 | Correct: 3\n",
      "N_predicted: 3 | Actual N: 3 | Predicted Noise: 0.66 | Actual Noise: 0.523 | Predicted Alpha: 0.821 | Actual Alpha: 0.784 | Predicted Text: 689 | Actual Text: 888 | Correct: 1\n",
      "N_predicted: 3 | Actual N: 3 | Predicted Noise: 0.785 | Actual Noise: 0.771 | Predicted Alpha: 0.678 | Actual Alpha: 0.615 | Predicted Text: 473 | Actual Text: 413 | Correct: 2\n",
      "use_train = False AVG Noise Difference: 0.10196123335172466 AVG Alpha Difference: 0.06088006450075158 Total correct: 6 accuracy:6/10= 0.6 char_accuracy:26/31= 0.8387096774193549\n",
      "loss at epoch 76 is 200689305810545.62; Epoch takes 238 seconds\n",
      "loss at epoch 77 is 197772135291962.84; Epoch takes 226 seconds\n",
      "loss at epoch 78 is 199269494575393.12; Epoch takes 223 seconds\n",
      "loss at epoch 79 is 200452692344287.6; Epoch takes 223 seconds\n",
      "loss at epoch 80 is 193320205538050.44; Epoch takes 230 seconds\n",
      "use_train = True AVG Noise Difference: 0.12829351529275412 AVG Alpha Difference: 0.06980900386995123 Total correct: 1637 accuracy:1637/3000= 0.5456666666666666 char_accuracy:7149/8950= 0.7987709497206704\n",
      "use_train = False AVG Noise Difference: 0.13106985058059076 AVG Alpha Difference: 0.06979558114579593 Total correct: 553 accuracy:553/1000= 0.553 char_accuracy:2433/3031= 0.8027053777631145\n",
      "N_predicted: 2 | Actual N: 2 | Predicted Noise: 0.418 | Actual Noise: 0.335 | Predicted Alpha: 0.913 | Actual Alpha: 0.928 | Predicted Text: 87 | Actual Text: 87 | Correct: 2\n",
      "N_predicted: 4 | Actual N: 4 | Predicted Noise: 0.629 | Actual Noise: 0.461 | Predicted Alpha: 0.789 | Actual Alpha: 0.713 | Predicted Text: 1365 | Actual Text: 1365 | Correct: 4\n",
      "N_predicted: 3 | Actual N: 3 | Predicted Noise: 0.294 | Actual Noise: 0.284 | Predicted Alpha: 0.911 | Actual Alpha: 0.968 | Predicted Text: 126 | Actual Text: 726 | Correct: 2\n",
      "N_predicted: 4 | Actual N: 4 | Predicted Noise: 0.28 | Actual Noise: 0.167 | Predicted Alpha: 0.892 | Actual Alpha: 0.904 | Predicted Text: 2228 | Actual Text: 2228 | Correct: 4\n",
      "N_predicted: 2 | Actual N: 2 | Predicted Noise: 0.249 | Actual Noise: 0.012 | Predicted Alpha: 0.869 | Actual Alpha: 0.619 | Predicted Text: 55 | Actual Text: 43 | Correct: 0\n",
      "N_predicted: 2 | Actual N: 2 | Predicted Noise: 0.755 | Actual Noise: 0.678 | Predicted Alpha: 0.78 | Actual Alpha: 0.741 | Predicted Text: 32 | Actual Text: 42 | Correct: 1\n",
      "N_predicted: 2 | Actual N: 2 | Predicted Noise: 0.79 | Actual Noise: 0.764 | Predicted Alpha: 0.684 | Actual Alpha: 0.622 | Predicted Text: 55 | Actual Text: 55 | Correct: 2\n",
      "N_predicted: 4 | Actual N: 4 | Predicted Noise: 0.517 | Actual Noise: 0.336 | Predicted Alpha: 0.738 | Actual Alpha: 0.603 | Predicted Text: 1310 | Actual Text: 4917 | Correct: 1\n",
      "N_predicted: 2 | Actual N: 2 | Predicted Noise: 0.298 | Actual Noise: 0.064 | Predicted Alpha: 0.904 | Actual Alpha: 0.894 | Predicted Text: 27 | Actual Text: 27 | Correct: 2\n",
      "N_predicted: 4 | Actual N: 4 | Predicted Noise: 0.655 | Actual Noise: 0.476 | Predicted Alpha: 0.764 | Actual Alpha: 0.663 | Predicted Text: 2124 | Actual Text: 2104 | Correct: 3\n",
      "use_train = False AVG Noise Difference: 0.13082079600118557 AVG Alpha Difference: 0.07566107685696064 Total correct: 5 accuracy:5/10= 0.5 char_accuracy:21/29= 0.7241379310344828\n",
      "loss at epoch 81 is 195213873179015.25; Epoch takes 228 seconds\n",
      "loss at epoch 82 is 188036910625870.7; Epoch takes 226 seconds\n",
      "loss at epoch 83 is 190036389954676.47; Epoch takes 229 seconds\n",
      "loss at epoch 84 is 187851947357335.75; Epoch takes 230 seconds\n"
     ]
    },
    {
     "name": "stdout",
     "output_type": "stream",
     "text": [
      "loss at epoch 85 is 193293260129423.97; Epoch takes 236 seconds\n",
      "use_train = True AVG Noise Difference: 0.10748635802775969 AVG Alpha Difference: 0.06543852125503281 Total correct: 1781 accuracy:1781/3000= 0.5936666666666667 char_accuracy:7383/8950= 0.8249162011173184\n",
      "use_train = False AVG Noise Difference: 0.10641847499028788 AVG Alpha Difference: 0.06371605664886659 Total correct: 561 accuracy:561/1000= 0.561 char_accuracy:2464/3036= 0.8115942028985508\n",
      "N_predicted: 2 | Actual N: 2 | Predicted Noise: 0.396 | Actual Noise: 0.251 | Predicted Alpha: 0.833 | Actual Alpha: 0.729 | Predicted Text: 76 | Actual Text: 76 | Correct: 2\n",
      "N_predicted: 4 | Actual N: 4 | Predicted Noise: 0.356 | Actual Noise: 0.3 | Predicted Alpha: 0.823 | Actual Alpha: 0.76 | Predicted Text: 1592 | Actual Text: 1062 | Correct: 2\n",
      "N_predicted: 4 | Actual N: 4 | Predicted Noise: 0.338 | Actual Noise: 0.264 | Predicted Alpha: 0.867 | Actual Alpha: 0.816 | Predicted Text: 3697 | Actual Text: 3697 | Correct: 4\n",
      "N_predicted: 3 | Actual N: 3 | Predicted Noise: 0.226 | Actual Noise: 0.051 | Predicted Alpha: 0.89 | Actual Alpha: 0.936 | Predicted Text: 988 | Actual Text: 988 | Correct: 3\n",
      "N_predicted: 2 | Actual N: 2 | Predicted Noise: 0.326 | Actual Noise: 0.225 | Predicted Alpha: 0.787 | Actual Alpha: 0.619 | Predicted Text: 03 | Actual Text: 84 | Correct: 0\n",
      "N_predicted: 3 | Actual N: 3 | Predicted Noise: 0.703 | Actual Noise: 0.514 | Predicted Alpha: 0.713 | Actual Alpha: 0.612 | Predicted Text: 445 | Actual Text: 445 | Correct: 3\n",
      "N_predicted: 4 | Actual N: 4 | Predicted Noise: 0.777 | Actual Noise: 0.784 | Predicted Alpha: 0.771 | Actual Alpha: 0.741 | Predicted Text: 3265 | Actual Text: 3365 | Correct: 3\n",
      "N_predicted: 4 | Actual N: 4 | Predicted Noise: 0.555 | Actual Noise: 0.447 | Predicted Alpha: 0.762 | Actual Alpha: 0.7 | Predicted Text: 1704 | Actual Text: 1709 | Correct: 3\n",
      "N_predicted: 3 | Actual N: 3 | Predicted Noise: 0.682 | Actual Noise: 0.531 | Predicted Alpha: 0.719 | Actual Alpha: 0.653 | Predicted Text: 023 | Actual Text: 023 | Correct: 3\n",
      "N_predicted: 4 | Actual N: 4 | Predicted Noise: 0.246 | Actual Noise: 0.087 | Predicted Alpha: 0.889 | Actual Alpha: 0.894 | Predicted Text: 5785 | Actual Text: 5765 | Correct: 3\n",
      "use_train = False AVG Noise Difference: 0.11653843524002169 AVG Alpha Difference: 0.06955186757933529 Total correct: 5 accuracy:5/10= 0.5 char_accuracy:26/33= 0.7878787878787878\n",
      "loss at epoch 86 is 192599623638344.88; Epoch takes 232 seconds\n",
      "loss at epoch 87 is 190703536299694.16; Epoch takes 221 seconds\n",
      "loss at epoch 88 is 179646007871127.38; Epoch takes 228 seconds\n",
      "loss at epoch 89 is 185011979698228.12; Epoch takes 232 seconds\n",
      "loss at epoch 90 is 189497631143898.12; Epoch takes 233 seconds\n",
      "use_train = True AVG Noise Difference: 0.10529840454201742 AVG Alpha Difference: 0.06386392323024681 Total correct: 1682 accuracy:1682/3000= 0.5606666666666666 char_accuracy:7201/8950= 0.8045810055865922\n",
      "use_train = False AVG Noise Difference: 0.10390525774787396 AVG Alpha Difference: 0.06215684609738044 Total correct: 565 accuracy:565/1000= 0.565 char_accuracy:2455/3036= 0.8086297760210803\n",
      "N_predicted: 2 | Actual N: 2 | Predicted Noise: 0.371 | Actual Noise: 0.383 | Predicted Alpha: 0.856 | Actual Alpha: 0.832 | Predicted Text: 96 | Actual Text: 96 | Correct: 2\n",
      "N_predicted: 3 | Actual N: 3 | Predicted Noise: 0.418 | Actual Noise: 0.46 | Predicted Alpha: 0.879 | Actual Alpha: 0.885 | Predicted Text: 226 | Actual Text: 226 | Correct: 3\n",
      "N_predicted: 3 | Actual N: 3 | Predicted Noise: 0.329 | Actual Noise: 0.232 | Predicted Alpha: 0.776 | Actual Alpha: 0.626 | Predicted Text: 555 | Actual Text: 565 | Correct: 2\n",
      "N_predicted: 3 | Actual N: 3 | Predicted Noise: 0.767 | Actual Noise: 0.745 | Predicted Alpha: 0.784 | Actual Alpha: 0.755 | Predicted Text: 458 | Actual Text: 468 | Correct: 2\n",
      "N_predicted: 3 | Actual N: 3 | Predicted Noise: 0.771 | Actual Noise: 0.638 | Predicted Alpha: 0.691 | Actual Alpha: 0.604 | Predicted Text: 353 | Actual Text: 173 | Correct: 1\n",
      "N_predicted: 2 | Actual N: 2 | Predicted Noise: 0.448 | Actual Noise: 0.543 | Predicted Alpha: 0.859 | Actual Alpha: 0.876 | Predicted Text: 49 | Actual Text: 59 | Correct: 1\n",
      "N_predicted: 3 | Actual N: 3 | Predicted Noise: 0.227 | Actual Noise: 0.167 | Predicted Alpha: 0.882 | Actual Alpha: 0.872 | Predicted Text: 310 | Actual Text: 310 | Correct: 3\n",
      "N_predicted: 4 | Actual N: 4 | Predicted Noise: 0.625 | Actual Noise: 0.64 | Predicted Alpha: 0.782 | Actual Alpha: 0.785 | Predicted Text: 6077 | Actual Text: 6072 | Correct: 3\n",
      "N_predicted: 4 | Actual N: 4 | Predicted Noise: 0.599 | Actual Noise: 0.736 | Predicted Alpha: 0.832 | Actual Alpha: 0.845 | Predicted Text: 4681 | Actual Text: 4651 | Correct: 3\n",
      "N_predicted: 4 | Actual N: 4 | Predicted Noise: 0.45 | Actual Noise: 0.693 | Predicted Alpha: 0.909 | Actual Alpha: 0.966 | Predicted Text: 4143 | Actual Text: 4143 | Correct: 4\n",
      "use_train = False AVG Noise Difference: 0.08556739035004043 AVG Alpha Difference: 0.0395972957400386 Total correct: 4 accuracy:4/10= 0.4 char_accuracy:24/31= 0.7741935483870968\n",
      "loss at epoch 91 is 175672590539070.06; Epoch takes 226 seconds\n",
      "loss at epoch 92 is 181424678520877.3; Epoch takes 231 seconds\n",
      "loss at epoch 93 is 185139896532295.62; Epoch takes 223 seconds\n",
      "loss at epoch 94 is 183742277590854.72; Epoch takes 240 seconds\n",
      "loss at epoch 95 is 174676648318994.1; Epoch takes 229 seconds\n",
      "use_train = True AVG Noise Difference: 0.11422416338154263 AVG Alpha Difference: 0.0654154317700011 Total correct: 1843 accuracy:1843/3000= 0.6143333333333333 char_accuracy:7465/8950= 0.8340782122905028\n",
      "use_train = False AVG Noise Difference: 0.11630814344186345 AVG Alpha Difference: 0.0621685609195946 Total correct: 616 accuracy:616/1000= 0.616 char_accuracy:2492/2991= 0.8331661651621531\n",
      "N_predicted: 4 | Actual N: 4 | Predicted Noise: 0.715 | Actual Noise: 0.61 | Predicted Alpha: 0.802 | Actual Alpha: 0.764 | Predicted Text: 8174 | Actual Text: 8174 | Correct: 4\n",
      "N_predicted: 3 | Actual N: 3 | Predicted Noise: 0.439 | Actual Noise: 0.463 | Predicted Alpha: 0.889 | Actual Alpha: 0.894 | Predicted Text: 998 | Actual Text: 998 | Correct: 3\n",
      "N_predicted: 4 | Actual N: 4 | Predicted Noise: 0.709 | Actual Noise: 0.74 | Predicted Alpha: 0.855 | Actual Alpha: 0.845 | Predicted Text: 8937 | Actual Text: 8997 | Correct: 3\n",
      "N_predicted: 2 | Actual N: 2 | Predicted Noise: 0.538 | Actual Noise: 0.402 | Predicted Alpha: 0.716 | Actual Alpha: 0.606 | Predicted Text: 68 | Actual Text: 69 | Correct: 1\n",
      "N_predicted: 3 | Actual N: 3 | Predicted Noise: 0.436 | Actual Noise: 0.473 | Predicted Alpha: 0.847 | Actual Alpha: 0.84 | Predicted Text: 139 | Actual Text: 139 | Correct: 3\n",
      "N_predicted: 2 | Actual N: 2 | Predicted Noise: 0.745 | Actual Noise: 0.572 | Predicted Alpha: 0.71 | Actual Alpha: 0.631 | Predicted Text: 52 | Actual Text: 52 | Correct: 2\n",
      "N_predicted: 2 | Actual N: 2 | Predicted Noise: 0.455 | Actual Noise: 0.635 | Predicted Alpha: 0.866 | Actual Alpha: 0.896 | Predicted Text: 60 | Actual Text: 60 | Correct: 2\n",
      "N_predicted: 2 | Actual N: 2 | Predicted Noise: 0.437 | Actual Noise: 0.629 | Predicted Alpha: 0.881 | Actual Alpha: 0.916 | Predicted Text: 96 | Actual Text: 96 | Correct: 2\n",
      "N_predicted: 2 | Actual N: 2 | Predicted Noise: 0.263 | Actual Noise: 0.116 | Predicted Alpha: 0.878 | Actual Alpha: 0.798 | Predicted Text: 59 | Actual Text: 59 | Correct: 2\n",
      "N_predicted: 3 | Actual N: 3 | Predicted Noise: 0.204 | Actual Noise: 0.039 | Predicted Alpha: 0.898 | Actual Alpha: 0.906 | Predicted Text: 159 | Actual Text: 153 | Correct: 2\n",
      "use_train = False AVG Noise Difference: 0.11892519004714763 AVG Alpha Difference: 0.039863186224018854 Total correct: 7 accuracy:7/10= 0.7 char_accuracy:24/27= 0.8888888888888888\n",
      "loss at epoch 96 is 176601248682784.53; Epoch takes 237 seconds\n",
      "loss at epoch 97 is 175389905528476.75; Epoch takes 225 seconds\n",
      "loss at epoch 98 is 178750076462036.1; Epoch takes 234 seconds\n",
      "loss at epoch 99 is 174770499054977.12; Epoch takes 233 seconds\n",
      "loss at epoch 100 is 171886034436687.03; Epoch takes 236 seconds\n",
      "use_train = True AVG Noise Difference: 0.1367797045366187 AVG Alpha Difference: 0.06519752252545544 Total correct: 1822 accuracy:1822/3000= 0.6073333333333333 char_accuracy:7418/8950= 0.8288268156424581\n"
     ]
    },
    {
     "name": "stdout",
     "output_type": "stream",
     "text": [
      "use_train = False AVG Noise Difference: 0.14112488190936864 AVG Alpha Difference: 0.06496235322965585 Total correct: 607 accuracy:607/1000= 0.607 char_accuracy:2492/3002= 0.8301132578281146\n",
      "N_predicted: 4 | Actual N: 4 | Predicted Noise: 0.244 | Actual Noise: 0.06 | Predicted Alpha: 0.856 | Actual Alpha: 0.68 | Predicted Text: 0055 | Actual Text: 9985 | Correct: 1\n",
      "N_predicted: 3 | Actual N: 3 | Predicted Noise: 0.478 | Actual Noise: 0.456 | Predicted Alpha: 0.896 | Actual Alpha: 0.908 | Predicted Text: 946 | Actual Text: 946 | Correct: 3\n",
      "N_predicted: 3 | Actual N: 3 | Predicted Noise: 0.55 | Actual Noise: 0.699 | Predicted Alpha: 0.887 | Actual Alpha: 0.924 | Predicted Text: 287 | Actual Text: 287 | Correct: 3\n",
      "N_predicted: 2 | Actual N: 2 | Predicted Noise: 0.588 | Actual Noise: 0.393 | Predicted Alpha: 0.819 | Actual Alpha: 0.737 | Predicted Text: 25 | Actual Text: 26 | Correct: 1\n",
      "N_predicted: 4 | Actual N: 4 | Predicted Noise: 0.441 | Actual Noise: 0.297 | Predicted Alpha: 0.761 | Actual Alpha: 0.629 | Predicted Text: 1701 | Actual Text: 1701 | Correct: 4\n",
      "N_predicted: 4 | Actual N: 4 | Predicted Noise: 0.759 | Actual Noise: 0.535 | Predicted Alpha: 0.727 | Actual Alpha: 0.628 | Predicted Text: 4873 | Actual Text: 4673 | Correct: 3\n",
      "N_predicted: 2 | Actual N: 2 | Predicted Noise: 0.342 | Actual Noise: 0.634 | Predicted Alpha: 0.907 | Actual Alpha: 0.986 | Predicted Text: 58 | Actual Text: 58 | Correct: 2\n",
      "N_predicted: 4 | Actual N: 4 | Predicted Noise: 0.525 | Actual Noise: 0.485 | Predicted Alpha: 0.868 | Actual Alpha: 0.875 | Predicted Text: 5115 | Actual Text: 5115 | Correct: 4\n",
      "N_predicted: 3 | Actual N: 3 | Predicted Noise: 0.561 | Actual Noise: 0.787 | Predicted Alpha: 0.897 | Actual Alpha: 0.938 | Predicted Text: 898 | Actual Text: 898 | Correct: 3\n",
      "N_predicted: 2 | Actual N: 2 | Predicted Noise: 0.362 | Actual Noise: 0.193 | Predicted Alpha: 0.804 | Actual Alpha: 0.642 | Predicted Text: 47 | Actual Text: 47 | Correct: 2\n",
      "use_train = False AVG Noise Difference: 0.16444110564172315 AVG Alpha Difference: 0.08271997073010239 Total correct: 7 accuracy:7/10= 0.7 char_accuracy:26/31= 0.8387096774193549\n",
      "loss at epoch 101 is 174389053158449.94; Epoch takes 232 seconds\n",
      "loss at epoch 102 is 169004930285233.06; Epoch takes 232 seconds\n",
      "loss at epoch 103 is 173954999030832.47; Epoch takes 237 seconds\n",
      "loss at epoch 104 is 169287419902239.22; Epoch takes 229 seconds\n",
      "loss at epoch 105 is 166142339129445.44; Epoch takes 231 seconds\n",
      "use_train = True AVG Noise Difference: 0.12120195430290241 AVG Alpha Difference: 0.06299320347087466 Total correct: 1935 accuracy:1935/3000= 0.645 char_accuracy:7600/8950= 0.8491620111731844\n",
      "use_train = False AVG Noise Difference: 0.12411389871927044 AVG Alpha Difference: 0.06251454262126634 Total correct: 670 accuracy:670/1000= 0.67 char_accuracy:2555/2963= 0.8623017212284847\n",
      "N_predicted: 4 | Actual N: 4 | Predicted Noise: 0.347 | Actual Noise: 0.224 | Predicted Alpha: 0.831 | Actual Alpha: 0.716 | Predicted Text: 1413 | Actual Text: 1419 | Correct: 3\n",
      "N_predicted: 4 | Actual N: 4 | Predicted Noise: 0.28 | Actual Noise: 0.239 | Predicted Alpha: 0.894 | Actual Alpha: 0.982 | Predicted Text: 3688 | Actual Text: 3688 | Correct: 4\n",
      "N_predicted: 2 | Actual N: 2 | Predicted Noise: 0.682 | Actual Noise: 0.711 | Predicted Alpha: 0.842 | Actual Alpha: 0.829 | Predicted Text: 07 | Actual Text: 07 | Correct: 2\n",
      "N_predicted: 2 | Actual N: 2 | Predicted Noise: 0.614 | Actual Noise: 0.769 | Predicted Alpha: 0.895 | Actual Alpha: 0.924 | Predicted Text: 09 | Actual Text: 09 | Correct: 2\n",
      "N_predicted: 2 | Actual N: 2 | Predicted Noise: 0.656 | Actual Noise: 0.516 | Predicted Alpha: 0.763 | Actual Alpha: 0.705 | Predicted Text: 01 | Actual Text: 01 | Correct: 2\n",
      "N_predicted: 3 | Actual N: 3 | Predicted Noise: 0.48 | Actual Noise: 0.413 | Predicted Alpha: 0.867 | Actual Alpha: 0.854 | Predicted Text: 357 | Actual Text: 357 | Correct: 3\n",
      "N_predicted: 2 | Actual N: 2 | Predicted Noise: 0.247 | Actual Noise: 0.032 | Predicted Alpha: 0.87 | Actual Alpha: 0.748 | Predicted Text: 20 | Actual Text: 20 | Correct: 2\n",
      "N_predicted: 2 | Actual N: 2 | Predicted Noise: 0.277 | Actual Noise: 0.14 | Predicted Alpha: 0.883 | Actual Alpha: 0.866 | Predicted Text: 68 | Actual Text: 68 | Correct: 2\n",
      "N_predicted: 2 | Actual N: 2 | Predicted Noise: 0.62 | Actual Noise: 0.68 | Predicted Alpha: 0.868 | Actual Alpha: 0.879 | Predicted Text: 70 | Actual Text: 70 | Correct: 2\n",
      "N_predicted: 3 | Actual N: 3 | Predicted Noise: 0.268 | Actual Noise: 0.161 | Predicted Alpha: 0.861 | Actual Alpha: 0.837 | Predicted Text: 741 | Actual Text: 241 | Correct: 2\n",
      "use_train = False AVG Noise Difference: 0.10753787247429572 AVG Alpha Difference: 0.04883065533624233 Total correct: 8 accuracy:8/10= 0.8 char_accuracy:24/26= 0.9230769230769231\n",
      "loss at epoch 106 is 165776752966355.0; Epoch takes 229 seconds\n",
      "loss at epoch 107 is 166415766048607.78; Epoch takes 229 seconds\n",
      "loss at epoch 108 is 166850551615233.72; Epoch takes 234 seconds\n",
      "loss at epoch 109 is 168907455417870.9; Epoch takes 241 seconds\n",
      "loss at epoch 110 is 161587906735760.03; Epoch takes 235 seconds\n",
      "use_train = True AVG Noise Difference: 0.12128446194969138 AVG Alpha Difference: 0.065540199739932 Total correct: 1839 accuracy:1839/3000= 0.613 char_accuracy:7428/8950= 0.8299441340782123\n",
      "use_train = False AVG Noise Difference: 0.12208942965173568 AVG Alpha Difference: 0.06499490275801587 Total correct: 625 accuracy:625/1000= 0.625 char_accuracy:2440/2935= 0.8313458262350937\n",
      "N_predicted: 2 | Actual N: 2 | Predicted Noise: 0.429 | Actual Noise: 0.326 | Predicted Alpha: 0.847 | Actual Alpha: 0.778 | Predicted Text: 62 | Actual Text: 62 | Correct: 2\n",
      "N_predicted: 3 | Actual N: 3 | Predicted Noise: 0.35 | Actual Noise: 0.374 | Predicted Alpha: 0.901 | Actual Alpha: 0.968 | Predicted Text: 014 | Actual Text: 014 | Correct: 3\n",
      "N_predicted: 3 | Actual N: 3 | Predicted Noise: 0.292 | Actual Noise: 0.099 | Predicted Alpha: 0.893 | Actual Alpha: 0.875 | Predicted Text: 665 | Actual Text: 665 | Correct: 3\n",
      "N_predicted: 2 | Actual N: 2 | Predicted Noise: 0.646 | Actual Noise: 0.499 | Predicted Alpha: 0.777 | Actual Alpha: 0.719 | Predicted Text: 69 | Actual Text: 69 | Correct: 2\n",
      "N_predicted: 3 | Actual N: 3 | Predicted Noise: 0.639 | Actual Noise: 0.702 | Predicted Alpha: 0.889 | Actual Alpha: 0.896 | Predicted Text: 795 | Actual Text: 795 | Correct: 3\n",
      "N_predicted: 2 | Actual N: 2 | Predicted Noise: 0.222 | Actual Noise: 0.07 | Predicted Alpha: 0.86 | Actual Alpha: 0.716 | Predicted Text: 30 | Actual Text: 30 | Correct: 2\n",
      "N_predicted: 3 | Actual N: 3 | Predicted Noise: 0.39 | Actual Noise: 0.771 | Predicted Alpha: 0.913 | Actual Alpha: 0.98 | Predicted Text: 789 | Actual Text: 759 | Correct: 2\n",
      "N_predicted: 4 | Actual N: 4 | Predicted Noise: 0.27 | Actual Noise: 0.114 | Predicted Alpha: 0.828 | Actual Alpha: 0.646 | Predicted Text: 9512 | Actual Text: 4812 | Correct: 2\n",
      "N_predicted: 4 | Actual N: 4 | Predicted Noise: 0.718 | Actual Noise: 0.564 | Predicted Alpha: 0.811 | Actual Alpha: 0.767 | Predicted Text: 1758 | Actual Text: 1758 | Correct: 4\n",
      "N_predicted: 2 | Actual N: 2 | Predicted Noise: 0.781 | Actual Noise: 0.7 | Predicted Alpha: 0.705 | Actual Alpha: 0.631 | Predicted Text: 47 | Actual Text: 47 | Correct: 2\n",
      "use_train = False AVG Noise Difference: 0.14516842662124765 AVG Alpha Difference: 0.07316918753939633 Total correct: 8 accuracy:8/10= 0.8 char_accuracy:25/28= 0.8928571428571429\n",
      "loss at epoch 111 is 167898841898262.38; Epoch takes 230 seconds\n",
      "loss at epoch 112 is 163080182736142.0; Epoch takes 232 seconds\n",
      "loss at epoch 113 is 166296763060135.16; Epoch takes 234 seconds\n",
      "loss at epoch 114 is 168077667797238.3; Epoch takes 238 seconds\n",
      "loss at epoch 115 is 162502603944846.84; Epoch takes 227 seconds\n",
      "use_train = True AVG Noise Difference: 0.11228573906497316 AVG Alpha Difference: 0.06804185077016701 Total correct: 1973 accuracy:1973/3000= 0.6576666666666666 char_accuracy:7710/8950= 0.8614525139664805\n",
      "use_train = False AVG Noise Difference: 0.11263625211899496 AVG Alpha Difference: 0.06682166826479764 Total correct: 667 accuracy:667/1000= 0.667 char_accuracy:2594/2997= 0.8655321988655322\n",
      "N_predicted: 2 | Actual N: 2 | Predicted Noise: 0.189 | Actual Noise: 0.014 | Predicted Alpha: 0.86 | Actual Alpha: 0.694 | Predicted Text: 12 | Actual Text: 42 | Correct: 1\n",
      "N_predicted: 3 | Actual N: 3 | Predicted Noise: 0.254 | Actual Noise: 0.526 | Predicted Alpha: 0.917 | Actual Alpha: 0.985 | Predicted Text: 640 | Actual Text: 640 | Correct: 3\n",
      "N_predicted: 4 | Actual N: 4 | Predicted Noise: 0.725 | Actual Noise: 0.563 | Predicted Alpha: 0.724 | Actual Alpha: 0.658 | Predicted Text: 1270 | Actual Text: 1270 | Correct: 4\n"
     ]
    },
    {
     "name": "stdout",
     "output_type": "stream",
     "text": [
      "N_predicted: 2 | Actual N: 2 | Predicted Noise: 0.308 | Actual Noise: 0.235 | Predicted Alpha: 0.876 | Actual Alpha: 0.831 | Predicted Text: 05 | Actual Text: 05 | Correct: 2\n",
      "N_predicted: 4 | Actual N: 4 | Predicted Noise: 0.299 | Actual Noise: 0.224 | Predicted Alpha: 0.906 | Actual Alpha: 0.945 | Predicted Text: 7899 | Actual Text: 7899 | Correct: 4\n",
      "N_predicted: 3 | Actual N: 3 | Predicted Noise: 0.216 | Actual Noise: 0.106 | Predicted Alpha: 0.883 | Actual Alpha: 0.8 | Predicted Text: 124 | Actual Text: 124 | Correct: 3\n",
      "N_predicted: 3 | Actual N: 3 | Predicted Noise: 0.799 | Actual Noise: 0.788 | Predicted Alpha: 0.699 | Actual Alpha: 0.613 | Predicted Text: 723 | Actual Text: 323 | Correct: 2\n",
      "N_predicted: 2 | Actual N: 2 | Predicted Noise: 0.446 | Actual Noise: 0.317 | Predicted Alpha: 0.85 | Actual Alpha: 0.763 | Predicted Text: 10 | Actual Text: 18 | Correct: 1\n",
      "N_predicted: 2 | Actual N: 2 | Predicted Noise: 0.568 | Actual Noise: 0.444 | Predicted Alpha: 0.867 | Actual Alpha: 0.819 | Predicted Text: 91 | Actual Text: 91 | Correct: 2\n",
      "N_predicted: 2 | Actual N: 2 | Predicted Noise: 0.298 | Actual Noise: 0.615 | Predicted Alpha: 0.918 | Actual Alpha: 0.988 | Predicted Text: 29 | Actual Text: 89 | Correct: 1\n",
      "use_train = False AVG Noise Difference: 0.1447681884133019 AVG Alpha Difference: 0.07591941992818099 Total correct: 6 accuracy:6/10= 0.6 char_accuracy:23/27= 0.8518518518518519\n",
      "loss at epoch 116 is 160025940682154.6; Epoch takes 238 seconds\n",
      "loss at epoch 117 is 161845810534201.03; Epoch takes 239 seconds\n",
      "loss at epoch 118 is 155093612650137.97; Epoch takes 220 seconds\n",
      "loss at epoch 119 is 161099456137987.94; Epoch takes 212 seconds\n",
      "loss at epoch 120 is 157250658596763.6; Epoch takes 224 seconds\n",
      "use_train = True AVG Noise Difference: 0.10029526081049289 AVG Alpha Difference: 0.06021292675723319 Total correct: 1953 accuracy:1953/3000= 0.651 char_accuracy:7642/8950= 0.853854748603352\n",
      "use_train = False AVG Noise Difference: 0.10047596363951847 AVG Alpha Difference: 0.05751743281139898 Total correct: 649 accuracy:649/1000= 0.649 char_accuracy:2529/2970= 0.8515151515151516\n",
      "N_predicted: 3 | Actual N: 3 | Predicted Noise: 0.749 | Actual Noise: 0.631 | Predicted Alpha: 0.728 | Actual Alpha: 0.677 | Predicted Text: 417 | Actual Text: 417 | Correct: 3\n",
      "N_predicted: 2 | Actual N: 2 | Predicted Noise: 0.425 | Actual Noise: 0.751 | Predicted Alpha: 0.876 | Actual Alpha: 0.929 | Predicted Text: 72 | Actual Text: 72 | Correct: 2\n",
      "N_predicted: 3 | Actual N: 3 | Predicted Noise: 0.23 | Actual Noise: 0.143 | Predicted Alpha: 0.789 | Actual Alpha: 0.634 | Predicted Text: 275 | Actual Text: 278 | Correct: 2\n",
      "N_predicted: 4 | Actual N: 4 | Predicted Noise: 0.734 | Actual Noise: 0.593 | Predicted Alpha: 0.734 | Actual Alpha: 0.674 | Predicted Text: 9851 | Actual Text: 9851 | Correct: 4\n",
      "N_predicted: 3 | Actual N: 3 | Predicted Noise: 0.204 | Actual Noise: 0.054 | Predicted Alpha: 0.889 | Actual Alpha: 0.791 | Predicted Text: 026 | Actual Text: 026 | Correct: 3\n",
      "N_predicted: 4 | Actual N: 4 | Predicted Noise: 0.133 | Actual Noise: 0.02 | Predicted Alpha: 0.821 | Actual Alpha: 0.65 | Predicted Text: 3322 | Actual Text: 3329 | Correct: 3\n",
      "N_predicted: 4 | Actual N: 4 | Predicted Noise: 0.19 | Actual Noise: 0.207 | Predicted Alpha: 0.838 | Actual Alpha: 0.824 | Predicted Text: 1721 | Actual Text: 4721 | Correct: 3\n",
      "N_predicted: 3 | Actual N: 3 | Predicted Noise: 0.305 | Actual Noise: 0.255 | Predicted Alpha: 0.745 | Actual Alpha: 0.624 | Predicted Text: 107 | Actual Text: 107 | Correct: 3\n",
      "N_predicted: 3 | Actual N: 3 | Predicted Noise: 0.669 | Actual Noise: 0.521 | Predicted Alpha: 0.754 | Actual Alpha: 0.695 | Predicted Text: 641 | Actual Text: 641 | Correct: 3\n",
      "N_predicted: 2 | Actual N: 2 | Predicted Noise: 0.39 | Actual Noise: 0.601 | Predicted Alpha: 0.893 | Actual Alpha: 0.948 | Predicted Text: 75 | Actual Text: 75 | Correct: 2\n",
      "use_train = False AVG Noise Difference: 0.13609552942688538 AVG Alpha Difference: 0.08364340237773106 Total correct: 7 accuracy:7/10= 0.7 char_accuracy:28/31= 0.9032258064516129\n",
      "loss at epoch 121 is 157823477737339.22; Epoch takes 231 seconds\n",
      "loss at epoch 122 is 154671807151512.12; Epoch takes 233 seconds\n",
      "loss at epoch 123 is 153794033144768.94; Epoch takes 245 seconds\n",
      "loss at epoch 124 is 160276126015832.66; Epoch takes 257 seconds\n",
      "loss at epoch 125 is 155876631948513.38; Epoch takes 253 seconds\n",
      "use_train = True AVG Noise Difference: 0.1241255298748961 AVG Alpha Difference: 0.06027523044801129 Total correct: 2052 accuracy:2052/3000= 0.684 char_accuracy:7747/8950= 0.865586592178771\n",
      "use_train = False AVG Noise Difference: 0.12510664845766667 AVG Alpha Difference: 0.05693308888172711 Total correct: 675 accuracy:675/1000= 0.675 char_accuracy:2596/3000= 0.8653333333333333\n",
      "N_predicted: 3 | Actual N: 3 | Predicted Noise: 0.29 | Actual Noise: 0.215 | Predicted Alpha: 0.897 | Actual Alpha: 0.976 | Predicted Text: 216 | Actual Text: 216 | Correct: 3\n",
      "N_predicted: 2 | Actual N: 2 | Predicted Noise: 0.309 | Actual Noise: 0.137 | Predicted Alpha: 0.874 | Actual Alpha: 0.829 | Predicted Text: 94 | Actual Text: 94 | Correct: 2\n",
      "N_predicted: 4 | Actual N: 4 | Predicted Noise: 0.299 | Actual Noise: 0.066 | Predicted Alpha: 0.907 | Actual Alpha: 0.97 | Predicted Text: 1753 | Actual Text: 1752 | Correct: 3\n",
      "N_predicted: 3 | Actual N: 3 | Predicted Noise: 0.748 | Actual Noise: 0.785 | Predicted Alpha: 0.843 | Actual Alpha: 0.838 | Predicted Text: 983 | Actual Text: 983 | Correct: 3\n",
      "N_predicted: 3 | Actual N: 3 | Predicted Noise: 0.573 | Actual Noise: 0.417 | Predicted Alpha: 0.796 | Actual Alpha: 0.727 | Predicted Text: 514 | Actual Text: 574 | Correct: 2\n",
      "N_predicted: 4 | Actual N: 4 | Predicted Noise: 0.793 | Actual Noise: 0.779 | Predicted Alpha: 0.776 | Actual Alpha: 0.735 | Predicted Text: 6823 | Actual Text: 6824 | Correct: 3\n",
      "N_predicted: 2 | Actual N: 2 | Predicted Noise: 0.382 | Actual Noise: 0.438 | Predicted Alpha: 0.887 | Actual Alpha: 0.952 | Predicted Text: 95 | Actual Text: 35 | Correct: 1\n",
      "N_predicted: 3 | Actual N: 3 | Predicted Noise: 0.423 | Actual Noise: 0.462 | Predicted Alpha: 0.887 | Actual Alpha: 0.919 | Predicted Text: 418 | Actual Text: 418 | Correct: 3\n",
      "N_predicted: 3 | Actual N: 3 | Predicted Noise: 0.332 | Actual Noise: 0.198 | Predicted Alpha: 0.767 | Actual Alpha: 0.618 | Predicted Text: 402 | Actual Text: 209 | Correct: 1\n",
      "N_predicted: 2 | Actual N: 2 | Predicted Noise: 0.781 | Actual Noise: 0.728 | Predicted Alpha: 0.789 | Actual Alpha: 0.753 | Predicted Text: 53 | Actual Text: 53 | Correct: 2\n",
      "use_train = False AVG Noise Difference: 0.09692164435339502 AVG Alpha Difference: 0.05838371351987465 Total correct: 5 accuracy:5/10= 0.5 char_accuracy:23/29= 0.7931034482758621\n",
      "loss at epoch 126 is 162230217142333.53; Epoch takes 246 seconds\n",
      "loss at epoch 127 is 151627271210441.0; Epoch takes 225 seconds\n",
      "loss at epoch 128 is 153867521225641.4; Epoch takes 232 seconds\n",
      "loss at epoch 129 is 160911448507270.44; Epoch takes 237 seconds\n",
      "loss at epoch 130 is 150629093955589.6; Epoch takes 254 seconds\n",
      "use_train = True AVG Noise Difference: 0.13021482921468633 AVG Alpha Difference: 0.06769971770478786 Total correct: 2028 accuracy:2028/3000= 0.676 char_accuracy:7735/8950= 0.8642458100558659\n",
      "use_train = False AVG Noise Difference: 0.1278872467554241 AVG Alpha Difference: 0.06665180419915988 Total correct: 655 accuracy:655/1000= 0.655 char_accuracy:2551/2978= 0.8566151779717931\n",
      "N_predicted: 3 | Actual N: 3 | Predicted Noise: 0.266 | Actual Noise: 0.186 | Predicted Alpha: 0.794 | Actual Alpha: 0.666 | Predicted Text: 012 | Actual Text: 012 | Correct: 3\n",
      "N_predicted: 4 | Actual N: 4 | Predicted Noise: 0.389 | Actual Noise: 0.636 | Predicted Alpha: 0.894 | Actual Alpha: 0.952 | Predicted Text: 6677 | Actual Text: 6677 | Correct: 4\n",
      "N_predicted: 3 | Actual N: 3 | Predicted Noise: 0.53 | Actual Noise: 0.394 | Predicted Alpha: 0.768 | Actual Alpha: 0.685 | Predicted Text: 610 | Actual Text: 610 | Correct: 3\n",
      "N_predicted: 4 | Actual N: 4 | Predicted Noise: 0.329 | Actual Noise: 0.243 | Predicted Alpha: 0.785 | Actual Alpha: 0.621 | Predicted Text: 3607 | Actual Text: 3627 | Correct: 3\n",
      "N_predicted: 3 | Actual N: 3 | Predicted Noise: 0.357 | Actual Noise: 0.255 | Predicted Alpha: 0.892 | Actual Alpha: 0.844 | Predicted Text: 329 | Actual Text: 329 | Correct: 3\n",
      "N_predicted: 2 | Actual N: 2 | Predicted Noise: 0.296 | Actual Noise: 0.073 | Predicted Alpha: 0.903 | Actual Alpha: 0.816 | Predicted Text: 70 | Actual Text: 70 | Correct: 2\n",
      "N_predicted: 2 | Actual N: 2 | Predicted Noise: 0.512 | Actual Noise: 0.338 | Predicted Alpha: 0.743 | Actual Alpha: 0.602 | Predicted Text: 61 | Actual Text: 61 | Correct: 2\n"
     ]
    },
    {
     "name": "stdout",
     "output_type": "stream",
     "text": [
      "N_predicted: 4 | Actual N: 4 | Predicted Noise: 0.742 | Actual Noise: 0.573 | Predicted Alpha: 0.851 | Actual Alpha: 0.811 | Predicted Text: 5582 | Actual Text: 5582 | Correct: 4\n",
      "N_predicted: 2 | Actual N: 2 | Predicted Noise: 0.356 | Actual Noise: 0.157 | Predicted Alpha: 0.883 | Actual Alpha: 0.801 | Predicted Text: 32 | Actual Text: 32 | Correct: 2\n",
      "N_predicted: 4 | Actual N: 4 | Predicted Noise: 0.32 | Actual Noise: 0.351 | Predicted Alpha: 0.878 | Actual Alpha: 0.9 | Predicted Text: 4744 | Actual Text: 4744 | Correct: 4\n",
      "use_train = False AVG Noise Difference: 0.14468481896717142 AVG Alpha Difference: 0.08532850354374659 Total correct: 9 accuracy:9/10= 0.9 char_accuracy:30/31= 0.967741935483871\n",
      "loss at epoch 131 is 154789975236894.06; Epoch takes 232 seconds\n",
      "loss at epoch 132 is 152509441393825.94; Epoch takes 245 seconds\n",
      "loss at epoch 133 is 151780428073105.1; Epoch takes 255 seconds\n",
      "loss at epoch 134 is 151067743271079.72; Epoch takes 220 seconds\n",
      "loss at epoch 135 is 149795050607058.94; Epoch takes 236 seconds\n",
      "use_train = True AVG Noise Difference: 0.15258146140554657 AVG Alpha Difference: 0.06638618161193265 Total correct: 1936 accuracy:1936/3000= 0.6453333333333333 char_accuracy:7567/8950= 0.8454748603351955\n",
      "use_train = False AVG Noise Difference: 0.149887092529019 AVG Alpha Difference: 0.06544860674906364 Total correct: 628 accuracy:628/1000= 0.628 char_accuracy:2549/3044= 0.8373850197109067\n",
      "N_predicted: 3 | Actual N: 3 | Predicted Noise: 0.372 | Actual Noise: 0.201 | Predicted Alpha: 0.764 | Actual Alpha: 0.606 | Predicted Text: 270 | Actual Text: 429 | Correct: 0\n",
      "N_predicted: 2 | Actual N: 2 | Predicted Noise: 0.693 | Actual Noise: 0.583 | Predicted Alpha: 0.844 | Actual Alpha: 0.815 | Predicted Text: 46 | Actual Text: 46 | Correct: 2\n",
      "N_predicted: 4 | Actual N: 4 | Predicted Noise: 0.429 | Actual Noise: 0.269 | Predicted Alpha: 0.873 | Actual Alpha: 0.823 | Predicted Text: 4759 | Actual Text: 4150 | Correct: 2\n",
      "N_predicted: 4 | Actual N: 4 | Predicted Noise: 0.277 | Actual Noise: 0.009 | Predicted Alpha: 0.913 | Actual Alpha: 0.96 | Predicted Text: 2746 | Actual Text: 2746 | Correct: 4\n",
      "N_predicted: 3 | Actual N: 3 | Predicted Noise: 0.531 | Actual Noise: 0.358 | Predicted Alpha: 0.78 | Actual Alpha: 0.688 | Predicted Text: 567 | Actual Text: 567 | Correct: 3\n",
      "N_predicted: 4 | Actual N: 4 | Predicted Noise: 0.371 | Actual Noise: 0.259 | Predicted Alpha: 0.77 | Actual Alpha: 0.662 | Predicted Text: 3725 | Actual Text: 3298 | Correct: 1\n",
      "N_predicted: 2 | Actual N: 2 | Predicted Noise: 0.78 | Actual Noise: 0.703 | Predicted Alpha: 0.74 | Actual Alpha: 0.684 | Predicted Text: 23 | Actual Text: 23 | Correct: 2\n",
      "N_predicted: 2 | Actual N: 2 | Predicted Noise: 0.433 | Actual Noise: 0.454 | Predicted Alpha: 0.911 | Actual Alpha: 0.952 | Predicted Text: 59 | Actual Text: 59 | Correct: 2\n",
      "N_predicted: 3 | Actual N: 3 | Predicted Noise: 0.548 | Actual Noise: 0.607 | Predicted Alpha: 0.899 | Actual Alpha: 0.922 | Predicted Text: 972 | Actual Text: 972 | Correct: 3\n",
      "N_predicted: 2 | Actual N: 2 | Predicted Noise: 0.799 | Actual Noise: 0.744 | Predicted Alpha: 0.695 | Actual Alpha: 0.615 | Predicted Text: 97 | Actual Text: 97 | Correct: 2\n",
      "use_train = False AVG Noise Difference: 0.12038161106697784 AVG Alpha Difference: 0.06837671783947911 Total correct: 7 accuracy:7/10= 0.7 char_accuracy:21/29= 0.7241379310344828\n",
      "loss at epoch 136 is 151035335748719.03; Epoch takes 233 seconds\n",
      "loss at epoch 137 is 152541952256561.62; Epoch takes 228 seconds\n",
      "loss at epoch 138 is 146409784328161.22; Epoch takes 232 seconds\n",
      "loss at epoch 139 is 150339411762024.22; Epoch takes 232 seconds\n",
      "loss at epoch 140 is 155659983673874.12; Epoch takes 235 seconds\n",
      "use_train = True AVG Noise Difference: 0.1125127453764682 AVG Alpha Difference: 0.06420295341129416 Total correct: 1998 accuracy:1998/3000= 0.666 char_accuracy:7728/8950= 0.863463687150838\n",
      "use_train = False AVG Noise Difference: 0.10752353875018915 AVG Alpha Difference: 0.06041739225842089 Total correct: 660 accuracy:660/1000= 0.66 char_accuracy:2566/2994= 0.8570474281897128\n",
      "N_predicted: 4 | Actual N: 4 | Predicted Noise: 0.782 | Actual Noise: 0.73 | Predicted Alpha: 0.772 | Actual Alpha: 0.761 | Predicted Text: 4142 | Actual Text: 4144 | Correct: 3\n",
      "N_predicted: 2 | Actual N: 2 | Predicted Noise: 0.218 | Actual Noise: 0.124 | Predicted Alpha: 0.841 | Actual Alpha: 0.685 | Predicted Text: 35 | Actual Text: 43 | Correct: 0\n",
      "N_predicted: 4 | Actual N: 4 | Predicted Noise: 0.668 | Actual Noise: 0.545 | Predicted Alpha: 0.814 | Actual Alpha: 0.764 | Predicted Text: 8506 | Actual Text: 8525 | Correct: 2\n",
      "N_predicted: 4 | Actual N: 4 | Predicted Noise: 0.416 | Actual Noise: 0.362 | Predicted Alpha: 0.858 | Actual Alpha: 0.826 | Predicted Text: 1760 | Actual Text: 1755 | Correct: 2\n",
      "N_predicted: 2 | Actual N: 2 | Predicted Noise: 0.237 | Actual Noise: 0.189 | Predicted Alpha: 0.789 | Actual Alpha: 0.668 | Predicted Text: 20 | Actual Text: 90 | Correct: 1\n",
      "N_predicted: 2 | Actual N: 2 | Predicted Noise: 0.411 | Actual Noise: 0.303 | Predicted Alpha: 0.877 | Actual Alpha: 0.837 | Predicted Text: 30 | Actual Text: 30 | Correct: 2\n",
      "N_predicted: 3 | Actual N: 3 | Predicted Noise: 0.795 | Actual Noise: 0.703 | Predicted Alpha: 0.707 | Actual Alpha: 0.628 | Predicted Text: 562 | Actual Text: 562 | Correct: 3\n",
      "N_predicted: 4 | Actual N: 4 | Predicted Noise: 0.795 | Actual Noise: 0.713 | Predicted Alpha: 0.696 | Actual Alpha: 0.619 | Predicted Text: 8983 | Actual Text: 8983 | Correct: 4\n",
      "N_predicted: 3 | Actual N: 3 | Predicted Noise: 0.22 | Actual Noise: 0.018 | Predicted Alpha: 0.898 | Actual Alpha: 0.847 | Predicted Text: 128 | Actual Text: 128 | Correct: 3\n",
      "N_predicted: 4 | Actual N: 4 | Predicted Noise: 0.576 | Actual Noise: 0.542 | Predicted Alpha: 0.884 | Actual Alpha: 0.886 | Predicted Text: 6899 | Actual Text: 6899 | Correct: 4\n",
      "use_train = False AVG Noise Difference: 0.08897267784137237 AVG Alpha Difference: 0.06188856108126496 Total correct: 5 accuracy:5/10= 0.5 char_accuracy:24/32= 0.75\n",
      "loss at epoch 141 is 152738229629598.88; Epoch takes 233 seconds\n",
      "loss at epoch 142 is 150775641229266.62; Epoch takes 235 seconds\n",
      "loss at epoch 143 is 150587915584210.44; Epoch takes 221 seconds\n",
      "loss at epoch 144 is 148265334845174.72; Epoch takes 240 seconds\n",
      "loss at epoch 145 is 147290450889510.66; Epoch takes 216 seconds\n",
      "use_train = True AVG Noise Difference: 0.1062743422342803 AVG Alpha Difference: 0.0652320165803569 Total correct: 2040 accuracy:2040/3000= 0.68 char_accuracy:7768/8950= 0.8679329608938547\n",
      "use_train = False AVG Noise Difference: 0.10722643322729063 AVG Alpha Difference: 0.06078313438448089 Total correct: 694 accuracy:694/1000= 0.694 char_accuracy:2621/3010= 0.8707641196013289\n",
      "N_predicted: 4 | Actual N: 4 | Predicted Noise: 0.344 | Actual Noise: 0.286 | Predicted Alpha: 0.837 | Actual Alpha: 0.753 | Predicted Text: 9499 | Actual Text: 5489 | Correct: 2\n",
      "N_predicted: 3 | Actual N: 3 | Predicted Noise: 0.424 | Actual Noise: 0.397 | Predicted Alpha: 0.806 | Actual Alpha: 0.774 | Predicted Text: 244 | Actual Text: 244 | Correct: 3\n",
      "N_predicted: 3 | Actual N: 3 | Predicted Noise: 0.254 | Actual Noise: 0.02 | Predicted Alpha: 0.912 | Actual Alpha: 0.922 | Predicted Text: 824 | Actual Text: 824 | Correct: 3\n",
      "N_predicted: 4 | Actual N: 4 | Predicted Noise: 0.168 | Actual Noise: 0.007 | Predicted Alpha: 0.884 | Actual Alpha: 0.834 | Predicted Text: 0180 | Actual Text: 5180 | Correct: 3\n",
      "N_predicted: 4 | Actual N: 4 | Predicted Noise: 0.757 | Actual Noise: 0.591 | Predicted Alpha: 0.694 | Actual Alpha: 0.601 | Predicted Text: 3835 | Actual Text: 2895 | Correct: 2\n",
      "N_predicted: 3 | Actual N: 3 | Predicted Noise: 0.553 | Actual Noise: 0.558 | Predicted Alpha: 0.894 | Actual Alpha: 0.879 | Predicted Text: 602 | Actual Text: 622 | Correct: 2\n",
      "N_predicted: 3 | Actual N: 3 | Predicted Noise: 0.692 | Actual Noise: 0.515 | Predicted Alpha: 0.726 | Actual Alpha: 0.638 | Predicted Text: 056 | Actual Text: 088 | Correct: 1\n",
      "N_predicted: 3 | Actual N: 3 | Predicted Noise: 0.77 | Actual Noise: 0.644 | Predicted Alpha: 0.714 | Actual Alpha: 0.645 | Predicted Text: 058 | Actual Text: 058 | Correct: 3\n",
      "N_predicted: 4 | Actual N: 4 | Predicted Noise: 0.77 | Actual Noise: 0.659 | Predicted Alpha: 0.772 | Actual Alpha: 0.72 | Predicted Text: 0316 | Actual Text: 0316 | Correct: 4\n",
      "N_predicted: 4 | Actual N: 4 | Predicted Noise: 0.662 | Actual Noise: 0.598 | Predicted Alpha: 0.826 | Actual Alpha: 0.795 | Predicted Text: 2634 | Actual Text: 2894 | Correct: 2\n",
      "use_train = False AVG Noise Difference: 0.11271709995064046 AVG Alpha Difference: 0.05224283863324791 Total correct: 4 accuracy:4/10= 0.4 char_accuracy:25/35= 0.7142857142857143\n"
     ]
    },
    {
     "name": "stdout",
     "output_type": "stream",
     "text": [
      "loss at epoch 146 is 149619568244936.12; Epoch takes 218 seconds\n",
      "loss at epoch 147 is 146368475101679.34; Epoch takes 177 seconds\n",
      "loss at epoch 148 is 143825401437757.8; Epoch takes 198 seconds\n",
      "loss at epoch 149 is 145210397482222.9; Epoch takes 200 seconds\n",
      "loss at epoch 150 is 145957620251428.28; Epoch takes 197 seconds\n",
      "use_train = True AVG Noise Difference: 0.13464187905157618 AVG Alpha Difference: 0.06257084155927196 Total correct: 2128 accuracy:2128/3000= 0.7093333333333334 char_accuracy:7894/8950= 0.8820111731843575\n",
      "use_train = False AVG Noise Difference: 0.13446429981631758 AVG Alpha Difference: 0.059737747969447405 Total correct: 719 accuracy:719/1000= 0.719 char_accuracy:2628/2962= 0.887238352464551\n",
      "N_predicted: 3 | Actual N: 3 | Predicted Noise: 0.304 | Actual Noise: 0.108 | Predicted Alpha: 0.891 | Actual Alpha: 0.887 | Predicted Text: 263 | Actual Text: 263 | Correct: 3\n",
      "N_predicted: 3 | Actual N: 3 | Predicted Noise: 0.312 | Actual Noise: 0.106 | Predicted Alpha: 0.9 | Actual Alpha: 0.913 | Predicted Text: 698 | Actual Text: 688 | Correct: 2\n",
      "N_predicted: 2 | Actual N: 2 | Predicted Noise: 0.331 | Actual Noise: 0.793 | Predicted Alpha: 0.905 | Actual Alpha: 0.985 | Predicted Text: 70 | Actual Text: 70 | Correct: 2\n",
      "N_predicted: 3 | Actual N: 3 | Predicted Noise: 0.75 | Actual Noise: 0.645 | Predicted Alpha: 0.832 | Actual Alpha: 0.8 | Predicted Text: 970 | Actual Text: 970 | Correct: 3\n",
      "N_predicted: 2 | Actual N: 2 | Predicted Noise: 0.798 | Actual Noise: 0.784 | Predicted Alpha: 0.817 | Actual Alpha: 0.783 | Predicted Text: 33 | Actual Text: 43 | Correct: 1\n",
      "N_predicted: 3 | Actual N: 3 | Predicted Noise: 0.787 | Actual Noise: 0.685 | Predicted Alpha: 0.711 | Actual Alpha: 0.648 | Predicted Text: 951 | Actual Text: 951 | Correct: 3\n",
      "N_predicted: 3 | Actual N: 3 | Predicted Noise: 0.57 | Actual Noise: 0.583 | Predicted Alpha: 0.885 | Actual Alpha: 0.91 | Predicted Text: 366 | Actual Text: 366 | Correct: 3\n",
      "N_predicted: 3 | Actual N: 3 | Predicted Noise: 0.269 | Actual Noise: 0.055 | Predicted Alpha: 0.898 | Actual Alpha: 0.942 | Predicted Text: 604 | Actual Text: 604 | Correct: 3\n",
      "N_predicted: 3 | Actual N: 3 | Predicted Noise: 0.523 | Actual Noise: 0.551 | Predicted Alpha: 0.894 | Actual Alpha: 0.91 | Predicted Text: 545 | Actual Text: 545 | Correct: 3\n",
      "N_predicted: 3 | Actual N: 3 | Predicted Noise: 0.362 | Actual Noise: 0.626 | Predicted Alpha: 0.897 | Actual Alpha: 0.966 | Predicted Text: 049 | Actual Text: 049 | Correct: 3\n",
      "use_train = False AVG Noise Difference: 0.1604169239890018 AVG Alpha Difference: 0.037913890328362544 Total correct: 8 accuracy:8/10= 0.8 char_accuracy:26/28= 0.9285714285714286\n",
      "loss at epoch 151 is 147851078455962.8; Epoch takes 193 seconds\n",
      "loss at epoch 152 is 149869878058987.84; Epoch takes 192 seconds\n",
      "loss at epoch 153 is 142155140920638.25; Epoch takes 195 seconds\n",
      "loss at epoch 154 is 142999101307146.84; Epoch takes 195 seconds\n",
      "loss at epoch 155 is 141016735747374.34; Epoch takes 196 seconds\n",
      "use_train = True AVG Noise Difference: 0.10949814233658357 AVG Alpha Difference: 0.060096642923296535 Total correct: 2115 accuracy:2115/3000= 0.705 char_accuracy:7876/8950= 0.88\n",
      "use_train = False AVG Noise Difference: 0.11143814285741153 AVG Alpha Difference: 0.05910134052617433 Total correct: 719 accuracy:719/1000= 0.719 char_accuracy:2644/2993= 0.8833945873705312\n",
      "N_predicted: 2 | Actual N: 2 | Predicted Noise: 0.296 | Actual Noise: 0.213 | Predicted Alpha: 0.893 | Actual Alpha: 0.922 | Predicted Text: 12 | Actual Text: 12 | Correct: 2\n",
      "N_predicted: 4 | Actual N: 4 | Predicted Noise: 0.766 | Actual Noise: 0.757 | Predicted Alpha: 0.854 | Actual Alpha: 0.839 | Predicted Text: 5100 | Actual Text: 5100 | Correct: 4\n",
      "N_predicted: 2 | Actual N: 2 | Predicted Noise: 0.759 | Actual Noise: 0.714 | Predicted Alpha: 0.815 | Actual Alpha: 0.806 | Predicted Text: 80 | Actual Text: 80 | Correct: 2\n",
      "N_predicted: 3 | Actual N: 3 | Predicted Noise: 0.438 | Actual Noise: 0.378 | Predicted Alpha: 0.803 | Actual Alpha: 0.756 | Predicted Text: 400 | Actual Text: 400 | Correct: 3\n",
      "N_predicted: 2 | Actual N: 2 | Predicted Noise: 0.798 | Actual Noise: 0.751 | Predicted Alpha: 0.72 | Actual Alpha: 0.654 | Predicted Text: 52 | Actual Text: 52 | Correct: 2\n",
      "N_predicted: 4 | Actual N: 4 | Predicted Noise: 0.631 | Actual Noise: 0.471 | Predicted Alpha: 0.769 | Actual Alpha: 0.681 | Predicted Text: 3673 | Actual Text: 3617 | Correct: 2\n",
      "N_predicted: 3 | Actual N: 3 | Predicted Noise: 0.26 | Actual Noise: 0.324 | Predicted Alpha: 0.882 | Actual Alpha: 0.916 | Predicted Text: 136 | Actual Text: 136 | Correct: 3\n",
      "N_predicted: 2 | Actual N: 2 | Predicted Noise: 0.74 | Actual Noise: 0.638 | Predicted Alpha: 0.823 | Actual Alpha: 0.784 | Predicted Text: 18 | Actual Text: 18 | Correct: 2\n",
      "N_predicted: 2 | Actual N: 2 | Predicted Noise: 0.568 | Actual Noise: 0.669 | Predicted Alpha: 0.858 | Actual Alpha: 0.876 | Predicted Text: 32 | Actual Text: 32 | Correct: 2\n",
      "N_predicted: 2 | Actual N: 2 | Predicted Noise: 0.731 | Actual Noise: 0.674 | Predicted Alpha: 0.818 | Actual Alpha: 0.79 | Predicted Text: 26 | Actual Text: 26 | Correct: 2\n",
      "use_train = False AVG Noise Difference: 0.07272067810530684 AVG Alpha Difference: 0.03744469486257903 Total correct: 9 accuracy:9/10= 0.9 char_accuracy:24/26= 0.9230769230769231\n",
      "loss at epoch 156 is 147373685075087.3; Epoch takes 192 seconds\n",
      "loss at epoch 157 is 144027063363557.62; Epoch takes 192 seconds\n",
      "loss at epoch 158 is 142450483036759.34; Epoch takes 197 seconds\n",
      "loss at epoch 159 is 142182063745775.75; Epoch takes 197 seconds\n",
      "loss at epoch 160 is 143620783484552.28; Epoch takes 195 seconds\n",
      "use_train = True AVG Noise Difference: 0.13351706155816162 AVG Alpha Difference: 0.06499475529567865 Total correct: 2104 accuracy:2104/3000= 0.7013333333333334 char_accuracy:7842/8950= 0.8762011173184358\n",
      "use_train = False AVG Noise Difference: 0.1346077355516091 AVG Alpha Difference: 0.06337399883440428 Total correct: 711 accuracy:711/1000= 0.711 char_accuracy:2633/2988= 0.8811914323962516\n",
      "N_predicted: 4 | Actual N: 4 | Predicted Noise: 0.4 | Actual Noise: 0.207 | Predicted Alpha: 0.921 | Actual Alpha: 0.905 | Predicted Text: 4458 | Actual Text: 4458 | Correct: 4\n",
      "N_predicted: 4 | Actual N: 4 | Predicted Noise: 0.703 | Actual Noise: 0.591 | Predicted Alpha: 0.807 | Actual Alpha: 0.78 | Predicted Text: 6672 | Actual Text: 6672 | Correct: 4\n",
      "N_predicted: 4 | Actual N: 4 | Predicted Noise: 0.21 | Actual Noise: 0.009 | Predicted Alpha: 0.902 | Actual Alpha: 0.981 | Predicted Text: 8321 | Actual Text: 5321 | Correct: 3\n",
      "N_predicted: 2 | Actual N: 2 | Predicted Noise: 0.262 | Actual Noise: 0.056 | Predicted Alpha: 0.863 | Actual Alpha: 0.681 | Predicted Text: 02 | Actual Text: 09 | Correct: 1\n",
      "N_predicted: 4 | Actual N: 4 | Predicted Noise: 0.313 | Actual Noise: 0.186 | Predicted Alpha: 0.848 | Actual Alpha: 0.732 | Predicted Text: 5810 | Actual Text: 5810 | Correct: 4\n",
      "N_predicted: 4 | Actual N: 4 | Predicted Noise: 0.494 | Actual Noise: 0.438 | Predicted Alpha: 0.859 | Actual Alpha: 0.848 | Predicted Text: 9760 | Actual Text: 6760 | Correct: 3\n",
      "N_predicted: 2 | Actual N: 2 | Predicted Noise: 0.705 | Actual Noise: 0.508 | Predicted Alpha: 0.839 | Actual Alpha: 0.776 | Predicted Text: 06 | Actual Text: 06 | Correct: 2\n",
      "N_predicted: 3 | Actual N: 3 | Predicted Noise: 0.419 | Actual Noise: 0.69 | Predicted Alpha: 0.92 | Actual Alpha: 0.973 | Predicted Text: 782 | Actual Text: 782 | Correct: 3\n",
      "N_predicted: 4 | Actual N: 4 | Predicted Noise: 0.377 | Actual Noise: 0.274 | Predicted Alpha: 0.795 | Actual Alpha: 0.713 | Predicted Text: 6456 | Actual Text: 8456 | Correct: 3\n",
      "N_predicted: 3 | Actual N: 3 | Predicted Noise: 0.574 | Actual Noise: 0.391 | Predicted Alpha: 0.765 | Actual Alpha: 0.664 | Predicted Text: 799 | Actual Text: 798 | Correct: 2\n",
      "use_train = False AVG Noise Difference: 0.164849991480913 AVG Alpha Difference: 0.07293307152913142 Total correct: 5 accuracy:5/10= 0.5 char_accuracy:29/34= 0.8529411764705882\n",
      "loss at epoch 161 is 143590035484757.9; Epoch takes 193 seconds\n",
      "loss at epoch 162 is 140810911240133.2; Epoch takes 192 seconds\n",
      "loss at epoch 163 is 140623274453754.31; Epoch takes 197 seconds\n",
      "loss at epoch 164 is 144817876726269.94; Epoch takes 196 seconds\n"
     ]
    },
    {
     "name": "stdout",
     "output_type": "stream",
     "text": [
      "loss at epoch 165 is 140232498111025.27; Epoch takes 202 seconds\n",
      "use_train = True AVG Noise Difference: 0.14518409811007207 AVG Alpha Difference: 0.06823280095028916 Total correct: 1963 accuracy:1963/3000= 0.6543333333333333 char_accuracy:7652/8950= 0.8549720670391061\n",
      "use_train = False AVG Noise Difference: 0.1419871560620238 AVG Alpha Difference: 0.062037938134641014 Total correct: 690 accuracy:690/1000= 0.69 char_accuracy:2605/2997= 0.8692025358692025\n",
      "N_predicted: 4 | Actual N: 4 | Predicted Noise: 0.605 | Actual Noise: 0.39 | Predicted Alpha: 0.812 | Actual Alpha: 0.72 | Predicted Text: 9597 | Actual Text: 9547 | Correct: 3\n",
      "N_predicted: 2 | Actual N: 2 | Predicted Noise: 0.796 | Actual Noise: 0.693 | Predicted Alpha: 0.744 | Actual Alpha: 0.673 | Predicted Text: 54 | Actual Text: 54 | Correct: 2\n",
      "N_predicted: 4 | Actual N: 4 | Predicted Noise: 0.734 | Actual Noise: 0.682 | Predicted Alpha: 0.829 | Actual Alpha: 0.82 | Predicted Text: 5017 | Actual Text: 5017 | Correct: 4\n",
      "N_predicted: 3 | Actual N: 3 | Predicted Noise: 0.401 | Actual Noise: 0.485 | Predicted Alpha: 0.929 | Actual Alpha: 0.986 | Predicted Text: 209 | Actual Text: 209 | Correct: 3\n",
      "N_predicted: 4 | Actual N: 4 | Predicted Noise: 0.345 | Actual Noise: 0.181 | Predicted Alpha: 0.847 | Actual Alpha: 0.724 | Predicted Text: 1325 | Actual Text: 1426 | Correct: 2\n",
      "N_predicted: 4 | Actual N: 4 | Predicted Noise: 0.238 | Actual Noise: 0.105 | Predicted Alpha: 0.821 | Actual Alpha: 0.671 | Predicted Text: 5806 | Actual Text: 5866 | Correct: 3\n",
      "N_predicted: 2 | Actual N: 2 | Predicted Noise: 0.536 | Actual Noise: 0.373 | Predicted Alpha: 0.715 | Actual Alpha: 0.607 | Predicted Text: 55 | Actual Text: 55 | Correct: 2\n",
      "N_predicted: 4 | Actual N: 4 | Predicted Noise: 0.328 | Actual Noise: 0.172 | Predicted Alpha: 0.888 | Actual Alpha: 0.844 | Predicted Text: 6128 | Actual Text: 6128 | Correct: 4\n",
      "N_predicted: 4 | Actual N: 4 | Predicted Noise: 0.8 | Actual Noise: 0.796 | Predicted Alpha: 0.731 | Actual Alpha: 0.66 | Predicted Text: 2525 | Actual Text: 2523 | Correct: 3\n",
      "N_predicted: 4 | Actual N: 4 | Predicted Noise: 0.43 | Actual Noise: 0.588 | Predicted Alpha: 0.914 | Actual Alpha: 0.969 | Predicted Text: 1603 | Actual Text: 1603 | Correct: 4\n",
      "use_train = False AVG Noise Difference: 0.1230091235639943 AVG Alpha Difference: 0.07813986842023023 Total correct: 6 accuracy:6/10= 0.6 char_accuracy:30/35= 0.8571428571428571\n",
      "loss at epoch 166 is 142903957002586.44; Epoch takes 211 seconds\n"
     ]
    },
    {
     "ename": "KeyboardInterrupt",
     "evalue": "",
     "output_type": "error",
     "traceback": [
      "\u001b[1;31m---------------------------------------------------------------------------\u001b[0m",
      "\u001b[1;31mKeyboardInterrupt\u001b[0m                         Traceback (most recent call last)",
      "\u001b[1;32m~\\AppData\\Local\\Temp/ipykernel_26936/654627463.py\u001b[0m in \u001b[0;36m<module>\u001b[1;34m\u001b[0m\n\u001b[0;32m    180\u001b[0m \u001b[0mcsis\u001b[0m \u001b[1;33m=\u001b[0m \u001b[0mpyro\u001b[0m\u001b[1;33m.\u001b[0m\u001b[0minfer\u001b[0m\u001b[1;33m.\u001b[0m\u001b[0mCSIS\u001b[0m\u001b[1;33m(\u001b[0m\u001b[0mcaptchaModel\u001b[0m\u001b[1;33m.\u001b[0m\u001b[0mmodel_rec\u001b[0m\u001b[1;33m,\u001b[0m \u001b[0mcaptchaModel\u001b[0m\u001b[1;33m.\u001b[0m\u001b[0mguide\u001b[0m\u001b[1;33m,\u001b[0m \u001b[0moptimiser\u001b[0m\u001b[1;33m,\u001b[0m \u001b[0mnum_inference_samples\u001b[0m\u001b[1;33m=\u001b[0m\u001b[1;36m1\u001b[0m\u001b[1;33m)\u001b[0m\u001b[1;33m\u001b[0m\u001b[1;33m\u001b[0m\u001b[0m\n\u001b[0;32m    181\u001b[0m \u001b[1;33m\u001b[0m\u001b[0m\n\u001b[1;32m--> 182\u001b[1;33m \u001b[0moptimize\u001b[0m\u001b[1;33m(\u001b[0m\u001b[1;36m1\u001b[0m\u001b[1;33m,\u001b[0m \u001b[0mUSE_CUDA\u001b[0m\u001b[1;33m)\u001b[0m\u001b[1;33m\u001b[0m\u001b[1;33m\u001b[0m\u001b[0m\n\u001b[0m\u001b[0;32m    183\u001b[0m \u001b[1;31m# test_cycle(USE_CUDA)\u001b[0m\u001b[1;33m\u001b[0m\u001b[1;33m\u001b[0m\u001b[1;33m\u001b[0m\u001b[0m\n\u001b[0;32m    184\u001b[0m \u001b[0msave_metric_to_disk\u001b[0m\u001b[1;33m(\u001b[0m\u001b[1;34m\"captcha_metrics_mixture_large_manual_var_n_digit_loud.json\"\u001b[0m\u001b[1;33m)\u001b[0m\u001b[1;33m\u001b[0m\u001b[1;33m\u001b[0m\u001b[0m\n",
      "\u001b[1;32m~\\AppData\\Local\\Temp/ipykernel_26936/4203677847.py\u001b[0m in \u001b[0;36moptimize\u001b[1;34m(start_epoch, use_cuda)\u001b[0m\n\u001b[0;32m     22\u001b[0m     \u001b[0mprint\u001b[0m\u001b[1;33m(\u001b[0m\u001b[1;34m\"Optimizing...\"\u001b[0m\u001b[1;33m)\u001b[0m\u001b[1;33m\u001b[0m\u001b[1;33m\u001b[0m\u001b[0m\n\u001b[0;32m     23\u001b[0m     \u001b[1;32mfor\u001b[0m \u001b[0mt\u001b[0m \u001b[1;32min\u001b[0m \u001b[0mrange\u001b[0m\u001b[1;33m(\u001b[0m\u001b[0mstart_epoch\u001b[0m\u001b[1;33m,\u001b[0m \u001b[0mnum_steps\u001b[0m \u001b[1;33m+\u001b[0m \u001b[1;36m1\u001b[0m\u001b[1;33m)\u001b[0m\u001b[1;33m:\u001b[0m\u001b[1;33m\u001b[0m\u001b[1;33m\u001b[0m\u001b[0m\n\u001b[1;32m---> 24\u001b[1;33m         \u001b[0mL\u001b[0m \u001b[1;33m=\u001b[0m \u001b[0minference\u001b[0m\u001b[1;33m(\u001b[0m\u001b[0mt\u001b[0m\u001b[1;33m,\u001b[0m \u001b[0muse_cuda\u001b[0m\u001b[1;33m)\u001b[0m\u001b[1;33m\u001b[0m\u001b[1;33m\u001b[0m\u001b[0m\n\u001b[0m\u001b[0;32m     25\u001b[0m         \u001b[0mloss_sequence\u001b[0m\u001b[1;33m.\u001b[0m\u001b[0mappend\u001b[0m\u001b[1;33m(\u001b[0m\u001b[0mL\u001b[0m\u001b[1;33m)\u001b[0m\u001b[1;33m\u001b[0m\u001b[1;33m\u001b[0m\u001b[0m\n\u001b[0;32m     26\u001b[0m         \u001b[0mlosses\u001b[0m\u001b[1;33m.\u001b[0m\u001b[0mappend\u001b[0m\u001b[1;33m(\u001b[0m\u001b[0mL\u001b[0m\u001b[1;33m)\u001b[0m\u001b[1;33m\u001b[0m\u001b[1;33m\u001b[0m\u001b[0m\n",
      "\u001b[1;32m~\\AppData\\Local\\Temp/ipykernel_26936/2493560371.py\u001b[0m in \u001b[0;36minference\u001b[1;34m(t, use_cuda)\u001b[0m\n\u001b[0;32m     13\u001b[0m             \u001b[0mimg\u001b[0m \u001b[1;33m=\u001b[0m \u001b[0mimg\u001b[0m\u001b[1;33m.\u001b[0m\u001b[0mcuda\u001b[0m\u001b[1;33m(\u001b[0m\u001b[1;33m)\u001b[0m\u001b[1;33m\u001b[0m\u001b[1;33m\u001b[0m\u001b[0m\n\u001b[0;32m     14\u001b[0m         \u001b[0mIMG\u001b[0m \u001b[1;33m=\u001b[0m \u001b[1;33m{\u001b[0m\u001b[1;34m\"captcha\"\u001b[0m \u001b[1;33m:\u001b[0m \u001b[0mimg\u001b[0m\u001b[1;33m}\u001b[0m\u001b[1;33m\u001b[0m\u001b[1;33m\u001b[0m\u001b[0m\n\u001b[1;32m---> 15\u001b[1;33m         \u001b[0mimme_loss\u001b[0m \u001b[1;33m=\u001b[0m \u001b[0mcsis\u001b[0m\u001b[1;33m.\u001b[0m\u001b[0mstep\u001b[0m\u001b[1;33m(\u001b[0m\u001b[0mobservations\u001b[0m\u001b[1;33m=\u001b[0m\u001b[0mIMG\u001b[0m\u001b[1;33m)\u001b[0m\u001b[1;33m\u001b[0m\u001b[1;33m\u001b[0m\u001b[0m\n\u001b[0m\u001b[0;32m     16\u001b[0m         \u001b[0mloss\u001b[0m \u001b[1;33m+=\u001b[0m \u001b[0mimme_loss\u001b[0m \u001b[1;33m/\u001b[0m \u001b[0mlength\u001b[0m\u001b[1;33m\u001b[0m\u001b[1;33m\u001b[0m\u001b[0m\n\u001b[0;32m     17\u001b[0m \u001b[1;33m\u001b[0m\u001b[0m\n",
      "\u001b[1;32m~\\anaconda3\\envs\\pyro-env\\lib\\site-packages\\pyro\\infer\\csis.py\u001b[0m in \u001b[0;36mstep\u001b[1;34m(self, *args, **kwargs)\u001b[0m\n\u001b[0;32m     75\u001b[0m         \"\"\"\n\u001b[0;32m     76\u001b[0m         \u001b[1;32mwith\u001b[0m \u001b[0mpoutine\u001b[0m\u001b[1;33m.\u001b[0m\u001b[0mtrace\u001b[0m\u001b[1;33m(\u001b[0m\u001b[0mparam_only\u001b[0m\u001b[1;33m=\u001b[0m\u001b[1;32mTrue\u001b[0m\u001b[1;33m)\u001b[0m \u001b[1;32mas\u001b[0m \u001b[0mparam_capture\u001b[0m\u001b[1;33m:\u001b[0m\u001b[1;33m\u001b[0m\u001b[1;33m\u001b[0m\u001b[0m\n\u001b[1;32m---> 77\u001b[1;33m             \u001b[0mloss\u001b[0m \u001b[1;33m=\u001b[0m \u001b[0mself\u001b[0m\u001b[1;33m.\u001b[0m\u001b[0mloss_and_grads\u001b[0m\u001b[1;33m(\u001b[0m\u001b[1;32mTrue\u001b[0m\u001b[1;33m,\u001b[0m \u001b[1;32mNone\u001b[0m\u001b[1;33m,\u001b[0m \u001b[1;33m*\u001b[0m\u001b[0margs\u001b[0m\u001b[1;33m,\u001b[0m \u001b[1;33m**\u001b[0m\u001b[0mkwargs\u001b[0m\u001b[1;33m)\u001b[0m\u001b[1;33m\u001b[0m\u001b[1;33m\u001b[0m\u001b[0m\n\u001b[0m\u001b[0;32m     78\u001b[0m \u001b[1;33m\u001b[0m\u001b[0m\n\u001b[0;32m     79\u001b[0m         params = set(\n",
      "\u001b[1;32m~\\anaconda3\\envs\\pyro-env\\lib\\site-packages\\pyro\\infer\\csis.py\u001b[0m in \u001b[0;36mloss_and_grads\u001b[1;34m(self, grads, batch, *args, **kwargs)\u001b[0m\n\u001b[0;32m    114\u001b[0m         \u001b[1;32mfor\u001b[0m \u001b[0mmodel_trace\u001b[0m \u001b[1;32min\u001b[0m \u001b[0mbatch\u001b[0m\u001b[1;33m:\u001b[0m\u001b[1;33m\u001b[0m\u001b[1;33m\u001b[0m\u001b[0m\n\u001b[0;32m    115\u001b[0m             \u001b[1;32mwith\u001b[0m \u001b[0mpoutine\u001b[0m\u001b[1;33m.\u001b[0m\u001b[0mtrace\u001b[0m\u001b[1;33m(\u001b[0m\u001b[0mparam_only\u001b[0m\u001b[1;33m=\u001b[0m\u001b[1;32mTrue\u001b[0m\u001b[1;33m)\u001b[0m \u001b[1;32mas\u001b[0m \u001b[0mparticle_param_capture\u001b[0m\u001b[1;33m:\u001b[0m\u001b[1;33m\u001b[0m\u001b[1;33m\u001b[0m\u001b[0m\n\u001b[1;32m--> 116\u001b[1;33m                 \u001b[0mguide_trace\u001b[0m \u001b[1;33m=\u001b[0m \u001b[0mself\u001b[0m\u001b[1;33m.\u001b[0m\u001b[0m_get_matched_trace\u001b[0m\u001b[1;33m(\u001b[0m\u001b[0mmodel_trace\u001b[0m\u001b[1;33m,\u001b[0m \u001b[1;33m*\u001b[0m\u001b[0margs\u001b[0m\u001b[1;33m,\u001b[0m \u001b[1;33m**\u001b[0m\u001b[0mkwargs\u001b[0m\u001b[1;33m)\u001b[0m\u001b[1;33m\u001b[0m\u001b[1;33m\u001b[0m\u001b[0m\n\u001b[0m\u001b[0;32m    117\u001b[0m             \u001b[0mparticle_loss\u001b[0m \u001b[1;33m=\u001b[0m \u001b[0mself\u001b[0m\u001b[1;33m.\u001b[0m\u001b[0m_differentiable_loss_particle\u001b[0m\u001b[1;33m(\u001b[0m\u001b[0mguide_trace\u001b[0m\u001b[1;33m)\u001b[0m\u001b[1;33m\u001b[0m\u001b[1;33m\u001b[0m\u001b[0m\n\u001b[0;32m    118\u001b[0m             \u001b[0mparticle_loss\u001b[0m \u001b[1;33m/=\u001b[0m \u001b[0mbatch_size\u001b[0m\u001b[1;33m\u001b[0m\u001b[1;33m\u001b[0m\u001b[0m\n",
      "\u001b[1;32m~\\anaconda3\\envs\\pyro-env\\lib\\site-packages\\pyro\\infer\\csis.py\u001b[0m in \u001b[0;36m_get_matched_trace\u001b[1;34m(self, model_trace, *args, **kwargs)\u001b[0m\n\u001b[0;32m    179\u001b[0m                 \u001b[0mkwargs\u001b[0m\u001b[1;33m[\u001b[0m\u001b[1;34m\"observations\"\u001b[0m\u001b[1;33m]\u001b[0m\u001b[1;33m[\u001b[0m\u001b[0mnode\u001b[0m\u001b[1;33m]\u001b[0m \u001b[1;33m=\u001b[0m \u001b[0mmodel_trace\u001b[0m\u001b[1;33m.\u001b[0m\u001b[0mnodes\u001b[0m\u001b[1;33m[\u001b[0m\u001b[0mnode\u001b[0m\u001b[1;33m]\u001b[0m\u001b[1;33m[\u001b[0m\u001b[1;34m\"value\"\u001b[0m\u001b[1;33m]\u001b[0m\u001b[1;33m\u001b[0m\u001b[1;33m\u001b[0m\u001b[0m\n\u001b[0;32m    180\u001b[0m \u001b[1;33m\u001b[0m\u001b[0m\n\u001b[1;32m--> 181\u001b[1;33m         guide_trace = poutine.trace(poutine.replay(self.guide, model_trace)).get_trace(\n\u001b[0m\u001b[0;32m    182\u001b[0m             \u001b[1;33m*\u001b[0m\u001b[0margs\u001b[0m\u001b[1;33m,\u001b[0m \u001b[1;33m**\u001b[0m\u001b[0mkwargs\u001b[0m\u001b[1;33m\u001b[0m\u001b[1;33m\u001b[0m\u001b[0m\n\u001b[0;32m    183\u001b[0m         )\n",
      "\u001b[1;32m~\\anaconda3\\envs\\pyro-env\\lib\\site-packages\\pyro\\poutine\\trace_messenger.py\u001b[0m in \u001b[0;36mget_trace\u001b[1;34m(self, *args, **kwargs)\u001b[0m\n\u001b[0;32m    196\u001b[0m         \u001b[0mCalls\u001b[0m \u001b[0mthis\u001b[0m \u001b[0mpoutine\u001b[0m \u001b[1;32mand\u001b[0m \u001b[0mreturns\u001b[0m \u001b[0mits\u001b[0m \u001b[0mtrace\u001b[0m \u001b[0minstead\u001b[0m \u001b[0mof\u001b[0m \u001b[0mthe\u001b[0m \u001b[0mfunction\u001b[0m\u001b[0;31m'\u001b[0m\u001b[0ms\u001b[0m \u001b[1;32mreturn\u001b[0m \u001b[0mvalue\u001b[0m\u001b[1;33m.\u001b[0m\u001b[1;33m\u001b[0m\u001b[1;33m\u001b[0m\u001b[0m\n\u001b[0;32m    197\u001b[0m         \"\"\"\n\u001b[1;32m--> 198\u001b[1;33m         \u001b[0mself\u001b[0m\u001b[1;33m(\u001b[0m\u001b[1;33m*\u001b[0m\u001b[0margs\u001b[0m\u001b[1;33m,\u001b[0m \u001b[1;33m**\u001b[0m\u001b[0mkwargs\u001b[0m\u001b[1;33m)\u001b[0m\u001b[1;33m\u001b[0m\u001b[1;33m\u001b[0m\u001b[0m\n\u001b[0m\u001b[0;32m    199\u001b[0m         \u001b[1;32mreturn\u001b[0m \u001b[0mself\u001b[0m\u001b[1;33m.\u001b[0m\u001b[0mmsngr\u001b[0m\u001b[1;33m.\u001b[0m\u001b[0mget_trace\u001b[0m\u001b[1;33m(\u001b[0m\u001b[1;33m)\u001b[0m\u001b[1;33m\u001b[0m\u001b[1;33m\u001b[0m\u001b[0m\n",
      "\u001b[1;32m~\\anaconda3\\envs\\pyro-env\\lib\\site-packages\\pyro\\poutine\\trace_messenger.py\u001b[0m in \u001b[0;36m__call__\u001b[1;34m(self, *args, **kwargs)\u001b[0m\n\u001b[0;32m    172\u001b[0m             )\n\u001b[0;32m    173\u001b[0m             \u001b[1;32mtry\u001b[0m\u001b[1;33m:\u001b[0m\u001b[1;33m\u001b[0m\u001b[1;33m\u001b[0m\u001b[0m\n\u001b[1;32m--> 174\u001b[1;33m                 \u001b[0mret\u001b[0m \u001b[1;33m=\u001b[0m \u001b[0mself\u001b[0m\u001b[1;33m.\u001b[0m\u001b[0mfn\u001b[0m\u001b[1;33m(\u001b[0m\u001b[1;33m*\u001b[0m\u001b[0margs\u001b[0m\u001b[1;33m,\u001b[0m \u001b[1;33m**\u001b[0m\u001b[0mkwargs\u001b[0m\u001b[1;33m)\u001b[0m\u001b[1;33m\u001b[0m\u001b[1;33m\u001b[0m\u001b[0m\n\u001b[0m\u001b[0;32m    175\u001b[0m             \u001b[1;32mexcept\u001b[0m \u001b[1;33m(\u001b[0m\u001b[0mValueError\u001b[0m\u001b[1;33m,\u001b[0m \u001b[0mRuntimeError\u001b[0m\u001b[1;33m)\u001b[0m \u001b[1;32mas\u001b[0m \u001b[0me\u001b[0m\u001b[1;33m:\u001b[0m\u001b[1;33m\u001b[0m\u001b[1;33m\u001b[0m\u001b[0m\n\u001b[0;32m    176\u001b[0m                 \u001b[0mexc_type\u001b[0m\u001b[1;33m,\u001b[0m \u001b[0mexc_value\u001b[0m\u001b[1;33m,\u001b[0m \u001b[0mtraceback\u001b[0m \u001b[1;33m=\u001b[0m \u001b[0msys\u001b[0m\u001b[1;33m.\u001b[0m\u001b[0mexc_info\u001b[0m\u001b[1;33m(\u001b[0m\u001b[1;33m)\u001b[0m\u001b[1;33m\u001b[0m\u001b[1;33m\u001b[0m\u001b[0m\n",
      "\u001b[1;32m~\\anaconda3\\envs\\pyro-env\\lib\\site-packages\\pyro\\poutine\\messenger.py\u001b[0m in \u001b[0;36m_context_wrap\u001b[1;34m(context, fn, *args, **kwargs)\u001b[0m\n\u001b[0;32m     10\u001b[0m \u001b[1;32mdef\u001b[0m \u001b[0m_context_wrap\u001b[0m\u001b[1;33m(\u001b[0m\u001b[0mcontext\u001b[0m\u001b[1;33m,\u001b[0m \u001b[0mfn\u001b[0m\u001b[1;33m,\u001b[0m \u001b[1;33m*\u001b[0m\u001b[0margs\u001b[0m\u001b[1;33m,\u001b[0m \u001b[1;33m**\u001b[0m\u001b[0mkwargs\u001b[0m\u001b[1;33m)\u001b[0m\u001b[1;33m:\u001b[0m\u001b[1;33m\u001b[0m\u001b[1;33m\u001b[0m\u001b[0m\n\u001b[0;32m     11\u001b[0m     \u001b[1;32mwith\u001b[0m \u001b[0mcontext\u001b[0m\u001b[1;33m:\u001b[0m\u001b[1;33m\u001b[0m\u001b[1;33m\u001b[0m\u001b[0m\n\u001b[1;32m---> 12\u001b[1;33m         \u001b[1;32mreturn\u001b[0m \u001b[0mfn\u001b[0m\u001b[1;33m(\u001b[0m\u001b[1;33m*\u001b[0m\u001b[0margs\u001b[0m\u001b[1;33m,\u001b[0m \u001b[1;33m**\u001b[0m\u001b[0mkwargs\u001b[0m\u001b[1;33m)\u001b[0m\u001b[1;33m\u001b[0m\u001b[1;33m\u001b[0m\u001b[0m\n\u001b[0m\u001b[0;32m     13\u001b[0m \u001b[1;33m\u001b[0m\u001b[0m\n\u001b[0;32m     14\u001b[0m \u001b[1;33m\u001b[0m\u001b[0m\n",
      "\u001b[1;32m~\\AppData\\Local\\Temp/ipykernel_26936/654627463.py\u001b[0m in \u001b[0;36mguide\u001b[1;34m(self, observations)\u001b[0m\n\u001b[0;32m     42\u001b[0m     \u001b[1;32mdef\u001b[0m \u001b[0mguide\u001b[0m\u001b[1;33m(\u001b[0m\u001b[0mself\u001b[0m\u001b[1;33m,\u001b[0m \u001b[0mobservations\u001b[0m\u001b[1;33m=\u001b[0m\u001b[1;33m{\u001b[0m\u001b[1;34m\"captcha\"\u001b[0m\u001b[1;33m:\u001b[0m \u001b[0mtorch\u001b[0m\u001b[1;33m.\u001b[0m\u001b[0mrand\u001b[0m\u001b[1;33m(\u001b[0m\u001b[1;36m1\u001b[0m\u001b[1;33m,\u001b[0m \u001b[0mcaptchaHeight\u001b[0m\u001b[1;33m,\u001b[0m \u001b[0mcaptchaWidth\u001b[0m\u001b[1;33m)\u001b[0m\u001b[1;33m}\u001b[0m\u001b[1;33m)\u001b[0m\u001b[1;33m:\u001b[0m\u001b[1;33m\u001b[0m\u001b[1;33m\u001b[0m\u001b[0m\n\u001b[0;32m     43\u001b[0m         \u001b[0mpyro\u001b[0m\u001b[1;33m.\u001b[0m\u001b[0mmodule\u001b[0m\u001b[1;33m(\u001b[0m\u001b[1;34m\"guide\"\u001b[0m\u001b[1;33m,\u001b[0m \u001b[0mself\u001b[0m\u001b[1;33m)\u001b[0m\u001b[1;33m\u001b[0m\u001b[1;33m\u001b[0m\u001b[0m\n\u001b[1;32m---> 44\u001b[1;33m         \u001b[0mimg\u001b[0m \u001b[1;33m=\u001b[0m \u001b[0mobservations\u001b[0m\u001b[1;33m[\u001b[0m\u001b[1;34m\"captcha\"\u001b[0m\u001b[1;33m]\u001b[0m\u001b[1;33m.\u001b[0m\u001b[0mfloat\u001b[0m\u001b[1;33m(\u001b[0m\u001b[1;33m)\u001b[0m\u001b[1;33m\u001b[0m\u001b[1;33m\u001b[0m\u001b[0m\n\u001b[0m\u001b[0;32m     45\u001b[0m         \u001b[0mBS\u001b[0m \u001b[1;33m=\u001b[0m \u001b[0mimg\u001b[0m\u001b[1;33m.\u001b[0m\u001b[0mshape\u001b[0m\u001b[1;33m[\u001b[0m\u001b[1;36m0\u001b[0m\u001b[1;33m]\u001b[0m\u001b[1;33m\u001b[0m\u001b[1;33m\u001b[0m\u001b[0m\n\u001b[0;32m     46\u001b[0m         \u001b[0mimg_flatten\u001b[0m \u001b[1;33m=\u001b[0m \u001b[0mimg\u001b[0m\u001b[1;33m.\u001b[0m\u001b[0mreshape\u001b[0m\u001b[1;33m(\u001b[0m\u001b[1;33m-\u001b[0m\u001b[1;36m1\u001b[0m\u001b[1;33m,\u001b[0m \u001b[0mcaptchaHeight\u001b[0m \u001b[1;33m*\u001b[0m \u001b[0mcaptchaWidth\u001b[0m\u001b[1;33m)\u001b[0m\u001b[1;33m.\u001b[0m\u001b[0mfloat\u001b[0m\u001b[1;33m(\u001b[0m\u001b[1;33m)\u001b[0m\u001b[1;33m\u001b[0m\u001b[1;33m\u001b[0m\u001b[0m\n",
      "\u001b[1;31mKeyboardInterrupt\u001b[0m: "
     ]
    }
   ],
   "source": [
    "class CaptchaModel(nn.Module):\n",
    "    \"\"\"\n",
    "    network, model and guide wrapper class\n",
    "    \"\"\"\n",
    "    def __init__(self, use_cuda=False):\n",
    "        super().__init__()\n",
    "        self.num_char_domain = torch.arange(MIN_N, MAX_N + 1)\n",
    "        if use_cuda:\n",
    "            self.num_char_domain = self.num_char_domain.cuda()\n",
    "        self.numNet = NumNet((captchaHeight, captchaWidth), len(self.num_char_domain))\n",
    "        self.noiseNet = NoiseAlphaNet((captchaHeight, captchaWidth), 1)\n",
    "        self.alphaNet = NoiseAlphaNet((captchaHeight, captchaWidth), 1)\n",
    "        self.noiseChannelExtract = NoiseChannelExtract((captchaHeight, captchaWidth))\n",
    "        self.charChannelExtract = ChannelExtract((captchaHeight, captchaWidth))\n",
    "        self.char_dict = char_dict # letter dictionary\n",
    "        self.charNet = CharNetSingle((captchaHeight, captchaWidth), len(self.char_dict), MAX_N) # with noise\n",
    "        self.noise_constraint = torch.distributions.constraints.interval(MIN_NOISE, MAX_NOISE)\n",
    "        self.alpha_constraint = torch.distributions.constraints.interval(blend_alpha_min, blend_alpha_max)\n",
    "        self.hid_net = simpleNN(captchaHeight * captchaWidth + hidden_state_dim + len(char_dict) + MAX_N + 1, hidden=512, out_size = hidden_state_dim, t = \"mlp\")\n",
    "        self.h0 = nn.Parameter(torch.zeros(hidden_state_dim))\n",
    "        self.noise_dim = 64\n",
    "            \n",
    "        if use_cuda:\n",
    "            self.cuda()\n",
    "        self.use_cuda = use_cuda\n",
    "    \n",
    "    def _map_to_noise_range(self, input):\n",
    "        \"\"\"\n",
    "        map input number to the valid noise range\n",
    "        \"\"\"\n",
    "        input = torch.distributions.transform_to(self.noise_constraint)(input)\n",
    "        return input\n",
    "    \n",
    "    def _map_to_alpha_range(self, input):\n",
    "        input = torch.distributions.transform_to(self.alpha_constraint)(input)\n",
    "        return input\n",
    "\n",
    "    # update from old captcha model/guide:\n",
    "    # using mask to zero out index > num_char, this is a generalization of the previous version where we take the mean \n",
    "    # and assume num_char is the same for the entire batch\n",
    "\n",
    "    def guide(self, observations={\"captcha\": torch.rand(1, captchaHeight, captchaWidth)}):\n",
    "        pyro.module(\"guide\", self)\n",
    "        img = observations[\"captcha\"].float()\n",
    "        BS = img.shape[0]\n",
    "        img_flatten = img.reshape(-1, captchaHeight * captchaWidth).float()\n",
    "        \n",
    "        with pyro.plate(\"data\", img.shape[0]):\n",
    "            \n",
    "            prob = self.numNet(img)\n",
    "            #prob = torch.mean(prob, dim=0)\n",
    "            N_index = pyro.sample(\"num_char\", dist.Categorical(prob).to_event(0))\n",
    "            N_index = torch.add(N_index, self.num_char_domain[0])\n",
    "            \n",
    "            alpha_mean, alpha_sig, _ = self.alphaNet(img)\n",
    "            alpha = pyro.sample(\"alpha\", dist.Normal(alpha_mean, alpha_sig).to_event(1))\n",
    "            \n",
    "            charChannel_mean, charChannel_sig = self.charChannelExtract(img, alpha)\n",
    "            charChannel = pyro.sample(\"char_channel\", dist.Normal(charChannel_mean, charChannel_sig).to_event(2))\n",
    "            noiseChannel_mean, noiseChannel_sig = self.noiseChannelExtract(img, alpha)\n",
    "            noiseChannel = pyro.sample(\"noise_channel\", dist.Normal(noiseChannel_mean, noiseChannel_sig).to_event(2))\n",
    "            noise_mean, noise_sig, noise_map = self.noiseNet(noiseChannel)\n",
    "            noise_batch = pyro.sample(\"noise\", dist.Normal(noise_mean, noise_sig).to_event(1))\n",
    "            #noise_batch = self._map_to_noise_range(noise_batch)\n",
    "            h = self.h0.expand(BS, -1)\n",
    "            \n",
    "            for i in range(MAX_N):\n",
    "                # tranform index to one-hot representation\n",
    "                i_input = torch.tensor(i)\n",
    "                if USE_CUDA:\n",
    "                    i_input = i_input.cuda()\n",
    "                sample_mask = i < N_index    \n",
    "                i_input = F.one_hot(i_input, num_classes=MAX_N).float()\n",
    "                i_input = i_input.repeat(BS, 1)\n",
    "                charP_i = self.charNet(charChannel, h, noise_batch)\n",
    "                c_i = pyro.sample(\"char_{}\".format(i), dist.Categorical(charP_i).mask(sample_mask).to_event(0))\n",
    "                c_i = F.one_hot(c_i, num_classes=len(self.char_dict)).float()\n",
    "                # update the hidden state\n",
    "                h = self.hid_net([img_flatten, h, c_i, i_input, sample_mask.float().unsqueeze(1)])\n",
    "\n",
    "    def model_rec(self, observations={\"captcha\": torch.rand(1, captchaHeight, captchaWidth)}):\n",
    "        \n",
    "        BS = observations[\"captcha\"].shape[0]\n",
    "        \n",
    "        with pyro.plate(\"data\", BS):\n",
    "            \n",
    "            num_p = torch.tensor(1 / len(self.num_char_domain)).repeat(len(self.num_char_domain)).unsqueeze(0).repeat(BS, 1)\n",
    "        \n",
    "            if self.use_cuda:\n",
    "                num_p = num_p.cuda()\n",
    "\n",
    "            # sample the number of characters\n",
    "            N_index = pyro.sample(\"num_char\", dist.Categorical(num_p).to_event(0))\n",
    "            \n",
    "            N_index = torch.add(N_index,  self.num_char_domain[0])\n",
    "            \n",
    "            \n",
    "            alpha_mean = torch.tensor((blend_alpha_min - blend_alpha_max) / 2).repeat((BS, 1))\n",
    "            alpha_sig = torch.tensor(0.5).repeat((BS, 1))\n",
    "            if self.use_cuda:\n",
    "                alpha_mean = alpha_mean.cuda()\n",
    "                alpha_sig = alpha_sig.cuda()\n",
    "            alpha = pyro.sample(\"alpha\", dist.Normal(alpha_mean, alpha_sig).to_event(1))\n",
    "            alpha = self._map_to_alpha_range(alpha)\n",
    "            \n",
    "            noise_mean = torch.tensor((MAX_NOISE - MIN_NOISE) / 2).repeat((BS, 1))\n",
    "            noise_sig = torch.tensor(0.5).repeat((BS, 1))\n",
    "            if self.use_cuda:\n",
    "                noise_mean = noise_mean.cuda()\n",
    "                noise_sig = noise_sig.cuda()\n",
    "            noise_batch = pyro.sample(\"noise\", dist.Normal(noise_mean, noise_sig).to_event(1))\n",
    "            noise_batch = self._map_to_noise_range(noise_batch)\n",
    "            \n",
    "            sampled_c = []\n",
    "            \n",
    "            def _rec(i):\n",
    "                if i < MAX_N:\n",
    "                    sample_mask = i < N_index\n",
    "                    num_c_i = torch.tensor(1 / len(self.char_dict)).repeat((BS, len(self.char_dict)))\n",
    "                    if self.use_cuda:\n",
    "                        num_c_i = num_c_i.cuda()\n",
    "                    c_i = pyro.sample(\"char_{}\".format(i), dist.Categorical(num_c_i).mask(sample_mask).to_event(0))\n",
    "                    sampled_c.append((sample_mask, c_i))\n",
    "                    _rec(i + 1)\n",
    "            _rec(0)\n",
    "                \n",
    "            # sample characters\n",
    "            rendered_char_channels = []\n",
    "            \n",
    "            # does not contain any sample statements\n",
    "            def _render_imgs(i):\n",
    "                \n",
    "                def _get_chars(j, chars, i):\n",
    "                    if j < MAX_N:\n",
    "                        if sampled_c[j][0][i]:\n",
    "                            chars += self.char_dict[sampled_c[j][1][i]]\n",
    "                            return _get_chars(j + 1, chars, i)\n",
    "                    return chars\n",
    "    \n",
    "                if i < BS:\n",
    "                    chars = _get_chars(0, \"\", i)\n",
    "                    rendered_char_channel = render_image(chars, noise=0., use_cuda=self.use_cuda)\n",
    "                    rendered_char_channels.append(rendered_char_channel)\n",
    "                    _render_imgs(i + 1)\n",
    "                    \n",
    "            _render_imgs(0)\n",
    "            \n",
    "            rendered_char_channels = torch.stack(rendered_char_channels)\n",
    "            noise_channel_loc = noise_batch.unsqueeze(2).repeat(1, captchaHeight, captchaWidth)\n",
    "            noise_channel_sig = noise_sig.unsqueeze(2).repeat(1, captchaHeight, captchaWidth)\n",
    "            sigma = torch.tensor(0.0001)\n",
    "            if self.use_cuda:\n",
    "                sigma = sigma.cuda()\n",
    "            \n",
    "            noise_channels = pyro.sample(\"noise_channel\", dist.Normal(1 - noise_channel_loc, noise_channel_sig).to_event(2))\n",
    "            char_channels = pyro.sample(\"char_channel\", dist.Normal(rendered_char_channels, sigma).to_event(2))\n",
    "            \n",
    "        \n",
    "        noise_channels_max = torch.ones_like(noise_channels)\n",
    "        noise_channels_min = torch.zeros_like(noise_channels)\n",
    "        noise_channels = torch.maximum(torch.minimum(noise_channels, noise_channels_max), noise_channels_min)\n",
    "        noise_channels = noise_channels - 0.5\n",
    "        \n",
    "        alpha = alpha.unsqueeze(-1).repeat(1, char_channels.shape[1], char_channels.shape[2])\n",
    "        blended_image = alpha  * char_channels + (1- alpha) * noise_channels\n",
    "        \n",
    "        sigma_obs = torch.tensor(0.000001)\n",
    "        if self.use_cuda:\n",
    "                sigma_obs = sigma_obs.cuda()\n",
    "#         print(\"observations\", observations[\"captcha\"])\n",
    "#         print(\"blended_image\", blended_image)\n",
    "#         print(\"noise_channels\", noise_channels)\n",
    "#         print(\"char_channels\", char_channels)\n",
    "\n",
    "        pyro.sample(\"captcha\", dist.Normal(blended_image, sigma_obs).to_event(2), obs=observations[\"captcha\"])\n",
    "\n",
    "captchaModel = CaptchaModel(USE_CUDA)\n",
    "\n",
    "optimiser = pyro.optim.Adam({'lr': 5e-5})\n",
    "csis = pyro.infer.CSIS(captchaModel.model_rec, captchaModel.guide, optimiser, num_inference_samples=1)\n",
    "\n",
    "optimize(1, USE_CUDA)\n",
    "# test_cycle(USE_CUDA)\n",
    "save_metric_to_disk(\"captcha_metrics_mixture_large_manual_var_n_digit_loud.json\")\n"
   ]
  },
  {
   "cell_type": "code",
   "execution_count": 20,
   "id": "66dc2a98",
   "metadata": {},
   "outputs": [],
   "source": [
    "save_metric_to_disk(\"captcha_metrics_mixture_large_manual_var_n_digit_loud_fix.json\")"
   ]
  },
  {
   "cell_type": "markdown",
   "id": "32bbde90",
   "metadata": {},
   "source": [
    "Logs"
   ]
  },
  {
   "cell_type": "code",
   "execution_count": null,
   "id": "45c2e1c0",
   "metadata": {},
   "outputs": [],
   "source": []
  },
  {
   "cell_type": "code",
   "execution_count": null,
   "id": "1db93859",
   "metadata": {},
   "outputs": [],
   "source": []
  },
  {
   "cell_type": "code",
   "execution_count": null,
   "id": "c7faf922",
   "metadata": {},
   "outputs": [],
   "source": []
  },
  {
   "cell_type": "code",
   "execution_count": null,
   "id": "swiss-sister",
   "metadata": {
    "id": "swiss-sister"
   },
   "outputs": [],
   "source": []
  },
  {
   "cell_type": "code",
   "execution_count": null,
   "id": "genetic-difficulty",
   "metadata": {
    "id": "genetic-difficulty"
   },
   "outputs": [],
   "source": []
  }
 ],
 "metadata": {
  "accelerator": "GPU",
  "colab": {
   "collapsed_sections": [],
   "name": "Captcha_CSIS_CUDA-noCor_single_FNN-Branches-1-no-var-no-tanh.ipynb",
   "provenance": []
  },
  "kernelspec": {
   "display_name": "Python 3 (ipykernel)",
   "language": "python",
   "name": "python3"
  },
  "language_info": {
   "codemirror_mode": {
    "name": "ipython",
    "version": 3
   },
   "file_extension": ".py",
   "mimetype": "text/x-python",
   "name": "python",
   "nbconvert_exporter": "python",
   "pygments_lexer": "ipython3",
   "version": "3.8.11"
  }
 },
 "nbformat": 4,
 "nbformat_minor": 5
}
